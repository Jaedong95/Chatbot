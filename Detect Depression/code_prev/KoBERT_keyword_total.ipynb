{
 "cells": [
  {
   "cell_type": "raw",
   "metadata": {},
   "source": [
    "from tensorflow.python.client import device_lib\n",
    "\n",
    "print(device_lib.list_local_devices())"
   ]
  },
  {
   "cell_type": "markdown",
   "metadata": {
    "id": "TcMAFxQpDavF"
   },
   "source": [
    "[코드]\n",
    "후기 데이터셋 이용하여 KOBERT 모델 학습하고, 저장 "
   ]
  },
  {
   "cell_type": "code",
   "execution_count": 1,
   "metadata": {
    "id": "Q3vHY0gPzmRk"
   },
   "outputs": [],
   "source": [
    "import pandas as pd "
   ]
  },
  {
   "cell_type": "code",
   "execution_count": 2,
   "metadata": {},
   "outputs": [],
   "source": [
    "data_path = '/home/ubuntu/chatbot/dataset/'"
   ]
  },
  {
   "cell_type": "code",
   "execution_count": 3,
   "metadata": {
    "colab": {
     "base_uri": "https://localhost:8080/",
     "height": 424
    },
    "executionInfo": {
     "elapsed": 6394,
     "status": "ok",
     "timestamp": 1658406087829,
     "user": {
      "displayName": "오재동",
      "userId": "09849167419611092646"
     },
     "user_tz": -540
    },
    "id": "1rpgi-tez-p1",
    "outputId": "f7d94460-b4a2-48bf-834e-022375ac3a4e",
    "scrolled": true
   },
   "outputs": [
    {
     "data": {
      "text/html": [
       "<div>\n",
       "<style scoped>\n",
       "    .dataframe tbody tr th:only-of-type {\n",
       "        vertical-align: middle;\n",
       "    }\n",
       "\n",
       "    .dataframe tbody tr th {\n",
       "        vertical-align: top;\n",
       "    }\n",
       "\n",
       "    .dataframe thead th {\n",
       "        text-align: right;\n",
       "    }\n",
       "</style>\n",
       "<table border=\"1\" class=\"dataframe\">\n",
       "  <thead>\n",
       "    <tr style=\"text-align: right;\">\n",
       "      <th></th>\n",
       "      <th>intent</th>\n",
       "      <th>keyword(임상키워드)</th>\n",
       "      <th>utterance(2차)</th>\n",
       "      <th>intent_label</th>\n",
       "      <th>intent_keyword</th>\n",
       "      <th>ik_label</th>\n",
       "    </tr>\n",
       "  </thead>\n",
       "  <tbody>\n",
       "    <tr>\n",
       "      <th>0</th>\n",
       "      <td>우울감</td>\n",
       "      <td>우울</td>\n",
       "      <td>임신해서 우울해</td>\n",
       "      <td>0</td>\n",
       "      <td>우울감/우울</td>\n",
       "      <td>0</td>\n",
       "    </tr>\n",
       "    <tr>\n",
       "      <th>1</th>\n",
       "      <td>우울감</td>\n",
       "      <td>우울</td>\n",
       "      <td>아이 가지고 나서 우울해</td>\n",
       "      <td>0</td>\n",
       "      <td>우울감/우울</td>\n",
       "      <td>0</td>\n",
       "    </tr>\n",
       "    <tr>\n",
       "      <th>2</th>\n",
       "      <td>우울감</td>\n",
       "      <td>우울</td>\n",
       "      <td>아이 가졌는데 기분 하나도 안 좋고 울적해</td>\n",
       "      <td>0</td>\n",
       "      <td>우울감/우울</td>\n",
       "      <td>0</td>\n",
       "    </tr>\n",
       "    <tr>\n",
       "      <th>3</th>\n",
       "      <td>우울감</td>\n",
       "      <td>우울</td>\n",
       "      <td>임신했는데 남편이 하나도 안 챙겨줘서 우울하다</td>\n",
       "      <td>0</td>\n",
       "      <td>우울감/우울</td>\n",
       "      <td>0</td>\n",
       "    </tr>\n",
       "    <tr>\n",
       "      <th>4</th>\n",
       "      <td>우울감</td>\n",
       "      <td>우울</td>\n",
       "      <td>진단 결과 안 좋게 나올 것 같아서 우울해</td>\n",
       "      <td>0</td>\n",
       "      <td>우울감/우울</td>\n",
       "      <td>0</td>\n",
       "    </tr>\n",
       "    <tr>\n",
       "      <th>...</th>\n",
       "      <td>...</td>\n",
       "      <td>...</td>\n",
       "      <td>...</td>\n",
       "      <td>...</td>\n",
       "      <td>...</td>\n",
       "      <td>...</td>\n",
       "    </tr>\n",
       "    <tr>\n",
       "      <th>19671</th>\n",
       "      <td>불안</td>\n",
       "      <td>압박감</td>\n",
       "      <td>그래도 잠못자고 불안한건 여전해요.</td>\n",
       "      <td>18</td>\n",
       "      <td>불안/압박감</td>\n",
       "      <td>204</td>\n",
       "    </tr>\n",
       "    <tr>\n",
       "      <th>19672</th>\n",
       "      <td>불안</td>\n",
       "      <td>압박감</td>\n",
       "      <td>불안함에 항상 시달리니까 잠도 못잤어요.</td>\n",
       "      <td>18</td>\n",
       "      <td>불안/압박감</td>\n",
       "      <td>204</td>\n",
       "    </tr>\n",
       "    <tr>\n",
       "      <th>19673</th>\n",
       "      <td>불안</td>\n",
       "      <td>압박감</td>\n",
       "      <td>불안하고 초조해서 잠이 안 와.</td>\n",
       "      <td>18</td>\n",
       "      <td>불안/압박감</td>\n",
       "      <td>204</td>\n",
       "    </tr>\n",
       "    <tr>\n",
       "      <th>19674</th>\n",
       "      <td>불안</td>\n",
       "      <td>압박감</td>\n",
       "      <td>너무 불안하니까 밤만 되면 잠이 안 오고 너무 초조해.</td>\n",
       "      <td>18</td>\n",
       "      <td>불안/압박감</td>\n",
       "      <td>204</td>\n",
       "    </tr>\n",
       "    <tr>\n",
       "      <th>19675</th>\n",
       "      <td>불안</td>\n",
       "      <td>압박감</td>\n",
       "      <td>불안해서 그런지 요즘 잠도 잘 안 와서 너무 힘들어요.</td>\n",
       "      <td>18</td>\n",
       "      <td>불안/압박감</td>\n",
       "      <td>204</td>\n",
       "    </tr>\n",
       "  </tbody>\n",
       "</table>\n",
       "<p>19676 rows × 6 columns</p>\n",
       "</div>"
      ],
      "text/plain": [
       "      intent keyword(임상키워드)                  utterance(2차)   intent_label  \\\n",
       "0        우울감             우울                        임신해서 우울해             0   \n",
       "1        우울감             우울                   아이 가지고 나서 우울해             0   \n",
       "2        우울감             우울         아이 가졌는데 기분 하나도 안 좋고 울적해             0   \n",
       "3        우울감             우울       임신했는데 남편이 하나도 안 챙겨줘서 우울하다             0   \n",
       "4        우울감             우울        진단 결과 안 좋게 나올 것 같아서 우울해              0   \n",
       "...      ...            ...                             ...           ...   \n",
       "19671     불안            압박감             그래도 잠못자고 불안한건 여전해요.            18   \n",
       "19672     불안            압박감          불안함에 항상 시달리니까 잠도 못잤어요.            18   \n",
       "19673     불안            압박감               불안하고 초조해서 잠이 안 와.            18   \n",
       "19674     불안            압박감  너무 불안하니까 밤만 되면 잠이 안 오고 너무 초조해.            18   \n",
       "19675     불안            압박감  불안해서 그런지 요즘 잠도 잘 안 와서 너무 힘들어요.            18   \n",
       "\n",
       "      intent_keyword  ik_label  \n",
       "0             우울감/우울         0  \n",
       "1             우울감/우울         0  \n",
       "2             우울감/우울         0  \n",
       "3             우울감/우울         0  \n",
       "4             우울감/우울         0  \n",
       "...              ...       ...  \n",
       "19671         불안/압박감       204  \n",
       "19672         불안/압박감       204  \n",
       "19673         불안/압박감       204  \n",
       "19674         불안/압박감       204  \n",
       "19675         불안/압박감       204  \n",
       "\n",
       "[19676 rows x 6 columns]"
      ]
     },
     "execution_count": 3,
     "metadata": {},
     "output_type": "execute_result"
    }
   ],
   "source": [
    "keyword_df = pd.read_csv(data_path + 'Wellness_Conversation_intent_keyword.csv')\n",
    "keyword_df"
   ]
  },
  {
   "cell_type": "markdown",
   "metadata": {
    "id": "iS6sU9Tt1iH1"
   },
   "source": [
    "#### KoBERT 모델로 main_cate 분류하기 "
   ]
  },
  {
   "cell_type": "code",
   "execution_count": 4,
   "metadata": {
    "colab": {
     "base_uri": "https://localhost:8080/",
     "height": 424
    },
    "executionInfo": {
     "elapsed": 40,
     "status": "ok",
     "timestamp": 1658406089039,
     "user": {
      "displayName": "오재동",
      "userId": "09849167419611092646"
     },
     "user_tz": -540
    },
    "id": "GYs_axGN1G3t",
    "outputId": "d7e9dd9e-a381-4d2b-ab46-a16a1379a7f9"
   },
   "outputs": [],
   "source": [
    "main_df = keyword_df[['intent_keyword', 'utterance(2차) ', 'ik_label']]"
   ]
  },
  {
   "cell_type": "code",
   "execution_count": 5,
   "metadata": {
    "colab": {
     "base_uri": "https://localhost:8080/"
    },
    "executionInfo": {
     "elapsed": 598,
     "status": "ok",
     "timestamp": 1658406132892,
     "user": {
      "displayName": "오재동",
      "userId": "09849167419611092646"
     },
     "user_tz": -540
    },
    "id": "ywqobT0luTZK",
    "outputId": "de476e78-14ea-4ff4-bcdc-c75cc95bbbd4"
   },
   "outputs": [
    {
     "name": "stdout",
     "output_type": "stream",
     "text": [
      "<class 'pandas.core.frame.DataFrame'>\n",
      "RangeIndex: 19676 entries, 0 to 19675\n",
      "Data columns (total 3 columns):\n",
      " #   Column          Non-Null Count  Dtype \n",
      "---  ------          --------------  ----- \n",
      " 0   intent_keyword  19676 non-null  object\n",
      " 1   utterance(2차)   19676 non-null  object\n",
      " 2   ik_label        19676 non-null  int64 \n",
      "dtypes: int64(1), object(2)\n",
      "memory usage: 461.3+ KB\n"
     ]
    }
   ],
   "source": [
    "main_df.info()"
   ]
  },
  {
   "cell_type": "code",
   "execution_count": 6,
   "metadata": {
    "colab": {
     "base_uri": "https://localhost:8080/"
    },
    "executionInfo": {
     "elapsed": 4,
     "status": "ok",
     "timestamp": 1658406137372,
     "user": {
      "displayName": "오재동",
      "userId": "09849167419611092646"
     },
     "user_tz": -540
    },
    "id": "gSIhjIjqw-nX",
    "outputId": "93a25d27-34f5-4c19-a463-df70b5c6e2ce"
   },
   "outputs": [
    {
     "data": {
      "text/plain": [
       "intent_keyword    0\n",
       "utterance(2차)     0\n",
       "ik_label          0\n",
       "dtype: int64"
      ]
     },
     "execution_count": 6,
     "metadata": {},
     "output_type": "execute_result"
    }
   ],
   "source": [
    "main_df.isnull().sum()"
   ]
  },
  {
   "cell_type": "code",
   "execution_count": 7,
   "metadata": {
    "id": "vFW7PP_d01rR"
   },
   "outputs": [],
   "source": [
    "main_df = main_df.dropna()"
   ]
  },
  {
   "cell_type": "code",
   "execution_count": 8,
   "metadata": {
    "id": "h0rE4LHe05Fj"
   },
   "outputs": [],
   "source": [
    "main_df.reset_index(inplace=True, drop=True)"
   ]
  },
  {
   "cell_type": "code",
   "execution_count": 9,
   "metadata": {
    "colab": {
     "base_uri": "https://localhost:8080/",
     "height": 528
    },
    "executionInfo": {
     "elapsed": 1458,
     "status": "ok",
     "timestamp": 1658406201417,
     "user": {
      "displayName": "오재동",
      "userId": "09849167419611092646"
     },
     "user_tz": -540
    },
    "id": "-cK1cYrzt_do",
    "outputId": "12286d15-f3df-4ec8-fb0f-4228695d8232",
    "scrolled": true
   },
   "outputs": [
    {
     "data": {
      "text/html": [
       "<div>\n",
       "<style scoped>\n",
       "    .dataframe tbody tr th:only-of-type {\n",
       "        vertical-align: middle;\n",
       "    }\n",
       "\n",
       "    .dataframe tbody tr th {\n",
       "        vertical-align: top;\n",
       "    }\n",
       "\n",
       "    .dataframe thead th {\n",
       "        text-align: right;\n",
       "    }\n",
       "</style>\n",
       "<table border=\"1\" class=\"dataframe\">\n",
       "  <thead>\n",
       "    <tr style=\"text-align: right;\">\n",
       "      <th></th>\n",
       "      <th>intent_keyword</th>\n",
       "      <th>utterance(2차)</th>\n",
       "      <th>ik_label</th>\n",
       "    </tr>\n",
       "  </thead>\n",
       "  <tbody>\n",
       "    <tr>\n",
       "      <th>0</th>\n",
       "      <td>우울감/우울</td>\n",
       "      <td>임신해서 우울해</td>\n",
       "      <td>0</td>\n",
       "    </tr>\n",
       "    <tr>\n",
       "      <th>1</th>\n",
       "      <td>우울감/우울</td>\n",
       "      <td>아이 가지고 나서 우울해</td>\n",
       "      <td>0</td>\n",
       "    </tr>\n",
       "    <tr>\n",
       "      <th>2</th>\n",
       "      <td>우울감/우울</td>\n",
       "      <td>아이 가졌는데 기분 하나도 안 좋고 울적해</td>\n",
       "      <td>0</td>\n",
       "    </tr>\n",
       "    <tr>\n",
       "      <th>3</th>\n",
       "      <td>우울감/우울</td>\n",
       "      <td>임신했는데 남편이 하나도 안 챙겨줘서 우울하다</td>\n",
       "      <td>0</td>\n",
       "    </tr>\n",
       "    <tr>\n",
       "      <th>4</th>\n",
       "      <td>우울감/우울</td>\n",
       "      <td>진단 결과 안 좋게 나올 것 같아서 우울해</td>\n",
       "      <td>0</td>\n",
       "    </tr>\n",
       "    <tr>\n",
       "      <th>...</th>\n",
       "      <td>...</td>\n",
       "      <td>...</td>\n",
       "      <td>...</td>\n",
       "    </tr>\n",
       "    <tr>\n",
       "      <th>19671</th>\n",
       "      <td>불안/압박감</td>\n",
       "      <td>그래도 잠못자고 불안한건 여전해요.</td>\n",
       "      <td>204</td>\n",
       "    </tr>\n",
       "    <tr>\n",
       "      <th>19672</th>\n",
       "      <td>불안/압박감</td>\n",
       "      <td>불안함에 항상 시달리니까 잠도 못잤어요.</td>\n",
       "      <td>204</td>\n",
       "    </tr>\n",
       "    <tr>\n",
       "      <th>19673</th>\n",
       "      <td>불안/압박감</td>\n",
       "      <td>불안하고 초조해서 잠이 안 와.</td>\n",
       "      <td>204</td>\n",
       "    </tr>\n",
       "    <tr>\n",
       "      <th>19674</th>\n",
       "      <td>불안/압박감</td>\n",
       "      <td>너무 불안하니까 밤만 되면 잠이 안 오고 너무 초조해.</td>\n",
       "      <td>204</td>\n",
       "    </tr>\n",
       "    <tr>\n",
       "      <th>19675</th>\n",
       "      <td>불안/압박감</td>\n",
       "      <td>불안해서 그런지 요즘 잠도 잘 안 와서 너무 힘들어요.</td>\n",
       "      <td>204</td>\n",
       "    </tr>\n",
       "  </tbody>\n",
       "</table>\n",
       "<p>19676 rows × 3 columns</p>\n",
       "</div>"
      ],
      "text/plain": [
       "      intent_keyword                  utterance(2차)   ik_label\n",
       "0             우울감/우울                        임신해서 우울해         0\n",
       "1             우울감/우울                   아이 가지고 나서 우울해         0\n",
       "2             우울감/우울         아이 가졌는데 기분 하나도 안 좋고 울적해         0\n",
       "3             우울감/우울       임신했는데 남편이 하나도 안 챙겨줘서 우울하다         0\n",
       "4             우울감/우울        진단 결과 안 좋게 나올 것 같아서 우울해          0\n",
       "...              ...                             ...       ...\n",
       "19671         불안/압박감             그래도 잠못자고 불안한건 여전해요.       204\n",
       "19672         불안/압박감          불안함에 항상 시달리니까 잠도 못잤어요.       204\n",
       "19673         불안/압박감               불안하고 초조해서 잠이 안 와.       204\n",
       "19674         불안/압박감  너무 불안하니까 밤만 되면 잠이 안 오고 너무 초조해.       204\n",
       "19675         불안/압박감  불안해서 그런지 요즘 잠도 잘 안 와서 너무 힘들어요.       204\n",
       "\n",
       "[19676 rows x 3 columns]"
      ]
     },
     "execution_count": 9,
     "metadata": {},
     "output_type": "execute_result"
    }
   ],
   "source": [
    "main_df['utterance(2차) '] = main_df['utterance(2차) '].apply(lambda x: x.replace('\\t', ''))\n",
    "main_df"
   ]
  },
  {
   "cell_type": "code",
   "execution_count": 10,
   "metadata": {},
   "outputs": [
    {
     "data": {
      "text/plain": [
       "205"
      ]
     },
     "execution_count": 10,
     "metadata": {},
     "output_type": "execute_result"
    }
   ],
   "source": [
    "ik_list = list(main_df['intent_keyword'].unique())\n",
    "len(ik_list)"
   ]
  },
  {
   "cell_type": "markdown",
   "metadata": {
    "id": "2EofqAJom_vN"
   },
   "source": [
    "##### 학습셋 테스트셋 분리 "
   ]
  },
  {
   "cell_type": "code",
   "execution_count": 11,
   "metadata": {
    "id": "t9pCxSAHGWGt"
   },
   "outputs": [],
   "source": [
    "from sklearn.utils import shuffle \n",
    "from sklearn.model_selection import train_test_split\n",
    "\n",
    "X_train, X_test = train_test_split(main_df, test_size=0.2, random_state=42, stratify=main_df['intent_keyword'])"
   ]
  },
  {
   "cell_type": "code",
   "execution_count": 12,
   "metadata": {
    "colab": {
     "base_uri": "https://localhost:8080/",
     "height": 424
    },
    "executionInfo": {
     "elapsed": 16,
     "status": "ok",
     "timestamp": 1658406214197,
     "user": {
      "displayName": "오재동",
      "userId": "09849167419611092646"
     },
     "user_tz": -540
    },
    "id": "bDtIiqQxG8oX",
    "outputId": "7f689dfa-ab8b-4884-a53a-dac1b4e0ea9f",
    "scrolled": true
   },
   "outputs": [
    {
     "data": {
      "text/html": [
       "<div>\n",
       "<style scoped>\n",
       "    .dataframe tbody tr th:only-of-type {\n",
       "        vertical-align: middle;\n",
       "    }\n",
       "\n",
       "    .dataframe tbody tr th {\n",
       "        vertical-align: top;\n",
       "    }\n",
       "\n",
       "    .dataframe thead th {\n",
       "        text-align: right;\n",
       "    }\n",
       "</style>\n",
       "<table border=\"1\" class=\"dataframe\">\n",
       "  <thead>\n",
       "    <tr style=\"text-align: right;\">\n",
       "      <th></th>\n",
       "      <th>intent_keyword</th>\n",
       "      <th>utterance(2차)</th>\n",
       "      <th>ik_label</th>\n",
       "    </tr>\n",
       "  </thead>\n",
       "  <tbody>\n",
       "    <tr>\n",
       "      <th>3607</th>\n",
       "      <td>외로움/무의미함</td>\n",
       "      <td>외롭고 쓸쓸하고 의미 없는 시간 속에서 지쳐가</td>\n",
       "      <td>33</td>\n",
       "    </tr>\n",
       "    <tr>\n",
       "      <th>17743</th>\n",
       "      <td>절망감/포기</td>\n",
       "      <td>임신을 포기하고 친구들도 잘 안 만나게 됐어</td>\n",
       "      <td>190</td>\n",
       "    </tr>\n",
       "    <tr>\n",
       "      <th>11359</th>\n",
       "      <td>초조함/감정기복</td>\n",
       "      <td>임신하고 나서 몸이 너무 변하니까 감정기복이 심해졌어</td>\n",
       "      <td>120</td>\n",
       "    </tr>\n",
       "    <tr>\n",
       "      <th>18594</th>\n",
       "      <td>자살충동/하찮음</td>\n",
       "      <td>나 같은 백수는 그냥 콱 죽는 게 낫지.</td>\n",
       "      <td>198</td>\n",
       "    </tr>\n",
       "    <tr>\n",
       "      <th>3907</th>\n",
       "      <td>외로움/고독감</td>\n",
       "      <td>고독해서 힘들어요</td>\n",
       "      <td>38</td>\n",
       "    </tr>\n",
       "    <tr>\n",
       "      <th>...</th>\n",
       "      <td>...</td>\n",
       "      <td>...</td>\n",
       "      <td>...</td>\n",
       "    </tr>\n",
       "    <tr>\n",
       "      <th>1085</th>\n",
       "      <td>우울감/집중력감소</td>\n",
       "      <td>평소에 우울할때가 많아요.</td>\n",
       "      <td>12</td>\n",
       "    </tr>\n",
       "    <tr>\n",
       "      <th>2293</th>\n",
       "      <td>슬픔/허망함</td>\n",
       "      <td>세상에 내 편이 없는 것 같아서 허망해요</td>\n",
       "      <td>23</td>\n",
       "    </tr>\n",
       "    <tr>\n",
       "      <th>12133</th>\n",
       "      <td>초조함/욱함</td>\n",
       "      <td>아..근데 또 막상 공부를 안 하자니 성적이 떨어질까 걱정되네요.</td>\n",
       "      <td>122</td>\n",
       "    </tr>\n",
       "    <tr>\n",
       "      <th>4313</th>\n",
       "      <td>분노/원망</td>\n",
       "      <td>남편이랑 말도 하기 싫은 거야</td>\n",
       "      <td>41</td>\n",
       "    </tr>\n",
       "    <tr>\n",
       "      <th>6862</th>\n",
       "      <td>상실감/공허</td>\n",
       "      <td>사는 게 공허하다</td>\n",
       "      <td>64</td>\n",
       "    </tr>\n",
       "  </tbody>\n",
       "</table>\n",
       "<p>15740 rows × 3 columns</p>\n",
       "</div>"
      ],
      "text/plain": [
       "      intent_keyword                        utterance(2차)   ik_label\n",
       "3607        외로움/무의미함             외롭고 쓸쓸하고 의미 없는 시간 속에서 지쳐가        33\n",
       "17743         절망감/포기              임신을 포기하고 친구들도 잘 안 만나게 됐어       190\n",
       "11359       초조함/감정기복         임신하고 나서 몸이 너무 변하니까 감정기복이 심해졌어       120\n",
       "18594       자살충동/하찮음                나 같은 백수는 그냥 콱 죽는 게 낫지.       198\n",
       "3907         외로움/고독감                             고독해서 힘들어요        38\n",
       "...              ...                                   ...       ...\n",
       "1085       우울감/집중력감소                        평소에 우울할때가 많아요.        12\n",
       "2293          슬픔/허망함                세상에 내 편이 없는 것 같아서 허망해요        23\n",
       "12133        초조함/욱함   아..근데 또 막상 공부를 안 하자니 성적이 떨어질까 걱정되네요.       122\n",
       "4313           분노/원망                      남편이랑 말도 하기 싫은 거야        41\n",
       "6862          상실감/공허                             사는 게 공허하다        64\n",
       "\n",
       "[15740 rows x 3 columns]"
      ]
     },
     "execution_count": 12,
     "metadata": {},
     "output_type": "execute_result"
    }
   ],
   "source": [
    "X_train"
   ]
  },
  {
   "cell_type": "code",
   "execution_count": 13,
   "metadata": {
    "colab": {
     "base_uri": "https://localhost:8080/"
    },
    "executionInfo": {
     "elapsed": 14,
     "status": "ok",
     "timestamp": 1658406214199,
     "user": {
      "displayName": "오재동",
      "userId": "09849167419611092646"
     },
     "user_tz": -540
    },
    "id": "tCxNJeywtZKq",
    "outputId": "5a189a12-eec1-4749-a1aa-c28fdbf4fd6c"
   },
   "outputs": [
    {
     "data": {
      "text/plain": [
       "(205, 205)"
      ]
     },
     "execution_count": 13,
     "metadata": {},
     "output_type": "execute_result"
    }
   ],
   "source": [
    "len(X_train.intent_keyword.unique()), len(X_test.intent_keyword.unique())"
   ]
  },
  {
   "cell_type": "code",
   "execution_count": 14,
   "metadata": {
    "id": "EsrJ_wOrGm6h"
   },
   "outputs": [],
   "source": [
    "# tsv 데이터셋으로 변환\n",
    "X_train.to_csv(data_path + 'keyword_train.tsv', sep='\\t', encoding='utf-8', index=False)\n",
    "X_test.to_csv(data_path + 'keyword_test.tsv', sep='\\t', encoding='utf-8', index=False)"
   ]
  },
  {
   "cell_type": "markdown",
   "metadata": {
    "id": "iuXUR8Q8IS5r"
   },
   "source": [
    "##### KoBERT 실행환경 구축"
   ]
  },
  {
   "cell_type": "code",
   "execution_count": 15,
   "metadata": {
    "id": "CsO0M-QYILcx"
   },
   "outputs": [],
   "source": [
    "# !pip install ipywidgets  # for vscode\n",
    "# !pip install git+https://git@github.com/SKTBrain/KoBERT.git@master"
   ]
  },
  {
   "cell_type": "code",
   "execution_count": 16,
   "metadata": {
    "id": "8Bvmi__2IW2j"
   },
   "outputs": [
    {
     "name": "stderr",
     "output_type": "stream",
     "text": [
      "2022-09-16 01:48:28.270301: I tensorflow/stream_executor/platform/default/dso_loader.cc:49] Successfully opened dynamic library libcudart.so.11.0\n"
     ]
    }
   ],
   "source": [
    "import torch\n",
    "from torch import nn\n",
    "import torch.nn.functional as F\n",
    "import torch.optim as optim\n",
    "from torch.utils.data import Dataset, DataLoader\n",
    "import gluonnlp as nlp\n",
    "import numpy as np\n",
    "from tqdm.notebook import tqdm\n",
    "\n",
    "from kobert import get_tokenizer\n",
    "from kobert import get_pytorch_kobert_model\n",
    "\n",
    "from transformers import AdamW\n",
    "from transformers.optimization import get_cosine_schedule_with_warmup"
   ]
  },
  {
   "cell_type": "code",
   "execution_count": 17,
   "metadata": {},
   "outputs": [
    {
     "data": {
      "text/plain": [
       "205"
      ]
     },
     "execution_count": 17,
     "metadata": {},
     "output_type": "execute_result"
    }
   ],
   "source": [
    "len(ik_list)"
   ]
  },
  {
   "cell_type": "code",
   "execution_count": 18,
   "metadata": {
    "id": "4AxBn9QEIyEn"
   },
   "outputs": [],
   "source": [
    "## CPU\n",
    "# device = torch.device(\"cpu\")\n",
    "\n",
    "## GPU\n",
    "device = torch.device(\"cuda:0\")"
   ]
  },
  {
   "cell_type": "code",
   "execution_count": 19,
   "metadata": {
    "colab": {
     "base_uri": "https://localhost:8080/"
    },
    "executionInfo": {
     "elapsed": 9874,
     "status": "ok",
     "timestamp": 1658206216589,
     "user": {
      "displayName": "오재동",
      "userId": "09849167419611092646"
     },
     "user_tz": -540
    },
    "id": "atw_Yw0eI06D",
    "outputId": "d19bfc1e-946c-4a06-ed94-ab43fd38f887",
    "scrolled": true
   },
   "outputs": [
    {
     "name": "stdout",
     "output_type": "stream",
     "text": [
      "using cached model. /home/ubuntu/chatbot/code/.cache/kobert_v1.zip\n",
      "using cached model. /home/ubuntu/chatbot/code/.cache/kobert_news_wiki_ko_cased-1087f8699e.spiece\n"
     ]
    }
   ],
   "source": [
    "bertmodel, vocab = get_pytorch_kobert_model(cachedir=\".cache\")   # BERT 모델 가져오기"
   ]
  },
  {
   "cell_type": "code",
   "execution_count": 20,
   "metadata": {
    "id": "m-NJe76gI2wa"
   },
   "outputs": [],
   "source": [
    "dataset_train = nlp.data.TSVDataset(data_path + 'keyword_train.tsv', field_indices=[1, 2], num_discard_samples=1)\n",
    "dataset_test = nlp.data.TSVDataset(data_path + 'keyword_test.tsv', field_indices=[1, 2], num_discard_samples=1)"
   ]
  },
  {
   "cell_type": "code",
   "execution_count": 21,
   "metadata": {
    "colab": {
     "base_uri": "https://localhost:8080/"
    },
    "executionInfo": {
     "elapsed": 10,
     "status": "ok",
     "timestamp": 1658206218898,
     "user": {
      "displayName": "오재동",
      "userId": "09849167419611092646"
     },
     "user_tz": -540
    },
    "id": "iKGqtPfII_5E",
    "outputId": "9d6ebb38-411b-4d96-feb0-d3b4ca1b6cae"
   },
   "outputs": [
    {
     "data": {
      "text/plain": [
       "['아직 내가 하고 싶은 대로 살고 싶은데 너무 억울해', '26']"
      ]
     },
     "execution_count": 21,
     "metadata": {},
     "output_type": "execute_result"
    }
   ],
   "source": [
    "list(dataset_test[1])"
   ]
  },
  {
   "cell_type": "code",
   "execution_count": 22,
   "metadata": {
    "colab": {
     "base_uri": "https://localhost:8080/"
    },
    "executionInfo": {
     "elapsed": 8,
     "status": "ok",
     "timestamp": 1658206218899,
     "user": {
      "displayName": "오재동",
      "userId": "09849167419611092646"
     },
     "user_tz": -540
    },
    "id": "oInKXZzVJC2L",
    "outputId": "365226dc-d1af-468a-eafd-f2f90d78e337"
   },
   "outputs": [
    {
     "name": "stdout",
     "output_type": "stream",
     "text": [
      "using cached model. /home/ubuntu/chatbot/code/.cache/kobert_news_wiki_ko_cased-1087f8699e.spiece\n"
     ]
    }
   ],
   "source": [
    "tokenizer = get_tokenizer()   # 토크나이저 선언 \n",
    "tok = nlp.data.BERTSPTokenizer(tokenizer, vocab, lower=False)   # token 설정"
   ]
  },
  {
   "cell_type": "code",
   "execution_count": 23,
   "metadata": {},
   "outputs": [
    {
     "data": {
      "text/plain": [
       "(<gluonnlp.data.dataset.TSVDataset at 0x7f51487e8c90>, 15740)"
      ]
     },
     "execution_count": 23,
     "metadata": {},
     "output_type": "execute_result"
    }
   ],
   "source": [
    "dataset_train, len(dataset_train)"
   ]
  },
  {
   "cell_type": "code",
   "execution_count": 24,
   "metadata": {
    "id": "IwWtCuebJHGf"
   },
   "outputs": [],
   "source": [
    "# BERT Dataset 클래스 생성 \n",
    "class BERTDataset(Dataset):   \n",
    "    def __init__(self, dataset, sent_idx, label_idx, bert_tokenizer, max_len,\n",
    "                 pad, pair):\n",
    "        transform = nlp.data.BERTSentenceTransform(\n",
    "            bert_tokenizer, max_seq_length=max_len, pad=pad, pair=pair)\n",
    "\n",
    "        self.sentences = [transform([i[sent_idx]]) for i in dataset]\n",
    "        self.labels = [np.int32(i[label_idx]) for i in dataset]\n",
    "\n",
    "    def __getitem__(self, i):\n",
    "        return (self.sentences[i] + (self.labels[i], ))\n",
    "\n",
    "    def __len__(self):\n",
    "        return (len(self.labels))"
   ]
  },
  {
   "cell_type": "code",
   "execution_count": 25,
   "metadata": {
    "id": "bZu2NR_ZJJBC"
   },
   "outputs": [],
   "source": [
    "# 파라미터 설정 \n",
    "max_len = 64     # 토큰 최대 길이 \n",
    "batch_size = 64   # 배치 사이즈 \n",
    "warmup_ratio = 0.1   # 웜-업 비율 \n",
    "num_epochs = 50   # 학습 수  \n",
    "max_grad_norm = 1   # gradient 정규화 최대값 \n",
    "log_interval = 200   # interval 간격\n",
    "learning_rate =  5e-5   # 학습률 "
   ]
  },
  {
   "cell_type": "code",
   "execution_count": 26,
   "metadata": {},
   "outputs": [
    {
     "data": {
      "text/plain": [
       "(15740, <gluonnlp.data.dataset.TSVDataset at 0x7f51487e8c90>)"
      ]
     },
     "execution_count": 26,
     "metadata": {},
     "output_type": "execute_result"
    }
   ],
   "source": [
    "len(dataset_train), dataset_train"
   ]
  },
  {
   "cell_type": "code",
   "execution_count": 27,
   "metadata": {
    "colab": {
     "base_uri": "https://localhost:8080/"
    },
    "executionInfo": {
     "elapsed": 30682,
     "status": "ok",
     "timestamp": 1658206249576,
     "user": {
      "displayName": "오재동",
      "userId": "09849167419611092646"
     },
     "user_tz": -540
    },
    "id": "FulvSDhqJKL9",
    "outputId": "93b17ae0-ee8c-49ef-f094-818521edcaca"
   },
   "outputs": [],
   "source": [
    "data_train = BERTDataset(dataset_train, 0, 1, tok, max_len, True, False)   # 학습 데이터셋 생성 \n",
    "data_test = BERTDataset(dataset_test, 0, 1, tok, max_len, True, False)   # 테스트 데이터셋 생성 \n",
    "\n",
    "train_dataloader = torch.utils.data.DataLoader(data_train, batch_size=batch_size, num_workers=5)\n",
    "test_dataloader = torch.utils.data.DataLoader(data_test, batch_size=batch_size, num_workers=5)"
   ]
  },
  {
   "cell_type": "code",
   "execution_count": 28,
   "metadata": {
    "id": "w94JmcTJJOrn"
   },
   "outputs": [],
   "source": [
    "# BERT Classifier 클래스 생성 \n",
    "class BERTClassifier(nn.Module):\n",
    "    def __init__(self,\n",
    "                 bert,\n",
    "                 hidden_size = 768,\n",
    "                 num_classes=len(ik_list),\n",
    "                 dr_rate=None,\n",
    "                 params=None):\n",
    "        super(BERTClassifier, self).__init__()    # 부모 클래스 생성자 초기화 \n",
    "        self.bert = bert\n",
    "        self.dr_rate = dr_rate\n",
    "                 \n",
    "        self.classifier = nn.Linear(hidden_size , num_classes)   # 선형 분류기 생성 \n",
    "        if dr_rate:   # 드랍아웃 \n",
    "            self.dropout = nn.Dropout(p=dr_rate)\n",
    "    \n",
    "    def gen_attention_mask(self, token_ids, valid_length):\n",
    "        attention_mask = torch.zeros_like(token_ids)\n",
    "        for i, v in enumerate(valid_length):\n",
    "            attention_mask[i][:v] = 1\n",
    "        return attention_mask.float()\n",
    "\n",
    "    def forward(self, token_ids, valid_length, segment_ids):\n",
    "        attention_mask = self.gen_attention_mask(token_ids, valid_length)\n",
    "        \n",
    "        _, pooler = self.bert(input_ids = token_ids, token_type_ids = segment_ids.long(), attention_mask \\\n",
    "                              = attention_mask.float().to(token_ids.device))\n",
    "        if self.dr_rate:\n",
    "            out = self.dropout(pooler)\n",
    "        else:\n",
    "            out = pooler\n",
    "        return self.classifier(out)"
   ]
  },
  {
   "cell_type": "code",
   "execution_count": 29,
   "metadata": {
    "id": "9PnWcSn7JvDG"
   },
   "outputs": [],
   "source": [
    "# 사전훈련된 BERT 모델 생성 \n",
    "model = BERTClassifier(bertmodel,  dr_rate=0.5).to(device)  "
   ]
  },
  {
   "cell_type": "code",
   "execution_count": 30,
   "metadata": {
    "colab": {
     "base_uri": "https://localhost:8080/"
    },
    "executionInfo": {
     "elapsed": 32,
     "status": "ok",
     "timestamp": 1658206257129,
     "user": {
      "displayName": "오재동",
      "userId": "09849167419611092646"
     },
     "user_tz": -540
    },
    "id": "xDStspWU6e8F",
    "outputId": "7df13e14-f81d-4158-875f-273d90beb88b"
   },
   "outputs": [
    {
     "name": "stderr",
     "output_type": "stream",
     "text": [
      "/home/ubuntu/anaconda3/envs/chatbot/lib/python3.7/site-packages/transformers/optimization.py:310: FutureWarning: This implementation of AdamW is deprecated and will be removed in a future version. Use the PyTorch implementation torch.optim.AdamW instead, or set `no_deprecation_warning=True` to disable this warning\n",
      "  FutureWarning,\n"
     ]
    }
   ],
   "source": [
    "# Prepare optimizer and schedule (linear warmup and decay)\n",
    "no_decay = ['bias', 'LayerNorm.weight']\n",
    "optimizer_grouped_parameters = [\n",
    "    {'params': [p for n, p in model.named_parameters() if not any(nd in n for nd in no_decay)], 'weight_decay': 0.01},\n",
    "    {'params': [p for n, p in model.named_parameters() if any(nd in n for nd in no_decay)], 'weight_decay': 0.0}\n",
    "]\n",
    "\n",
    "t_total = len(train_dataloader) * num_epochs\n",
    "warmup_step = int(t_total * warmup_ratio)   # 웜업 스텝 설정 \n",
    "\n",
    "optimizer = AdamW(optimizer_grouped_parameters, lr=learning_rate)\n",
    "loss_fn = nn.CrossEntropyLoss()\n",
    "scheduler = get_cosine_schedule_with_warmup(optimizer, num_warmup_steps=warmup_step, num_training_steps=t_total)"
   ]
  },
  {
   "cell_type": "code",
   "execution_count": 31,
   "metadata": {
    "id": "wWJRKEhz6jQo"
   },
   "outputs": [],
   "source": [
    "def calc_accuracy(X,Y):\n",
    "    max_vals, max_indices = torch.max(X, 1)\n",
    "    train_acc = (max_indices == Y).sum().data.cpu().numpy()/max_indices.size()[0]\n",
    "    return train_acc"
   ]
  },
  {
   "cell_type": "code",
   "execution_count": 31,
   "metadata": {
    "collapsed": true,
    "id": "PElGJOoi6l3Y"
   },
   "outputs": [
    {
     "data": {
      "application/vnd.jupyter.widget-view+json": {
       "model_id": "195accb5cc8f4d74a1fd9ceab86d8289",
       "version_major": 2,
       "version_minor": 0
      },
      "text/plain": [
       "  0%|          | 0/246 [00:00<?, ?it/s]"
      ]
     },
     "metadata": {},
     "output_type": "display_data"
    },
    {
     "name": "stdout",
     "output_type": "stream",
     "text": [
      "epoch 1 batch id 1 loss 5.34111213684082 train acc 0.0\n",
      "epoch 1 batch id 201 loss 5.10125207901001 train acc 0.033271144278606966\n",
      "epoch 1 train acc 0.040667344173441734\n"
     ]
    },
    {
     "data": {
      "application/vnd.jupyter.widget-view+json": {
       "model_id": "323ff26ff3da4fbfba9255ea0f283507",
       "version_major": 2,
       "version_minor": 0
      },
      "text/plain": [
       "  0%|          | 0/62 [00:00<?, ?it/s]"
      ]
     },
     "metadata": {},
     "output_type": "display_data"
    },
    {
     "name": "stdout",
     "output_type": "stream",
     "text": [
      "epoch 1 val acc 0.0846774193548387\n"
     ]
    },
    {
     "data": {
      "application/vnd.jupyter.widget-view+json": {
       "model_id": "476c75fd55fe4704b5a48ffc19636917",
       "version_major": 2,
       "version_minor": 0
      },
      "text/plain": [
       "  0%|          | 0/246 [00:00<?, ?it/s]"
      ]
     },
     "metadata": {},
     "output_type": "display_data"
    },
    {
     "name": "stdout",
     "output_type": "stream",
     "text": [
      "epoch 2 batch id 1 loss 4.9134345054626465 train acc 0.09375\n",
      "epoch 2 batch id 201 loss 4.413898468017578 train acc 0.09064054726368159\n",
      "epoch 2 train acc 0.09639227642276423\n"
     ]
    },
    {
     "data": {
      "application/vnd.jupyter.widget-view+json": {
       "model_id": "cdbe55782ca54ed2b33b6025983150d5",
       "version_major": 2,
       "version_minor": 0
      },
      "text/plain": [
       "  0%|          | 0/62 [00:00<?, ?it/s]"
      ]
     },
     "metadata": {},
     "output_type": "display_data"
    },
    {
     "name": "stdout",
     "output_type": "stream",
     "text": [
      "epoch 2 val acc 0.1580141129032258\n"
     ]
    },
    {
     "data": {
      "application/vnd.jupyter.widget-view+json": {
       "model_id": "ffd6611adc87498aa9a92ce4b0d6f65a",
       "version_major": 2,
       "version_minor": 0
      },
      "text/plain": [
       "  0%|          | 0/246 [00:00<?, ?it/s]"
      ]
     },
     "metadata": {},
     "output_type": "display_data"
    },
    {
     "name": "stdout",
     "output_type": "stream",
     "text": [
      "epoch 3 batch id 1 loss 4.154152870178223 train acc 0.1875\n",
      "epoch 3 batch id 201 loss 3.711594581604004 train acc 0.24432524875621892\n",
      "epoch 3 train acc 0.252612635501355\n"
     ]
    },
    {
     "data": {
      "application/vnd.jupyter.widget-view+json": {
       "model_id": "5339fca3e3814002980b2c566512c436",
       "version_major": 2,
       "version_minor": 0
      },
      "text/plain": [
       "  0%|          | 0/62 [00:00<?, ?it/s]"
      ]
     },
     "metadata": {},
     "output_type": "display_data"
    },
    {
     "name": "stdout",
     "output_type": "stream",
     "text": [
      "epoch 3 val acc 0.3329133064516129\n"
     ]
    },
    {
     "data": {
      "application/vnd.jupyter.widget-view+json": {
       "model_id": "81735161523b4aa280a7885608536360",
       "version_major": 2,
       "version_minor": 0
      },
      "text/plain": [
       "  0%|          | 0/246 [00:00<?, ?it/s]"
      ]
     },
     "metadata": {},
     "output_type": "display_data"
    },
    {
     "name": "stdout",
     "output_type": "stream",
     "text": [
      "epoch 4 batch id 1 loss 3.335918426513672 train acc 0.375\n",
      "epoch 4 batch id 201 loss 2.935448169708252 train acc 0.36551616915422885\n",
      "epoch 4 train acc 0.36937669376693766\n"
     ]
    },
    {
     "data": {
      "application/vnd.jupyter.widget-view+json": {
       "model_id": "2492a25a9d75476c9984bb8509ac8a98",
       "version_major": 2,
       "version_minor": 0
      },
      "text/plain": [
       "  0%|          | 0/62 [00:00<?, ?it/s]"
      ]
     },
     "metadata": {},
     "output_type": "display_data"
    },
    {
     "name": "stdout",
     "output_type": "stream",
     "text": [
      "epoch 4 val acc 0.4480846774193548\n"
     ]
    },
    {
     "data": {
      "application/vnd.jupyter.widget-view+json": {
       "model_id": "77c454f272414a9ab16aca49426c53e1",
       "version_major": 2,
       "version_minor": 0
      },
      "text/plain": [
       "  0%|          | 0/246 [00:00<?, ?it/s]"
      ]
     },
     "metadata": {},
     "output_type": "display_data"
    },
    {
     "name": "stdout",
     "output_type": "stream",
     "text": [
      "epoch 5 batch id 1 loss 2.8263161182403564 train acc 0.453125\n",
      "epoch 5 batch id 201 loss 2.5780391693115234 train acc 0.46323072139303484\n",
      "epoch 5 train acc 0.46764905149051494\n"
     ]
    },
    {
     "data": {
      "application/vnd.jupyter.widget-view+json": {
       "model_id": "ce2cf72cf7344e74b1b3acdb9fd5a658",
       "version_major": 2,
       "version_minor": 0
      },
      "text/plain": [
       "  0%|          | 0/62 [00:00<?, ?it/s]"
      ]
     },
     "metadata": {},
     "output_type": "display_data"
    },
    {
     "name": "stdout",
     "output_type": "stream",
     "text": [
      "epoch 5 val acc 0.5473790322580645\n"
     ]
    },
    {
     "data": {
      "application/vnd.jupyter.widget-view+json": {
       "model_id": "7669624cef994957a3eea6fb83d24579",
       "version_major": 2,
       "version_minor": 0
      },
      "text/plain": [
       "  0%|          | 0/246 [00:00<?, ?it/s]"
      ]
     },
     "metadata": {},
     "output_type": "display_data"
    },
    {
     "name": "stdout",
     "output_type": "stream",
     "text": [
      "epoch 6 batch id 1 loss 2.372408390045166 train acc 0.578125\n",
      "epoch 6 batch id 201 loss 2.1454434394836426 train acc 0.5597792288557214\n",
      "epoch 6 train acc 0.5654598577235772\n"
     ]
    },
    {
     "data": {
      "application/vnd.jupyter.widget-view+json": {
       "model_id": "64fba4a3015040319e60ef816b79e1e5",
       "version_major": 2,
       "version_minor": 0
      },
      "text/plain": [
       "  0%|          | 0/62 [00:00<?, ?it/s]"
      ]
     },
     "metadata": {},
     "output_type": "display_data"
    },
    {
     "name": "stdout",
     "output_type": "stream",
     "text": [
      "epoch 6 val acc 0.6013104838709677\n"
     ]
    },
    {
     "data": {
      "application/vnd.jupyter.widget-view+json": {
       "model_id": "030324468acc4961b66784a3d26d182f",
       "version_major": 2,
       "version_minor": 0
      },
      "text/plain": [
       "  0%|          | 0/246 [00:00<?, ?it/s]"
      ]
     },
     "metadata": {},
     "output_type": "display_data"
    },
    {
     "name": "stdout",
     "output_type": "stream",
     "text": [
      "epoch 7 batch id 1 loss 1.8822191953659058 train acc 0.65625\n",
      "epoch 7 batch id 201 loss 1.4751505851745605 train acc 0.6540733830845771\n",
      "epoch 7 train acc 0.6565633468834687\n"
     ]
    },
    {
     "data": {
      "application/vnd.jupyter.widget-view+json": {
       "model_id": "d28cae85bd6f4ebbbe64c7ac4be6a7fb",
       "version_major": 2,
       "version_minor": 0
      },
      "text/plain": [
       "  0%|          | 0/62 [00:00<?, ?it/s]"
      ]
     },
     "metadata": {},
     "output_type": "display_data"
    },
    {
     "name": "stdout",
     "output_type": "stream",
     "text": [
      "epoch 7 val acc 0.6610383064516129\n"
     ]
    },
    {
     "data": {
      "application/vnd.jupyter.widget-view+json": {
       "model_id": "695e425f758b45ee96366b11aa884cb3",
       "version_major": 2,
       "version_minor": 0
      },
      "text/plain": [
       "  0%|          | 0/246 [00:00<?, ?it/s]"
      ]
     },
     "metadata": {},
     "output_type": "display_data"
    },
    {
     "name": "stdout",
     "output_type": "stream",
     "text": [
      "epoch 8 batch id 1 loss 1.509796142578125 train acc 0.734375\n",
      "epoch 8 batch id 201 loss 1.337910771369934 train acc 0.7240360696517413\n",
      "epoch 8 train acc 0.7264439363143631\n"
     ]
    },
    {
     "data": {
      "application/vnd.jupyter.widget-view+json": {
       "model_id": "97f6cec11f7547488638d91d12772b91",
       "version_major": 2,
       "version_minor": 0
      },
      "text/plain": [
       "  0%|          | 0/62 [00:00<?, ?it/s]"
      ]
     },
     "metadata": {},
     "output_type": "display_data"
    },
    {
     "name": "stdout",
     "output_type": "stream",
     "text": [
      "epoch 8 val acc 0.6829637096774194\n"
     ]
    },
    {
     "data": {
      "application/vnd.jupyter.widget-view+json": {
       "model_id": "bf0e72525c9744c888d7af0977d27841",
       "version_major": 2,
       "version_minor": 0
      },
      "text/plain": [
       "  0%|          | 0/246 [00:00<?, ?it/s]"
      ]
     },
     "metadata": {},
     "output_type": "display_data"
    },
    {
     "name": "stdout",
     "output_type": "stream",
     "text": [
      "epoch 9 batch id 1 loss 1.1163203716278076 train acc 0.75\n",
      "epoch 9 batch id 201 loss 1.064841866493225 train acc 0.78125\n",
      "epoch 9 train acc 0.7827235772357723\n"
     ]
    },
    {
     "data": {
      "application/vnd.jupyter.widget-view+json": {
       "model_id": "e8782d44307a4f5eb5e5638f7606c936",
       "version_major": 2,
       "version_minor": 0
      },
      "text/plain": [
       "  0%|          | 0/62 [00:00<?, ?it/s]"
      ]
     },
     "metadata": {},
     "output_type": "display_data"
    },
    {
     "name": "stdout",
     "output_type": "stream",
     "text": [
      "epoch 9 val acc 0.7084173387096774\n"
     ]
    },
    {
     "data": {
      "application/vnd.jupyter.widget-view+json": {
       "model_id": "ccbf21cf43394617b392b8e593967a36",
       "version_major": 2,
       "version_minor": 0
      },
      "text/plain": [
       "  0%|          | 0/246 [00:00<?, ?it/s]"
      ]
     },
     "metadata": {},
     "output_type": "display_data"
    },
    {
     "name": "stdout",
     "output_type": "stream",
     "text": [
      "epoch 10 batch id 1 loss 0.8317819237709045 train acc 0.875\n",
      "epoch 10 batch id 201 loss 0.7776275277137756 train acc 0.8252487562189055\n",
      "epoch 10 train acc 0.8261602303523036\n"
     ]
    },
    {
     "data": {
      "application/vnd.jupyter.widget-view+json": {
       "model_id": "2138d5b9ab1e49d5b35c84eddfbe48e4",
       "version_major": 2,
       "version_minor": 0
      },
      "text/plain": [
       "  0%|          | 0/62 [00:00<?, ?it/s]"
      ]
     },
     "metadata": {},
     "output_type": "display_data"
    },
    {
     "name": "stdout",
     "output_type": "stream",
     "text": [
      "epoch 10 val acc 0.7290826612903226\n"
     ]
    },
    {
     "data": {
      "application/vnd.jupyter.widget-view+json": {
       "model_id": "289c6408669e45728253c7edf3e52a61",
       "version_major": 2,
       "version_minor": 0
      },
      "text/plain": [
       "  0%|          | 0/246 [00:00<?, ?it/s]"
      ]
     },
     "metadata": {},
     "output_type": "display_data"
    },
    {
     "name": "stdout",
     "output_type": "stream",
     "text": [
      "epoch 11 batch id 1 loss 0.5965453386306763 train acc 0.875\n",
      "epoch 11 batch id 201 loss 0.6704748868942261 train acc 0.8606187810945274\n",
      "epoch 11 train acc 0.8615599593495935\n"
     ]
    },
    {
     "data": {
      "application/vnd.jupyter.widget-view+json": {
       "model_id": "740dff84b56343a6a5eeac2e9d834500",
       "version_major": 2,
       "version_minor": 0
      },
      "text/plain": [
       "  0%|          | 0/62 [00:00<?, ?it/s]"
      ]
     },
     "metadata": {},
     "output_type": "display_data"
    },
    {
     "name": "stdout",
     "output_type": "stream",
     "text": [
      "epoch 11 val acc 0.7313508064516129\n"
     ]
    },
    {
     "data": {
      "application/vnd.jupyter.widget-view+json": {
       "model_id": "7512430ca65242d4853e6047b38969ca",
       "version_major": 2,
       "version_minor": 0
      },
      "text/plain": [
       "  0%|          | 0/246 [00:00<?, ?it/s]"
      ]
     },
     "metadata": {},
     "output_type": "display_data"
    },
    {
     "name": "stdout",
     "output_type": "stream",
     "text": [
      "epoch 12 batch id 1 loss 0.4516134262084961 train acc 0.90625\n",
      "epoch 12 batch id 201 loss 0.6303747892379761 train acc 0.8940453980099502\n",
      "epoch 12 train acc 0.8933138550135502\n"
     ]
    },
    {
     "data": {
      "application/vnd.jupyter.widget-view+json": {
       "model_id": "c706f998326d41a5ba62df683b025326",
       "version_major": 2,
       "version_minor": 0
      },
      "text/plain": [
       "  0%|          | 0/62 [00:00<?, ?it/s]"
      ]
     },
     "metadata": {},
     "output_type": "display_data"
    },
    {
     "name": "stdout",
     "output_type": "stream",
     "text": [
      "epoch 12 val acc 0.7376512096774194\n"
     ]
    },
    {
     "data": {
      "application/vnd.jupyter.widget-view+json": {
       "model_id": "e8fc83e50fa440cb9421973dacb8c9e9",
       "version_major": 2,
       "version_minor": 0
      },
      "text/plain": [
       "  0%|          | 0/246 [00:00<?, ?it/s]"
      ]
     },
     "metadata": {},
     "output_type": "display_data"
    },
    {
     "name": "stdout",
     "output_type": "stream",
     "text": [
      "epoch 13 batch id 1 loss 0.32300257682800293 train acc 0.953125\n",
      "epoch 13 batch id 201 loss 0.3601747751235962 train acc 0.9105254975124378\n",
      "epoch 13 train acc 0.912059620596206\n"
     ]
    },
    {
     "data": {
      "application/vnd.jupyter.widget-view+json": {
       "model_id": "1cca7f6d4f8447a3a4316c6d3b64afbf",
       "version_major": 2,
       "version_minor": 0
      },
      "text/plain": [
       "  0%|          | 0/62 [00:00<?, ?it/s]"
      ]
     },
     "metadata": {},
     "output_type": "display_data"
    },
    {
     "name": "stdout",
     "output_type": "stream",
     "text": [
      "epoch 13 val acc 0.7517641129032258\n"
     ]
    },
    {
     "data": {
      "application/vnd.jupyter.widget-view+json": {
       "model_id": "a61a98b93df246d7ac26e4468fa4f108",
       "version_major": 2,
       "version_minor": 0
      },
      "text/plain": [
       "  0%|          | 0/246 [00:00<?, ?it/s]"
      ]
     },
     "metadata": {},
     "output_type": "display_data"
    },
    {
     "name": "stdout",
     "output_type": "stream",
     "text": [
      "epoch 14 batch id 1 loss 0.2669094204902649 train acc 0.953125\n",
      "epoch 14 batch id 201 loss 0.365335077047348 train acc 0.9236629353233831\n",
      "epoch 14 train acc 0.9263634823848238\n"
     ]
    },
    {
     "data": {
      "application/vnd.jupyter.widget-view+json": {
       "model_id": "a2d195083fa5461ebe492e56dead9155",
       "version_major": 2,
       "version_minor": 0
      },
      "text/plain": [
       "  0%|          | 0/62 [00:00<?, ?it/s]"
      ]
     },
     "metadata": {},
     "output_type": "display_data"
    },
    {
     "name": "stdout",
     "output_type": "stream",
     "text": [
      "epoch 14 val acc 0.7600806451612904\n"
     ]
    },
    {
     "data": {
      "application/vnd.jupyter.widget-view+json": {
       "model_id": "84c7b093c3894c26a8fe0544273fcb25",
       "version_major": 2,
       "version_minor": 0
      },
      "text/plain": [
       "  0%|          | 0/246 [00:00<?, ?it/s]"
      ]
     },
     "metadata": {},
     "output_type": "display_data"
    },
    {
     "name": "stdout",
     "output_type": "stream",
     "text": [
      "epoch 15 batch id 1 loss 0.1787523627281189 train acc 0.984375\n",
      "epoch 15 batch id 201 loss 0.28245237469673157 train acc 0.9392101990049752\n",
      "epoch 15 train acc 0.9405191395663957\n"
     ]
    },
    {
     "data": {
      "application/vnd.jupyter.widget-view+json": {
       "model_id": "684d53af712e45cda38bb2a67de6b5ee",
       "version_major": 2,
       "version_minor": 0
      },
      "text/plain": [
       "  0%|          | 0/62 [00:00<?, ?it/s]"
      ]
     },
     "metadata": {},
     "output_type": "display_data"
    },
    {
     "name": "stdout",
     "output_type": "stream",
     "text": [
      "epoch 15 val acc 0.7527721774193549\n"
     ]
    },
    {
     "data": {
      "application/vnd.jupyter.widget-view+json": {
       "model_id": "10c96e1bc73d435583d26e1b1a35f921",
       "version_major": 2,
       "version_minor": 0
      },
      "text/plain": [
       "  0%|          | 0/246 [00:00<?, ?it/s]"
      ]
     },
     "metadata": {},
     "output_type": "display_data"
    },
    {
     "name": "stdout",
     "output_type": "stream",
     "text": [
      "epoch 16 batch id 1 loss 0.21890072524547577 train acc 0.9375\n",
      "epoch 16 batch id 201 loss 0.24516324698925018 train acc 0.9484608208955224\n",
      "epoch 16 train acc 0.9488482384823848\n"
     ]
    },
    {
     "data": {
      "application/vnd.jupyter.widget-view+json": {
       "model_id": "40c0bc787a8249828a3d89f332a181b4",
       "version_major": 2,
       "version_minor": 0
      },
      "text/plain": [
       "  0%|          | 0/62 [00:00<?, ?it/s]"
      ]
     },
     "metadata": {},
     "output_type": "display_data"
    },
    {
     "name": "stdout",
     "output_type": "stream",
     "text": [
      "epoch 16 val acc 0.7583165322580645\n"
     ]
    },
    {
     "data": {
      "application/vnd.jupyter.widget-view+json": {
       "model_id": "3e0b7de08c984087833a75c460562e68",
       "version_major": 2,
       "version_minor": 0
      },
      "text/plain": [
       "  0%|          | 0/246 [00:00<?, ?it/s]"
      ]
     },
     "metadata": {},
     "output_type": "display_data"
    },
    {
     "name": "stdout",
     "output_type": "stream",
     "text": [
      "epoch 17 batch id 1 loss 0.1313067376613617 train acc 0.984375\n",
      "epoch 17 batch id 201 loss 0.14819106459617615 train acc 0.9598103233830846\n",
      "epoch 17 train acc 0.9601710704607046\n"
     ]
    },
    {
     "data": {
      "application/vnd.jupyter.widget-view+json": {
       "model_id": "7912ade7e2374a96839242fa385c5996",
       "version_major": 2,
       "version_minor": 0
      },
      "text/plain": [
       "  0%|          | 0/62 [00:00<?, ?it/s]"
      ]
     },
     "metadata": {},
     "output_type": "display_data"
    },
    {
     "name": "stdout",
     "output_type": "stream",
     "text": [
      "epoch 17 val acc 0.764616935483871\n"
     ]
    },
    {
     "data": {
      "application/vnd.jupyter.widget-view+json": {
       "model_id": "320226b85d6942a99df62352b843dfdc",
       "version_major": 2,
       "version_minor": 0
      },
      "text/plain": [
       "  0%|          | 0/246 [00:00<?, ?it/s]"
      ]
     },
     "metadata": {},
     "output_type": "display_data"
    },
    {
     "name": "stdout",
     "output_type": "stream",
     "text": [
      "epoch 18 batch id 1 loss 0.1087663397192955 train acc 0.984375\n",
      "epoch 18 batch id 201 loss 0.17271757125854492 train acc 0.9659514925373134\n",
      "epoch 18 train acc 0.9662008807588076\n"
     ]
    },
    {
     "data": {
      "application/vnd.jupyter.widget-view+json": {
       "model_id": "a3b7f6fa6bbe4470bfa860c8426b9ebb",
       "version_major": 2,
       "version_minor": 0
      },
      "text/plain": [
       "  0%|          | 0/62 [00:00<?, ?it/s]"
      ]
     },
     "metadata": {},
     "output_type": "display_data"
    },
    {
     "name": "stdout",
     "output_type": "stream",
     "text": [
      "epoch 18 val acc 0.7641129032258065\n"
     ]
    },
    {
     "data": {
      "application/vnd.jupyter.widget-view+json": {
       "model_id": "a1234888a2dd4258bdd909743328baa7",
       "version_major": 2,
       "version_minor": 0
      },
      "text/plain": [
       "  0%|          | 0/246 [00:00<?, ?it/s]"
      ]
     },
     "metadata": {},
     "output_type": "display_data"
    },
    {
     "name": "stdout",
     "output_type": "stream",
     "text": [
      "epoch 19 batch id 1 loss 0.08183453232049942 train acc 0.984375\n",
      "epoch 19 batch id 201 loss 0.10821091383695602 train acc 0.9712375621890548\n",
      "epoch 19 train acc 0.9722391598915988\n"
     ]
    },
    {
     "data": {
      "application/vnd.jupyter.widget-view+json": {
       "model_id": "3b154d7ecb2548bcad95cbe8d91f5d0a",
       "version_major": 2,
       "version_minor": 0
      },
      "text/plain": [
       "  0%|          | 0/62 [00:00<?, ?it/s]"
      ]
     },
     "metadata": {},
     "output_type": "display_data"
    },
    {
     "name": "stdout",
     "output_type": "stream",
     "text": [
      "epoch 19 val acc 0.7739415322580645\n"
     ]
    },
    {
     "data": {
      "application/vnd.jupyter.widget-view+json": {
       "model_id": "d3df4cf78e094c89b441591f5f03a036",
       "version_major": 2,
       "version_minor": 0
      },
      "text/plain": [
       "  0%|          | 0/246 [00:00<?, ?it/s]"
      ]
     },
     "metadata": {},
     "output_type": "display_data"
    },
    {
     "name": "stdout",
     "output_type": "stream",
     "text": [
      "epoch 20 batch id 1 loss 0.07307644933462143 train acc 0.984375\n",
      "epoch 20 batch id 201 loss 0.0989377498626709 train acc 0.9752798507462687\n",
      "epoch 20 train acc 0.9753514566395663\n"
     ]
    },
    {
     "data": {
      "application/vnd.jupyter.widget-view+json": {
       "model_id": "1612071ffffd4c2cba58f059624022f7",
       "version_major": 2,
       "version_minor": 0
      },
      "text/plain": [
       "  0%|          | 0/62 [00:00<?, ?it/s]"
      ]
     },
     "metadata": {},
     "output_type": "display_data"
    },
    {
     "name": "stdout",
     "output_type": "stream",
     "text": [
      "epoch 20 val acc 0.7709173387096774\n"
     ]
    },
    {
     "data": {
      "application/vnd.jupyter.widget-view+json": {
       "model_id": "4b9acbb549c944ea8db83d3d207f6d19",
       "version_major": 2,
       "version_minor": 0
      },
      "text/plain": [
       "  0%|          | 0/246 [00:00<?, ?it/s]"
      ]
     },
     "metadata": {},
     "output_type": "display_data"
    },
    {
     "name": "stdout",
     "output_type": "stream",
     "text": [
      "epoch 21 batch id 1 loss 0.03667587786912918 train acc 1.0\n",
      "epoch 21 batch id 201 loss 0.06282099336385727 train acc 0.9782338308457711\n",
      "epoch 21 train acc 0.9786458333333333\n"
     ]
    },
    {
     "data": {
      "application/vnd.jupyter.widget-view+json": {
       "model_id": "09b97dc7916e4d5699133de9910bde01",
       "version_major": 2,
       "version_minor": 0
      },
      "text/plain": [
       "  0%|          | 0/62 [00:00<?, ?it/s]"
      ]
     },
     "metadata": {},
     "output_type": "display_data"
    },
    {
     "name": "stdout",
     "output_type": "stream",
     "text": [
      "epoch 21 val acc 0.7711693548387096\n"
     ]
    },
    {
     "data": {
      "application/vnd.jupyter.widget-view+json": {
       "model_id": "fbc3f409638e4511b51ec7b9ea45004f",
       "version_major": 2,
       "version_minor": 0
      },
      "text/plain": [
       "  0%|          | 0/246 [00:00<?, ?it/s]"
      ]
     },
     "metadata": {},
     "output_type": "display_data"
    },
    {
     "name": "stdout",
     "output_type": "stream",
     "text": [
      "epoch 22 batch id 1 loss 0.04199948534369469 train acc 1.0\n",
      "epoch 22 batch id 201 loss 0.17456145584583282 train acc 0.982431592039801\n",
      "epoch 22 train acc 0.9829734078590785\n"
     ]
    },
    {
     "data": {
      "application/vnd.jupyter.widget-view+json": {
       "model_id": "126ed99deb4140c282d7082db1c2b1fd",
       "version_major": 2,
       "version_minor": 0
      },
      "text/plain": [
       "  0%|          | 0/62 [00:00<?, ?it/s]"
      ]
     },
     "metadata": {},
     "output_type": "display_data"
    },
    {
     "name": "stdout",
     "output_type": "stream",
     "text": [
      "epoch 22 val acc 0.7709173387096774\n"
     ]
    },
    {
     "data": {
      "application/vnd.jupyter.widget-view+json": {
       "model_id": "4b36cc2c1d254285a892f9ad18fb08c0",
       "version_major": 2,
       "version_minor": 0
      },
      "text/plain": [
       "  0%|          | 0/246 [00:00<?, ?it/s]"
      ]
     },
     "metadata": {},
     "output_type": "display_data"
    },
    {
     "name": "stdout",
     "output_type": "stream",
     "text": [
      "epoch 23 batch id 1 loss 0.04087559133768082 train acc 1.0\n",
      "epoch 23 batch id 201 loss 0.05714114010334015 train acc 0.9849968905472637\n",
      "epoch 23 train acc 0.9858951558265582\n"
     ]
    },
    {
     "data": {
      "application/vnd.jupyter.widget-view+json": {
       "model_id": "019d2daea3034fe085f3719d554c0d60",
       "version_major": 2,
       "version_minor": 0
      },
      "text/plain": [
       "  0%|          | 0/62 [00:00<?, ?it/s]"
      ]
     },
     "metadata": {},
     "output_type": "display_data"
    },
    {
     "name": "stdout",
     "output_type": "stream",
     "text": [
      "epoch 23 val acc 0.7782258064516129\n"
     ]
    },
    {
     "data": {
      "application/vnd.jupyter.widget-view+json": {
       "model_id": "47aa6556b0214b29bffc527587afc41c",
       "version_major": 2,
       "version_minor": 0
      },
      "text/plain": [
       "  0%|          | 0/246 [00:00<?, ?it/s]"
      ]
     },
     "metadata": {},
     "output_type": "display_data"
    },
    {
     "name": "stdout",
     "output_type": "stream",
     "text": [
      "epoch 24 batch id 1 loss 0.02947463095188141 train acc 1.0\n",
      "epoch 24 batch id 201 loss 0.03973786532878876 train acc 0.9894278606965174\n",
      "epoch 24 train acc 0.9894478319783198\n"
     ]
    },
    {
     "data": {
      "application/vnd.jupyter.widget-view+json": {
       "model_id": "d1dfb298ed1f4148af8984d15ded8689",
       "version_major": 2,
       "version_minor": 0
      },
      "text/plain": [
       "  0%|          | 0/62 [00:00<?, ?it/s]"
      ]
     },
     "metadata": {},
     "output_type": "display_data"
    },
    {
     "name": "stdout",
     "output_type": "stream",
     "text": [
      "epoch 24 val acc 0.7840221774193549\n"
     ]
    },
    {
     "data": {
      "application/vnd.jupyter.widget-view+json": {
       "model_id": "a53327c87bca423ea9b164d69a7dbc1f",
       "version_major": 2,
       "version_minor": 0
      },
      "text/plain": [
       "  0%|          | 0/246 [00:00<?, ?it/s]"
      ]
     },
     "metadata": {},
     "output_type": "display_data"
    },
    {
     "name": "stdout",
     "output_type": "stream",
     "text": [
      "epoch 25 batch id 1 loss 0.06621819734573364 train acc 0.984375\n",
      "epoch 25 batch id 201 loss 0.04227423295378685 train acc 0.9898165422885572\n",
      "epoch 25 train acc 0.9902777777777777\n"
     ]
    },
    {
     "data": {
      "application/vnd.jupyter.widget-view+json": {
       "model_id": "794031c0c7ca447fb7b315920b820054",
       "version_major": 2,
       "version_minor": 0
      },
      "text/plain": [
       "  0%|          | 0/62 [00:00<?, ?it/s]"
      ]
     },
     "metadata": {},
     "output_type": "display_data"
    },
    {
     "name": "stdout",
     "output_type": "stream",
     "text": [
      "epoch 25 val acc 0.7779737903225806\n"
     ]
    },
    {
     "data": {
      "application/vnd.jupyter.widget-view+json": {
       "model_id": "fcb87e8d031144bdb3f86d4fb76a7410",
       "version_major": 2,
       "version_minor": 0
      },
      "text/plain": [
       "  0%|          | 0/246 [00:00<?, ?it/s]"
      ]
     },
     "metadata": {},
     "output_type": "display_data"
    },
    {
     "name": "stdout",
     "output_type": "stream",
     "text": [
      "epoch 26 batch id 1 loss 0.019710393622517586 train acc 1.0\n",
      "epoch 26 batch id 201 loss 0.03080889768898487 train acc 0.9934701492537313\n",
      "epoch 26 train acc 0.9935213414634146\n"
     ]
    },
    {
     "data": {
      "application/vnd.jupyter.widget-view+json": {
       "model_id": "11ea16a99af54b0aa93e50520e3611cb",
       "version_major": 2,
       "version_minor": 0
      },
      "text/plain": [
       "  0%|          | 0/62 [00:00<?, ?it/s]"
      ]
     },
     "metadata": {},
     "output_type": "display_data"
    },
    {
     "name": "stdout",
     "output_type": "stream",
     "text": [
      "epoch 26 val acc 0.7764616935483871\n"
     ]
    },
    {
     "data": {
      "application/vnd.jupyter.widget-view+json": {
       "model_id": "4ecbc7514fc944b7b62519930779eead",
       "version_major": 2,
       "version_minor": 0
      },
      "text/plain": [
       "  0%|          | 0/246 [00:00<?, ?it/s]"
      ]
     },
     "metadata": {},
     "output_type": "display_data"
    },
    {
     "name": "stdout",
     "output_type": "stream",
     "text": [
      "epoch 27 batch id 1 loss 0.01465157512575388 train acc 1.0\n",
      "epoch 27 batch id 201 loss 0.041867006570100784 train acc 0.9953358208955224\n",
      "epoch 27 train acc 0.9951092479674797\n"
     ]
    },
    {
     "data": {
      "application/vnd.jupyter.widget-view+json": {
       "model_id": "b25a1ad570084001b554af3e729e63aa",
       "version_major": 2,
       "version_minor": 0
      },
      "text/plain": [
       "  0%|          | 0/62 [00:00<?, ?it/s]"
      ]
     },
     "metadata": {},
     "output_type": "display_data"
    },
    {
     "name": "stdout",
     "output_type": "stream",
     "text": [
      "epoch 27 val acc 0.7754536290322581\n"
     ]
    },
    {
     "data": {
      "application/vnd.jupyter.widget-view+json": {
       "model_id": "1750222467fb43ce8d8d596dbdc00c44",
       "version_major": 2,
       "version_minor": 0
      },
      "text/plain": [
       "  0%|          | 0/246 [00:00<?, ?it/s]"
      ]
     },
     "metadata": {},
     "output_type": "display_data"
    },
    {
     "name": "stdout",
     "output_type": "stream",
     "text": [
      "epoch 28 batch id 1 loss 0.012304246425628662 train acc 1.0\n",
      "epoch 28 batch id 201 loss 0.03741200268268585 train acc 0.9955690298507462\n",
      "epoch 28 train acc 0.9952997967479674\n"
     ]
    },
    {
     "data": {
      "application/vnd.jupyter.widget-view+json": {
       "model_id": "ac09354bd6734a9eab1307dac80fe43b",
       "version_major": 2,
       "version_minor": 0
      },
      "text/plain": [
       "  0%|          | 0/62 [00:00<?, ?it/s]"
      ]
     },
     "metadata": {},
     "output_type": "display_data"
    },
    {
     "name": "stdout",
     "output_type": "stream",
     "text": [
      "epoch 28 val acc 0.7830141129032258\n"
     ]
    },
    {
     "data": {
      "application/vnd.jupyter.widget-view+json": {
       "model_id": "ecaffec30634408ba81404a316c59874",
       "version_major": 2,
       "version_minor": 0
      },
      "text/plain": [
       "  0%|          | 0/246 [00:00<?, ?it/s]"
      ]
     },
     "metadata": {},
     "output_type": "display_data"
    },
    {
     "name": "stdout",
     "output_type": "stream",
     "text": [
      "epoch 29 batch id 1 loss 0.012119951657950878 train acc 1.0\n",
      "epoch 29 batch id 201 loss 0.011160406284034252 train acc 0.9972792288557214\n",
      "epoch 29 train acc 0.9973323170731707\n"
     ]
    },
    {
     "data": {
      "application/vnd.jupyter.widget-view+json": {
       "model_id": "0eb09bb6610c49d7ac54abdeb135d656",
       "version_major": 2,
       "version_minor": 0
      },
      "text/plain": [
       "  0%|          | 0/62 [00:00<?, ?it/s]"
      ]
     },
     "metadata": {},
     "output_type": "display_data"
    },
    {
     "name": "stdout",
     "output_type": "stream",
     "text": [
      "epoch 29 val acc 0.7779737903225806\n"
     ]
    },
    {
     "data": {
      "application/vnd.jupyter.widget-view+json": {
       "model_id": "43e0be30b622452d8b75f5af6f23af95",
       "version_major": 2,
       "version_minor": 0
      },
      "text/plain": [
       "  0%|          | 0/246 [00:00<?, ?it/s]"
      ]
     },
     "metadata": {},
     "output_type": "display_data"
    },
    {
     "name": "stdout",
     "output_type": "stream",
     "text": [
      "epoch 30 batch id 1 loss 0.0075401742942631245 train acc 1.0\n",
      "epoch 30 batch id 201 loss 0.007737632375210524 train acc 0.9973569651741293\n",
      "epoch 30 train acc 0.9973323170731707\n"
     ]
    },
    {
     "data": {
      "application/vnd.jupyter.widget-view+json": {
       "model_id": "bf582bf12ac5466ba08ccfe03df965c4",
       "version_major": 2,
       "version_minor": 0
      },
      "text/plain": [
       "  0%|          | 0/62 [00:00<?, ?it/s]"
      ]
     },
     "metadata": {},
     "output_type": "display_data"
    },
    {
     "name": "stdout",
     "output_type": "stream",
     "text": [
      "epoch 30 val acc 0.7772177419354839\n"
     ]
    },
    {
     "data": {
      "application/vnd.jupyter.widget-view+json": {
       "model_id": "ac1dcf0637b44c64aaec0ae7f7a6e8c0",
       "version_major": 2,
       "version_minor": 0
      },
      "text/plain": [
       "  0%|          | 0/246 [00:00<?, ?it/s]"
      ]
     },
     "metadata": {},
     "output_type": "display_data"
    },
    {
     "name": "stdout",
     "output_type": "stream",
     "text": [
      "epoch 31 batch id 1 loss 0.0083512794226408 train acc 1.0\n",
      "epoch 31 batch id 201 loss 0.005867775063961744 train acc 0.9989894278606966\n",
      "epoch 31 train acc 0.9987931910569106\n"
     ]
    },
    {
     "data": {
      "application/vnd.jupyter.widget-view+json": {
       "model_id": "4693e3db1e5e432ba43973ea2d98a77f",
       "version_major": 2,
       "version_minor": 0
      },
      "text/plain": [
       "  0%|          | 0/62 [00:00<?, ?it/s]"
      ]
     },
     "metadata": {},
     "output_type": "display_data"
    },
    {
     "name": "stdout",
     "output_type": "stream",
     "text": [
      "epoch 31 val acc 0.7797379032258065\n"
     ]
    },
    {
     "data": {
      "application/vnd.jupyter.widget-view+json": {
       "model_id": "46dac95a960d435580185f32c0e13ffc",
       "version_major": 2,
       "version_minor": 0
      },
      "text/plain": [
       "  0%|          | 0/246 [00:00<?, ?it/s]"
      ]
     },
     "metadata": {},
     "output_type": "display_data"
    },
    {
     "name": "stdout",
     "output_type": "stream",
     "text": [
      "epoch 32 batch id 1 loss 0.005646302364766598 train acc 1.0\n",
      "epoch 32 batch id 201 loss 0.008747413754463196 train acc 0.9989894278606966\n",
      "epoch 32 train acc 0.9987254403794037\n"
     ]
    },
    {
     "data": {
      "application/vnd.jupyter.widget-view+json": {
       "model_id": "761794ba1b634d60aeaaf994685aa95a",
       "version_major": 2,
       "version_minor": 0
      },
      "text/plain": [
       "  0%|          | 0/62 [00:00<?, ?it/s]"
      ]
     },
     "metadata": {},
     "output_type": "display_data"
    },
    {
     "name": "stdout",
     "output_type": "stream",
     "text": [
      "epoch 32 val acc 0.7784778225806451\n"
     ]
    },
    {
     "data": {
      "application/vnd.jupyter.widget-view+json": {
       "model_id": "464bfcb5e9874b10a570b19d21002822",
       "version_major": 2,
       "version_minor": 0
      },
      "text/plain": [
       "  0%|          | 0/246 [00:00<?, ?it/s]"
      ]
     },
     "metadata": {},
     "output_type": "display_data"
    },
    {
     "name": "stdout",
     "output_type": "stream",
     "text": [
      "epoch 33 batch id 1 loss 0.005828913301229477 train acc 1.0\n",
      "epoch 33 batch id 201 loss 0.005522086285054684 train acc 0.9984452736318408\n",
      "epoch 33 train acc 0.9983485772357723\n"
     ]
    },
    {
     "data": {
      "application/vnd.jupyter.widget-view+json": {
       "model_id": "26d0e3700a364a499c1710c4f95fc5d2",
       "version_major": 2,
       "version_minor": 0
      },
      "text/plain": [
       "  0%|          | 0/62 [00:00<?, ?it/s]"
      ]
     },
     "metadata": {},
     "output_type": "display_data"
    },
    {
     "name": "stdout",
     "output_type": "stream",
     "text": [
      "epoch 33 val acc 0.7817540322580645\n"
     ]
    },
    {
     "data": {
      "application/vnd.jupyter.widget-view+json": {
       "model_id": "8ab3bff55e824dcfabc478816d2d8463",
       "version_major": 2,
       "version_minor": 0
      },
      "text/plain": [
       "  0%|          | 0/246 [00:00<?, ?it/s]"
      ]
     },
     "metadata": {},
     "output_type": "display_data"
    },
    {
     "name": "stdout",
     "output_type": "stream",
     "text": [
      "epoch 34 batch id 1 loss 0.003972983453422785 train acc 1.0\n",
      "epoch 34 batch id 201 loss 0.0044632768258452415 train acc 0.9993003731343284\n",
      "epoch 34 train acc 0.9989795054200541\n"
     ]
    },
    {
     "data": {
      "application/vnd.jupyter.widget-view+json": {
       "model_id": "364b91e769eb435d870b7fc7a5663d72",
       "version_major": 2,
       "version_minor": 0
      },
      "text/plain": [
       "  0%|          | 0/62 [00:00<?, ?it/s]"
      ]
     },
     "metadata": {},
     "output_type": "display_data"
    },
    {
     "name": "stdout",
     "output_type": "stream",
     "text": [
      "epoch 34 val acc 0.7835181451612904\n"
     ]
    },
    {
     "data": {
      "application/vnd.jupyter.widget-view+json": {
       "model_id": "7b197221f8aa4b8c96ae6cf525c6b643",
       "version_major": 2,
       "version_minor": 0
      },
      "text/plain": [
       "  0%|          | 0/246 [00:00<?, ?it/s]"
      ]
     },
     "metadata": {},
     "output_type": "display_data"
    },
    {
     "name": "stdout",
     "output_type": "stream",
     "text": [
      "epoch 35 batch id 1 loss 0.0037479472812265158 train acc 1.0\n",
      "epoch 35 batch id 201 loss 0.004606915637850761 train acc 0.9993003731343284\n",
      "epoch 35 train acc 0.9991107723577236\n"
     ]
    },
    {
     "data": {
      "application/vnd.jupyter.widget-view+json": {
       "model_id": "b0e163b1e6bd4f7799740348143a2b9b",
       "version_major": 2,
       "version_minor": 0
      },
      "text/plain": [
       "  0%|          | 0/62 [00:00<?, ?it/s]"
      ]
     },
     "metadata": {},
     "output_type": "display_data"
    },
    {
     "name": "stdout",
     "output_type": "stream",
     "text": [
      "epoch 35 val acc 0.7827620967741935\n"
     ]
    },
    {
     "data": {
      "application/vnd.jupyter.widget-view+json": {
       "model_id": "bbb0a199a76d422d8ccffee4df218906",
       "version_major": 2,
       "version_minor": 0
      },
      "text/plain": [
       "  0%|          | 0/246 [00:00<?, ?it/s]"
      ]
     },
     "metadata": {},
     "output_type": "display_data"
    },
    {
     "name": "stdout",
     "output_type": "stream",
     "text": [
      "epoch 36 batch id 1 loss 0.0027343600522726774 train acc 1.0\n",
      "epoch 36 batch id 201 loss 0.005326630547642708 train acc 0.9995335820895522\n",
      "epoch 36 train acc 0.9994283536585366\n"
     ]
    },
    {
     "data": {
      "application/vnd.jupyter.widget-view+json": {
       "model_id": "085136f3b19b4b2d887ecdab65400a17",
       "version_major": 2,
       "version_minor": 0
      },
      "text/plain": [
       "  0%|          | 0/62 [00:00<?, ?it/s]"
      ]
     },
     "metadata": {},
     "output_type": "display_data"
    },
    {
     "name": "stdout",
     "output_type": "stream",
     "text": [
      "epoch 36 val acc 0.7870463709677419\n"
     ]
    },
    {
     "data": {
      "application/vnd.jupyter.widget-view+json": {
       "model_id": "71c6e009f57c41f0bbce183cca248978",
       "version_major": 2,
       "version_minor": 0
      },
      "text/plain": [
       "  0%|          | 0/246 [00:00<?, ?it/s]"
      ]
     },
     "metadata": {},
     "output_type": "display_data"
    },
    {
     "name": "stdout",
     "output_type": "stream",
     "text": [
      "epoch 37 batch id 1 loss 0.0030500751454383135 train acc 1.0\n",
      "epoch 37 batch id 201 loss 0.005260846111923456 train acc 0.9995335820895522\n",
      "epoch 37 train acc 0.999364837398374\n"
     ]
    },
    {
     "data": {
      "application/vnd.jupyter.widget-view+json": {
       "model_id": "8eb32f7cfa5f4ccab2877b437618b56c",
       "version_major": 2,
       "version_minor": 0
      },
      "text/plain": [
       "  0%|          | 0/62 [00:00<?, ?it/s]"
      ]
     },
     "metadata": {},
     "output_type": "display_data"
    },
    {
     "name": "stdout",
     "output_type": "stream",
     "text": [
      "epoch 37 val acc 0.7870463709677419\n"
     ]
    },
    {
     "data": {
      "application/vnd.jupyter.widget-view+json": {
       "model_id": "75c42f86c833422c9aaa7d830962590c",
       "version_major": 2,
       "version_minor": 0
      },
      "text/plain": [
       "  0%|          | 0/246 [00:00<?, ?it/s]"
      ]
     },
     "metadata": {},
     "output_type": "display_data"
    },
    {
     "name": "stdout",
     "output_type": "stream",
     "text": [
      "epoch 38 batch id 1 loss 0.0022564297541975975 train acc 1.0\n",
      "epoch 38 batch id 201 loss 0.003034718334674835 train acc 0.9997667910447762\n",
      "epoch 38 train acc 0.9996189024390244\n"
     ]
    },
    {
     "data": {
      "application/vnd.jupyter.widget-view+json": {
       "model_id": "d2f3a2bda97f403293005ba51fa512bf",
       "version_major": 2,
       "version_minor": 0
      },
      "text/plain": [
       "  0%|          | 0/62 [00:00<?, ?it/s]"
      ]
     },
     "metadata": {},
     "output_type": "display_data"
    },
    {
     "name": "stdout",
     "output_type": "stream",
     "text": [
      "epoch 38 val acc 0.7878024193548387\n"
     ]
    },
    {
     "data": {
      "application/vnd.jupyter.widget-view+json": {
       "model_id": "aaafe566452c43e4985755557f5d9045",
       "version_major": 2,
       "version_minor": 0
      },
      "text/plain": [
       "  0%|          | 0/246 [00:00<?, ?it/s]"
      ]
     },
     "metadata": {},
     "output_type": "display_data"
    },
    {
     "name": "stdout",
     "output_type": "stream",
     "text": [
      "epoch 39 batch id 1 loss 0.0026949774473905563 train acc 1.0\n",
      "epoch 39 batch id 201 loss 0.005024312529712915 train acc 0.9995335820895522\n",
      "epoch 39 train acc 0.9995553861788617\n"
     ]
    },
    {
     "data": {
      "application/vnd.jupyter.widget-view+json": {
       "model_id": "8b2124cd71d443bf82761b583983413c",
       "version_major": 2,
       "version_minor": 0
      },
      "text/plain": [
       "  0%|          | 0/62 [00:00<?, ?it/s]"
      ]
     },
     "metadata": {},
     "output_type": "display_data"
    },
    {
     "name": "stdout",
     "output_type": "stream",
     "text": [
      "epoch 39 val acc 0.7875504032258065\n"
     ]
    },
    {
     "data": {
      "application/vnd.jupyter.widget-view+json": {
       "model_id": "b3a8e57e50274d6fab63b8b4fda55afe",
       "version_major": 2,
       "version_minor": 0
      },
      "text/plain": [
       "  0%|          | 0/246 [00:00<?, ?it/s]"
      ]
     },
     "metadata": {},
     "output_type": "display_data"
    },
    {
     "name": "stdout",
     "output_type": "stream",
     "text": [
      "epoch 40 batch id 1 loss 0.0028276348020881414 train acc 1.0\n",
      "epoch 40 batch id 201 loss 0.002320436993613839 train acc 0.9996890547263682\n",
      "epoch 40 train acc 0.999682418699187\n"
     ]
    },
    {
     "data": {
      "application/vnd.jupyter.widget-view+json": {
       "model_id": "821ee58eae3f4ed6b3dedd03e8692219",
       "version_major": 2,
       "version_minor": 0
      },
      "text/plain": [
       "  0%|          | 0/62 [00:00<?, ?it/s]"
      ]
     },
     "metadata": {},
     "output_type": "display_data"
    },
    {
     "name": "stdout",
     "output_type": "stream",
     "text": [
      "epoch 40 val acc 0.7885584677419355\n"
     ]
    },
    {
     "data": {
      "application/vnd.jupyter.widget-view+json": {
       "model_id": "6535d8921c72437c8fc2e05ae332abd1",
       "version_major": 2,
       "version_minor": 0
      },
      "text/plain": [
       "  0%|          | 0/246 [00:00<?, ?it/s]"
      ]
     },
     "metadata": {},
     "output_type": "display_data"
    },
    {
     "name": "stdout",
     "output_type": "stream",
     "text": [
      "epoch 41 batch id 1 loss 0.0022899978794157505 train acc 1.0\n",
      "epoch 41 batch id 201 loss 0.0029680742882192135 train acc 0.9998445273631841\n",
      "epoch 41 train acc 0.9997459349593496\n"
     ]
    },
    {
     "data": {
      "application/vnd.jupyter.widget-view+json": {
       "model_id": "ffd5462950cc483fbed25d23a304fab0",
       "version_major": 2,
       "version_minor": 0
      },
      "text/plain": [
       "  0%|          | 0/62 [00:00<?, ?it/s]"
      ]
     },
     "metadata": {},
     "output_type": "display_data"
    },
    {
     "name": "stdout",
     "output_type": "stream",
     "text": [
      "epoch 41 val acc 0.7860383064516129\n"
     ]
    },
    {
     "data": {
      "application/vnd.jupyter.widget-view+json": {
       "model_id": "fed3e4e3bf224458b8aa8a01521ebb23",
       "version_major": 2,
       "version_minor": 0
      },
      "text/plain": [
       "  0%|          | 0/246 [00:00<?, ?it/s]"
      ]
     },
     "metadata": {},
     "output_type": "display_data"
    },
    {
     "name": "stdout",
     "output_type": "stream",
     "text": [
      "epoch 42 batch id 1 loss 0.002159286756068468 train acc 1.0\n",
      "epoch 42 batch id 201 loss 0.0021159679163247347 train acc 0.9999222636815921\n",
      "epoch 42 train acc 0.9998094512195121\n"
     ]
    },
    {
     "data": {
      "application/vnd.jupyter.widget-view+json": {
       "model_id": "c59122a40d254ac6aeec4ab2c871235a",
       "version_major": 2,
       "version_minor": 0
      },
      "text/plain": [
       "  0%|          | 0/62 [00:00<?, ?it/s]"
      ]
     },
     "metadata": {},
     "output_type": "display_data"
    },
    {
     "name": "stdout",
     "output_type": "stream",
     "text": [
      "epoch 42 val acc 0.7872983870967742\n"
     ]
    },
    {
     "data": {
      "application/vnd.jupyter.widget-view+json": {
       "model_id": "d40e23eefedd46cf9288c30f1b095b0f",
       "version_major": 2,
       "version_minor": 0
      },
      "text/plain": [
       "  0%|          | 0/246 [00:00<?, ?it/s]"
      ]
     },
     "metadata": {},
     "output_type": "display_data"
    },
    {
     "name": "stdout",
     "output_type": "stream",
     "text": [
      "epoch 43 batch id 1 loss 0.0023164956364780664 train acc 1.0\n",
      "epoch 43 batch id 201 loss 0.002801391761749983 train acc 0.9997667910447762\n",
      "epoch 43 train acc 0.9998094512195121\n"
     ]
    },
    {
     "data": {
      "application/vnd.jupyter.widget-view+json": {
       "model_id": "f96f5f5bc8f443ccb780cb3a4cc25439",
       "version_major": 2,
       "version_minor": 0
      },
      "text/plain": [
       "  0%|          | 0/62 [00:00<?, ?it/s]"
      ]
     },
     "metadata": {},
     "output_type": "display_data"
    },
    {
     "name": "stdout",
     "output_type": "stream",
     "text": [
      "epoch 43 val acc 0.7870463709677419\n"
     ]
    },
    {
     "data": {
      "application/vnd.jupyter.widget-view+json": {
       "model_id": "683d774b2b2b4e89aebafadbfa127b06",
       "version_major": 2,
       "version_minor": 0
      },
      "text/plain": [
       "  0%|          | 0/246 [00:00<?, ?it/s]"
      ]
     },
     "metadata": {},
     "output_type": "display_data"
    },
    {
     "name": "stdout",
     "output_type": "stream",
     "text": [
      "epoch 44 batch id 1 loss 0.002395056886598468 train acc 1.0\n",
      "epoch 44 batch id 201 loss 0.0023936869110912085 train acc 0.9996113184079602\n",
      "epoch 44 train acc 0.9995553861788617\n"
     ]
    },
    {
     "data": {
      "application/vnd.jupyter.widget-view+json": {
       "model_id": "f4cbfd2850fb4cda8d6d219e7bff56ca",
       "version_major": 2,
       "version_minor": 0
      },
      "text/plain": [
       "  0%|          | 0/62 [00:00<?, ?it/s]"
      ]
     },
     "metadata": {},
     "output_type": "display_data"
    },
    {
     "name": "stdout",
     "output_type": "stream",
     "text": [
      "epoch 44 val acc 0.7872983870967742\n"
     ]
    },
    {
     "data": {
      "application/vnd.jupyter.widget-view+json": {
       "model_id": "1b69f06eeb6c419cac7a5b4a673393dc",
       "version_major": 2,
       "version_minor": 0
      },
      "text/plain": [
       "  0%|          | 0/246 [00:00<?, ?it/s]"
      ]
     },
     "metadata": {},
     "output_type": "display_data"
    },
    {
     "name": "stdout",
     "output_type": "stream",
     "text": [
      "epoch 45 batch id 1 loss 0.002173510380089283 train acc 1.0\n",
      "epoch 45 batch id 201 loss 0.002594567835330963 train acc 0.9996890547263682\n",
      "epoch 45 train acc 0.9996189024390244\n"
     ]
    },
    {
     "data": {
      "application/vnd.jupyter.widget-view+json": {
       "model_id": "7c037be8c19f41dd8793c466f42e00d8",
       "version_major": 2,
       "version_minor": 0
      },
      "text/plain": [
       "  0%|          | 0/62 [00:00<?, ?it/s]"
      ]
     },
     "metadata": {},
     "output_type": "display_data"
    },
    {
     "name": "stdout",
     "output_type": "stream",
     "text": [
      "epoch 45 val acc 0.7870463709677419\n"
     ]
    },
    {
     "data": {
      "application/vnd.jupyter.widget-view+json": {
       "model_id": "fd481f76ace840e1a1fb6262cf783b8a",
       "version_major": 2,
       "version_minor": 0
      },
      "text/plain": [
       "  0%|          | 0/246 [00:00<?, ?it/s]"
      ]
     },
     "metadata": {},
     "output_type": "display_data"
    },
    {
     "name": "stdout",
     "output_type": "stream",
     "text": [
      "epoch 46 batch id 1 loss 0.004868726711720228 train acc 1.0\n",
      "epoch 46 batch id 201 loss 0.002378295175731182 train acc 0.9996890547263682\n",
      "epoch 46 train acc 0.9996189024390244\n"
     ]
    },
    {
     "data": {
      "application/vnd.jupyter.widget-view+json": {
       "model_id": "994326c964ed415ea26686b83c29e5da",
       "version_major": 2,
       "version_minor": 0
      },
      "text/plain": [
       "  0%|          | 0/62 [00:00<?, ?it/s]"
      ]
     },
     "metadata": {},
     "output_type": "display_data"
    },
    {
     "name": "stdout",
     "output_type": "stream",
     "text": [
      "epoch 46 val acc 0.7857862903225806\n"
     ]
    },
    {
     "data": {
      "application/vnd.jupyter.widget-view+json": {
       "model_id": "d5e67044c96140cc90e0a200e97865d6",
       "version_major": 2,
       "version_minor": 0
      },
      "text/plain": [
       "  0%|          | 0/246 [00:00<?, ?it/s]"
      ]
     },
     "metadata": {},
     "output_type": "display_data"
    },
    {
     "name": "stdout",
     "output_type": "stream",
     "text": [
      "epoch 47 batch id 1 loss 0.0019804902840405703 train acc 1.0\n",
      "epoch 47 batch id 201 loss 0.002650681883096695 train acc 0.9998445273631841\n",
      "epoch 47 train acc 0.9998094512195121\n"
     ]
    },
    {
     "data": {
      "application/vnd.jupyter.widget-view+json": {
       "model_id": "a672521c134445aca19de5f7776242f0",
       "version_major": 2,
       "version_minor": 0
      },
      "text/plain": [
       "  0%|          | 0/62 [00:00<?, ?it/s]"
      ]
     },
     "metadata": {},
     "output_type": "display_data"
    },
    {
     "name": "stdout",
     "output_type": "stream",
     "text": [
      "epoch 47 val acc 0.7860383064516129\n"
     ]
    },
    {
     "data": {
      "application/vnd.jupyter.widget-view+json": {
       "model_id": "f19d450d336d46a3a6ef2daeb638b934",
       "version_major": 2,
       "version_minor": 0
      },
      "text/plain": [
       "  0%|          | 0/246 [00:00<?, ?it/s]"
      ]
     },
     "metadata": {},
     "output_type": "display_data"
    },
    {
     "name": "stdout",
     "output_type": "stream",
     "text": [
      "epoch 48 batch id 1 loss 0.0017671006498858333 train acc 1.0\n",
      "epoch 48 batch id 201 loss 0.0022026654332876205 train acc 0.9998445273631841\n",
      "epoch 48 train acc 0.9998094512195121\n"
     ]
    },
    {
     "data": {
      "application/vnd.jupyter.widget-view+json": {
       "model_id": "a691d31c88c543dcb7e4fd3fc38edbed",
       "version_major": 2,
       "version_minor": 0
      },
      "text/plain": [
       "  0%|          | 0/62 [00:00<?, ?it/s]"
      ]
     },
     "metadata": {},
     "output_type": "display_data"
    },
    {
     "name": "stdout",
     "output_type": "stream",
     "text": [
      "epoch 48 val acc 0.7860383064516129\n"
     ]
    },
    {
     "data": {
      "application/vnd.jupyter.widget-view+json": {
       "model_id": "b8bc1d31d98e4431a8763a9a33aadad6",
       "version_major": 2,
       "version_minor": 0
      },
      "text/plain": [
       "  0%|          | 0/246 [00:00<?, ?it/s]"
      ]
     },
     "metadata": {},
     "output_type": "display_data"
    },
    {
     "name": "stdout",
     "output_type": "stream",
     "text": [
      "epoch 49 batch id 1 loss 0.0018936867127195 train acc 1.0\n",
      "epoch 49 batch id 201 loss 0.003020789474248886 train acc 0.9999222636815921\n",
      "epoch 49 train acc 0.9998094512195121\n"
     ]
    },
    {
     "data": {
      "application/vnd.jupyter.widget-view+json": {
       "model_id": "0c16bad752e245d3a79ea13eae1ef926",
       "version_major": 2,
       "version_minor": 0
      },
      "text/plain": [
       "  0%|          | 0/62 [00:00<?, ?it/s]"
      ]
     },
     "metadata": {},
     "output_type": "display_data"
    },
    {
     "name": "stdout",
     "output_type": "stream",
     "text": [
      "epoch 49 val acc 0.7857862903225806\n"
     ]
    },
    {
     "data": {
      "application/vnd.jupyter.widget-view+json": {
       "model_id": "5878d420c1d949aa8605d7fc0fceba3f",
       "version_major": 2,
       "version_minor": 0
      },
      "text/plain": [
       "  0%|          | 0/246 [00:00<?, ?it/s]"
      ]
     },
     "metadata": {},
     "output_type": "display_data"
    },
    {
     "name": "stdout",
     "output_type": "stream",
     "text": [
      "epoch 50 batch id 1 loss 0.0020974017679691315 train acc 1.0\n",
      "epoch 50 batch id 201 loss 0.0029267664067447186 train acc 0.9997667910447762\n",
      "epoch 50 train acc 0.999682418699187\n"
     ]
    },
    {
     "data": {
      "application/vnd.jupyter.widget-view+json": {
       "model_id": "78c8f99821274ff6b8c766fcef3364bd",
       "version_major": 2,
       "version_minor": 0
      },
      "text/plain": [
       "  0%|          | 0/62 [00:00<?, ?it/s]"
      ]
     },
     "metadata": {},
     "output_type": "display_data"
    },
    {
     "name": "stdout",
     "output_type": "stream",
     "text": [
      "epoch 50 val acc 0.7857862903225806\n"
     ]
    }
   ],
   "source": [
    "train_acc_list_50 = []\n",
    "test_acc_list_50 = []\n",
    "\n",
    "for e in range(num_epochs):\n",
    "    train_acc = 0.0\n",
    "    test_acc = 0.0\n",
    "    batch = [] \n",
    "    model.train()\n",
    "    for batch_id, (token_ids, valid_length, segment_ids, label) in tqdm(enumerate(train_dataloader), total=len(train_dataloader)):\n",
    "        optimizer.zero_grad()\n",
    "        token_ids = token_ids.long().to(device)\n",
    "        segment_ids = segment_ids.long().to(device)\n",
    "        valid_length= valid_length\n",
    "        label = label.long().to(device)\n",
    "        out = model(token_ids, valid_length, segment_ids)\n",
    "        loss = loss_fn(out, label)\n",
    "        loss.backward()\n",
    "        torch.nn.utils.clip_grad_norm_(model.parameters(), max_grad_norm)\n",
    "        optimizer.step()\n",
    "        scheduler.step()  # Update learning rate schedule\n",
    "        train_acc += calc_accuracy(out, label)\n",
    "        if batch_id % log_interval == 0:\n",
    "            print(\"epoch {} batch id {} loss {} train acc {}\".format(e+1, batch_id+1, loss.data.cpu().numpy(), train_acc / (batch_id+1)))\n",
    "    print(\"epoch {} train acc {}\".format(e+1, train_acc / (batch_id+1)))\n",
    "    train_acc_list_50.append(train_acc / (batch_id+1))\n",
    "    model.eval()\n",
    "    for batch_id, (token_ids, valid_length, segment_ids, label) in tqdm(enumerate(test_dataloader), total=len(test_dataloader)):\n",
    "        token_ids = token_ids.long().to(device)\n",
    "        segment_ids = segment_ids.long().to(device)\n",
    "        valid_length= valid_length\n",
    "        label = label.long().to(device)\n",
    "        out = model(token_ids, valid_length, segment_ids)\n",
    "        test_acc += calc_accuracy(out, label)\n",
    "    print(\"epoch {} val acc {}\".format(e+1, test_acc / (batch_id+1)))\n",
    "    test_acc_list_50.append(test_acc / (batch_id+1))"
   ]
  },
  {
   "cell_type": "code",
   "execution_count": 32,
   "metadata": {
    "scrolled": true
   },
   "outputs": [
    {
     "data": {
      "text/plain": [
       "(50, 50)"
      ]
     },
     "execution_count": 32,
     "metadata": {},
     "output_type": "execute_result"
    }
   ],
   "source": [
    "len(test_acc_list_50), len(train_acc_list_50)"
   ]
  },
  {
   "cell_type": "code",
   "execution_count": 33,
   "metadata": {
    "scrolled": true
   },
   "outputs": [
    {
     "data": {
      "text/plain": [
       "[0.0846774193548387,\n",
       " 0.1580141129032258,\n",
       " 0.3329133064516129,\n",
       " 0.4480846774193548,\n",
       " 0.5473790322580645,\n",
       " 0.6013104838709677,\n",
       " 0.6610383064516129,\n",
       " 0.6829637096774194,\n",
       " 0.7084173387096774,\n",
       " 0.7290826612903226,\n",
       " 0.7313508064516129,\n",
       " 0.7376512096774194,\n",
       " 0.7517641129032258,\n",
       " 0.7600806451612904,\n",
       " 0.7527721774193549,\n",
       " 0.7583165322580645,\n",
       " 0.764616935483871,\n",
       " 0.7641129032258065,\n",
       " 0.7739415322580645,\n",
       " 0.7709173387096774,\n",
       " 0.7711693548387096,\n",
       " 0.7709173387096774,\n",
       " 0.7782258064516129,\n",
       " 0.7840221774193549,\n",
       " 0.7779737903225806,\n",
       " 0.7764616935483871,\n",
       " 0.7754536290322581,\n",
       " 0.7830141129032258,\n",
       " 0.7779737903225806,\n",
       " 0.7772177419354839,\n",
       " 0.7797379032258065,\n",
       " 0.7784778225806451,\n",
       " 0.7817540322580645,\n",
       " 0.7835181451612904,\n",
       " 0.7827620967741935,\n",
       " 0.7870463709677419,\n",
       " 0.7870463709677419,\n",
       " 0.7878024193548387,\n",
       " 0.7875504032258065,\n",
       " 0.7885584677419355,\n",
       " 0.7860383064516129,\n",
       " 0.7872983870967742,\n",
       " 0.7870463709677419,\n",
       " 0.7872983870967742,\n",
       " 0.7870463709677419,\n",
       " 0.7857862903225806,\n",
       " 0.7860383064516129,\n",
       " 0.7860383064516129,\n",
       " 0.7857862903225806,\n",
       " 0.7857862903225806]"
      ]
     },
     "execution_count": 33,
     "metadata": {},
     "output_type": "execute_result"
    }
   ],
   "source": [
    "test_acc_list_50"
   ]
  },
  {
   "cell_type": "code",
   "execution_count": 34,
   "metadata": {
    "scrolled": true
   },
   "outputs": [
    {
     "data": {
      "text/plain": [
       "([0.0846774193548387,\n",
       "  0.1580141129032258,\n",
       "  0.3329133064516129,\n",
       "  0.4480846774193548,\n",
       "  0.5473790322580645,\n",
       "  0.6013104838709677,\n",
       "  0.6610383064516129,\n",
       "  0.6829637096774194,\n",
       "  0.7084173387096774,\n",
       "  0.7290826612903226,\n",
       "  0.7313508064516129,\n",
       "  0.7376512096774194,\n",
       "  0.7517641129032258,\n",
       "  0.7600806451612904,\n",
       "  0.7527721774193549,\n",
       "  0.7583165322580645,\n",
       "  0.764616935483871,\n",
       "  0.7641129032258065,\n",
       "  0.7739415322580645,\n",
       "  0.7709173387096774,\n",
       "  0.7711693548387096,\n",
       "  0.7709173387096774,\n",
       "  0.7782258064516129,\n",
       "  0.7840221774193549,\n",
       "  0.7779737903225806,\n",
       "  0.7764616935483871,\n",
       "  0.7754536290322581,\n",
       "  0.7830141129032258,\n",
       "  0.7779737903225806,\n",
       "  0.7772177419354839,\n",
       "  0.7797379032258065,\n",
       "  0.7784778225806451,\n",
       "  0.7817540322580645,\n",
       "  0.7835181451612904,\n",
       "  0.7827620967741935,\n",
       "  0.7870463709677419,\n",
       "  0.7870463709677419,\n",
       "  0.7878024193548387,\n",
       "  0.7875504032258065,\n",
       "  0.7885584677419355,\n",
       "  0.7860383064516129,\n",
       "  0.7872983870967742,\n",
       "  0.7870463709677419,\n",
       "  0.7872983870967742,\n",
       "  0.7870463709677419,\n",
       "  0.7857862903225806,\n",
       "  0.7860383064516129,\n",
       "  0.7860383064516129,\n",
       "  0.7857862903225806,\n",
       "  0.7857862903225806],\n",
       " [0.040667344173441734,\n",
       "  0.09639227642276423,\n",
       "  0.252612635501355,\n",
       "  0.36937669376693766,\n",
       "  0.46764905149051494,\n",
       "  0.5654598577235772,\n",
       "  0.6565633468834687,\n",
       "  0.7264439363143631,\n",
       "  0.7827235772357723,\n",
       "  0.8261602303523036,\n",
       "  0.8615599593495935,\n",
       "  0.8933138550135502,\n",
       "  0.912059620596206,\n",
       "  0.9263634823848238,\n",
       "  0.9405191395663957,\n",
       "  0.9488482384823848,\n",
       "  0.9601710704607046,\n",
       "  0.9662008807588076,\n",
       "  0.9722391598915988,\n",
       "  0.9753514566395663,\n",
       "  0.9786458333333333,\n",
       "  0.9829734078590785,\n",
       "  0.9858951558265582,\n",
       "  0.9894478319783198,\n",
       "  0.9902777777777777,\n",
       "  0.9935213414634146,\n",
       "  0.9951092479674797,\n",
       "  0.9952997967479674,\n",
       "  0.9973323170731707,\n",
       "  0.9973323170731707,\n",
       "  0.9987931910569106,\n",
       "  0.9987254403794037,\n",
       "  0.9983485772357723,\n",
       "  0.9989795054200541,\n",
       "  0.9991107723577236,\n",
       "  0.9994283536585366,\n",
       "  0.999364837398374,\n",
       "  0.9996189024390244,\n",
       "  0.9995553861788617,\n",
       "  0.999682418699187,\n",
       "  0.9997459349593496,\n",
       "  0.9998094512195121,\n",
       "  0.9998094512195121,\n",
       "  0.9995553861788617,\n",
       "  0.9996189024390244,\n",
       "  0.9996189024390244,\n",
       "  0.9998094512195121,\n",
       "  0.9998094512195121,\n",
       "  0.9998094512195121,\n",
       "  0.999682418699187])"
      ]
     },
     "execution_count": 34,
     "metadata": {},
     "output_type": "execute_result"
    }
   ],
   "source": [
    "# 10번 학습 \n",
    "# test_acc_list, train_acc_list \n",
    "\n",
    "# 50번 학습 \n",
    "test_acc_list_50, train_acc_list_50"
   ]
  },
  {
   "cell_type": "code",
   "execution_count": 35,
   "metadata": {},
   "outputs": [],
   "source": [
    "epochs_10 = list(range(0, 10))\n",
    "epochs_50 = list(range(0, 50))"
   ]
  },
  {
   "cell_type": "code",
   "execution_count": 36,
   "metadata": {
    "collapsed": true
   },
   "outputs": [
    {
     "data": {
      "image/png": "[encoded data removed]",
      "text/plain": [
       "<Figure size 720x360 with 1 Axes>"
      ]
     },
     "metadata": {
      "needs_background": "light"
     },
     "output_type": "display_data"
    }
   ],
   "source": [
    "import matplotlib.pyplot as plt \n",
    "\n",
    "plt.figure(figsize=(10,5))\n",
    "plt.subplot(1,2,1)\n",
    "plt.xlabel('Train Accuracy')\n",
    "plt.plot(list(range(len(train_acc_list_50))), train_acc_list_50, label='train_acc')\n",
    "plt.plot(list(range(len(test_acc_list_50))), test_acc_list_50, label='test_acc')\n",
    "\n",
    "plt.legend()\n",
    "plt.show()"
   ]
  },
  {
   "cell_type": "code",
   "execution_count": 32,
   "metadata": {
    "colab": {
     "base_uri": "https://localhost:8080/",
     "height": 424
    },
    "executionInfo": {
     "elapsed": 60,
     "status": "ok",
     "timestamp": 1658213264749,
     "user": {
      "displayName": "오재동",
      "userId": "09849167419611092646"
     },
     "user_tz": -540
    },
    "id": "5GRNQbDf9mtR",
    "outputId": "dd31dd73-db43-407e-b55a-b411bc8c249b",
    "scrolled": true
   },
   "outputs": [
    {
     "data": {
      "text/html": [
       "<div>\n",
       "<style scoped>\n",
       "    .dataframe tbody tr th:only-of-type {\n",
       "        vertical-align: middle;\n",
       "    }\n",
       "\n",
       "    .dataframe tbody tr th {\n",
       "        vertical-align: top;\n",
       "    }\n",
       "\n",
       "    .dataframe thead th {\n",
       "        text-align: right;\n",
       "    }\n",
       "</style>\n",
       "<table border=\"1\" class=\"dataframe\">\n",
       "  <thead>\n",
       "    <tr style=\"text-align: right;\">\n",
       "      <th></th>\n",
       "      <th>intent_keyword</th>\n",
       "      <th>utterance(2차)</th>\n",
       "      <th>ik_label</th>\n",
       "    </tr>\n",
       "  </thead>\n",
       "  <tbody>\n",
       "    <tr>\n",
       "      <th>19464</th>\n",
       "      <td>불안/압박감</td>\n",
       "      <td>누가 신경줄을 갉아먹는 거 같아.</td>\n",
       "      <td>204</td>\n",
       "    </tr>\n",
       "    <tr>\n",
       "      <th>2467</th>\n",
       "      <td>슬픔/억울</td>\n",
       "      <td>아직 내가 하고 싶은 대로 살고 싶은데 너무 억울해</td>\n",
       "      <td>26</td>\n",
       "    </tr>\n",
       "    <tr>\n",
       "      <th>14443</th>\n",
       "      <td>죄책감/죄책감</td>\n",
       "      <td>애기 낳아도 잘 해줄 수 없을 거 같아서 너무 죄책감이 생겨</td>\n",
       "      <td>136</td>\n",
       "    </tr>\n",
       "    <tr>\n",
       "      <th>6137</th>\n",
       "      <td>무기력/활동감소</td>\n",
       "      <td>근데 가서 너무 힘들었거든… 너무 지치고 힘들었어.</td>\n",
       "      <td>57</td>\n",
       "    </tr>\n",
       "    <tr>\n",
       "      <th>1266</th>\n",
       "      <td>우울감/집중력감소</td>\n",
       "      <td>요즘 우울해서 그런지 철학책을 많이 읽게 됐어요.</td>\n",
       "      <td>12</td>\n",
       "    </tr>\n",
       "    <tr>\n",
       "      <th>...</th>\n",
       "      <td>...</td>\n",
       "      <td>...</td>\n",
       "      <td>...</td>\n",
       "    </tr>\n",
       "    <tr>\n",
       "      <th>836</th>\n",
       "      <td>우울감/집중력감소</td>\n",
       "      <td>멍하고 평소에도 자주 멍때려.</td>\n",
       "      <td>12</td>\n",
       "    </tr>\n",
       "    <tr>\n",
       "      <th>15784</th>\n",
       "      <td>집중력저하/곤란</td>\n",
       "      <td>공부에도 집중해야하는데…</td>\n",
       "      <td>159</td>\n",
       "    </tr>\n",
       "    <tr>\n",
       "      <th>17682</th>\n",
       "      <td>절망감/가치 없음</td>\n",
       "      <td>혼전임신이라고 사람들이 모욕감을 주니까 내가 너무 가치 없이 느껴져</td>\n",
       "      <td>189</td>\n",
       "    </tr>\n",
       "    <tr>\n",
       "      <th>13773</th>\n",
       "      <td>피로/졸림</td>\n",
       "      <td>점심만 먹으면 졸리고 피곤해</td>\n",
       "      <td>132</td>\n",
       "    </tr>\n",
       "    <tr>\n",
       "      <th>15505</th>\n",
       "      <td>죄책감/충동</td>\n",
       "      <td>다음 날이면 후회가 가득해요.</td>\n",
       "      <td>149</td>\n",
       "    </tr>\n",
       "  </tbody>\n",
       "</table>\n",
       "<p>3936 rows × 3 columns</p>\n",
       "</div>"
      ],
      "text/plain": [
       "      intent_keyword                         utterance(2차)   ik_label\n",
       "19464         불안/압박감                     누가 신경줄을 갉아먹는 거 같아.       204\n",
       "2467           슬픔/억울           아직 내가 하고 싶은 대로 살고 싶은데 너무 억울해        26\n",
       "14443        죄책감/죄책감      애기 낳아도 잘 해줄 수 없을 거 같아서 너무 죄책감이 생겨       136\n",
       "6137        무기력/활동감소           근데 가서 너무 힘들었거든… 너무 지치고 힘들었어.        57\n",
       "1266       우울감/집중력감소            요즘 우울해서 그런지 철학책을 많이 읽게 됐어요.        12\n",
       "...              ...                                    ...       ...\n",
       "836        우울감/집중력감소                       멍하고 평소에도 자주 멍때려.        12\n",
       "15784       집중력저하/곤란                          공부에도 집중해야하는데…       159\n",
       "17682      절망감/가치 없음  혼전임신이라고 사람들이 모욕감을 주니까 내가 너무 가치 없이 느껴져       189\n",
       "13773          피로/졸림                        점심만 먹으면 졸리고 피곤해       132\n",
       "15505         죄책감/충동                       다음 날이면 후회가 가득해요.       149\n",
       "\n",
       "[3936 rows x 3 columns]"
      ]
     },
     "execution_count": 32,
     "metadata": {},
     "output_type": "execute_result"
    }
   ],
   "source": [
    "# 실제 감성분석 해보기 \n",
    "X_test"
   ]
  },
  {
   "cell_type": "raw",
   "metadata": {
    "id": "1APeT3vbhcZL"
   },
   "source": [
    "torch.save(model.state_dict(), data_path + 'BERT_keyword_model_50.pt')\n",
    "bertmodel, vocab = get_pytorch_kobert_model(cachedir=\".cache\")"
   ]
  },
  {
   "cell_type": "code",
   "execution_count": 33,
   "metadata": {
    "colab": {
     "base_uri": "https://localhost:8080/"
    },
    "executionInfo": {
     "elapsed": 1266,
     "status": "ok",
     "timestamp": 1658220525448,
     "user": {
      "displayName": "오재동",
      "userId": "09849167419611092646"
     },
     "user_tz": -540
    },
    "id": "TCB64SVspOhM",
    "outputId": "674f8957-0c33-4817-dab0-14a296d91d9c"
   },
   "outputs": [
    {
     "data": {
      "text/plain": [
       "<All keys matched successfully>"
      ]
     },
     "execution_count": 33,
     "metadata": {},
     "output_type": "execute_result"
    }
   ],
   "source": [
    "load_model = torch.load(data_path + 'BERT_keyword_model_50.pt')\n",
    "load_model = BERTClassifier(bertmodel,  dr_rate=0.5).to(device)\n",
    "load_model.load_state_dict(torch.load(data_path + 'BERT_keyword_model_50.pt'))"
   ]
  },
  {
   "cell_type": "code",
   "execution_count": 34,
   "metadata": {
    "colab": {
     "base_uri": "https://localhost:8080/"
    },
    "executionInfo": {
     "elapsed": 41,
     "status": "ok",
     "timestamp": 1658213264750,
     "user": {
      "displayName": "오재동",
      "userId": "09849167419611092646"
     },
     "user_tz": -540
    },
    "id": "AOmQMe_HEl3Q",
    "outputId": "6268944f-a379-4562-a7a0-8510e81659d0"
   },
   "outputs": [
    {
     "data": {
      "text/plain": [
       "19464                       누가 신경줄을 갉아먹는 거 같아.\n",
       "2467              아직 내가 하고 싶은 대로 살고 싶은데 너무 억울해\n",
       "14443        애기 낳아도 잘 해줄 수 없을 거 같아서 너무 죄책감이 생겨\n",
       "6137              근데 가서 너무 힘들었거든… 너무 지치고 힘들었어.\n",
       "1266               요즘 우울해서 그런지 철학책을 많이 읽게 됐어요.\n",
       "                         ...                  \n",
       "836                           멍하고 평소에도 자주 멍때려.\n",
       "15784                            공부에도 집중해야하는데…\n",
       "17682    혼전임신이라고 사람들이 모욕감을 주니까 내가 너무 가치 없이 느껴져\n",
       "13773                          점심만 먹으면 졸리고 피곤해\n",
       "15505                         다음 날이면 후회가 가득해요.\n",
       "Name: utterance(2차) , Length: 3936, dtype: object"
      ]
     },
     "execution_count": 34,
     "metadata": {},
     "output_type": "execute_result"
    }
   ],
   "source": [
    "comments = X_test['utterance(2차) ']\n",
    "comments"
   ]
  },
  {
   "cell_type": "code",
   "execution_count": 35,
   "metadata": {
    "id": "ofBPcHt4WMg4"
   },
   "outputs": [],
   "source": [
    "y_true = X_test['ik_label']"
   ]
  },
  {
   "cell_type": "code",
   "execution_count": 36,
   "metadata": {
    "id": "Ka8UqEZjWirg"
   },
   "outputs": [],
   "source": [
    "import pandas as pd\n",
    "\n",
    "# 위에서 설정한 tok, max_len, batch_size, device를 그대로 입력\n",
    "# comment : 예측하고자 하는 텍스트 데이터 리스트\n",
    "def getSentimentValue(comment, tok, max_len, batch_size, device):\n",
    "    comments_list = [] # 텍스트 데이터를 담을 리스트\n",
    "    main_list = [] # 대분류 카테고리 값을 담을 리스트\n",
    "    \n",
    "    for c in comment: # 모든 댓글\n",
    "        comments_list.append( [c, 5] ) # [댓글, 임의의 양의 정수값] 설정\n",
    "        \n",
    "    pdData = pd.DataFrame(comments_list, columns = [['context', 'intent']] )\n",
    "    pdData = pdData.values\n",
    "    test_set = BERTDataset(pdData, 0, 1, tok, max_len, True, False) \n",
    "    test_input = torch.utils.data.DataLoader(test_set, batch_size=batch_size, num_workers=5)\n",
    "    \n",
    "    for batch_id, (token_ids, valid_length, segment_ids, label) in enumerate(test_input):\n",
    "        token_ids = token_ids.long().to(device)\n",
    "        segment_ids = segment_ids.long().to(device)\n",
    "        valid_length= valid_length \n",
    "    \n",
    "        # 이때, out이 예측 결과 리스트\n",
    "        out = load_model(token_ids, valid_length, segment_ids)\n",
    "\n",
    "        for pred in out: \n",
    "            main_list.append(np.argmax(pred.detach().cpu()))\n",
    "        \n",
    "    return main_list # 텍스트 데이터에 1대1 매칭되는 감성값 리스트 반환"
   ]
  },
  {
   "cell_type": "code",
   "execution_count": 37,
   "metadata": {
    "colab": {
     "base_uri": "https://localhost:8080/"
    },
    "executionInfo": {
     "elapsed": 903019,
     "status": "ok",
     "timestamp": 1658215529419,
     "user": {
      "displayName": "오재동",
      "userId": "09849167419611092646"
     },
     "user_tz": -540
    },
    "id": "JUlGmREfYNPL",
    "outputId": "e1e13c01-13e1-4c28-e9d9-2e2e58646985"
   },
   "outputs": [],
   "source": [
    "y_pred = getSentimentValue(comments, tok, max_len, batch_size, device)   # tok, max_len, batch_size, device"
   ]
  },
  {
   "cell_type": "code",
   "execution_count": 38,
   "metadata": {
    "colab": {
     "base_uri": "https://localhost:8080/"
    },
    "executionInfo": {
     "elapsed": 514,
     "status": "ok",
     "timestamp": 1658158979345,
     "user": {
      "displayName": "오재동",
      "userId": "09849167419611092646"
     },
     "user_tz": -540
    },
    "id": "wZ0MCQMrYSuE",
    "outputId": "8eae88f9-9318-43f3-c6d8-0151fc0f3508"
   },
   "outputs": [
    {
     "data": {
      "text/plain": [
       "19464    204\n",
       "2467      26\n",
       "14443    136\n",
       "6137      57\n",
       "1266      12\n",
       "        ... \n",
       "836       12\n",
       "15784    159\n",
       "17682    189\n",
       "13773    132\n",
       "15505    149\n",
       "Name: ik_label, Length: 3936, dtype: int64"
      ]
     },
     "execution_count": 38,
     "metadata": {},
     "output_type": "execute_result"
    }
   ],
   "source": [
    "y_true"
   ]
  },
  {
   "cell_type": "code",
   "execution_count": 39,
   "metadata": {
    "colab": {
     "base_uri": "https://localhost:8080/"
    },
    "executionInfo": {
     "elapsed": 1305,
     "status": "ok",
     "timestamp": 1658216988016,
     "user": {
      "displayName": "오재동",
      "userId": "09849167419611092646"
     },
     "user_tz": -540
    },
    "id": "e_6yxylmcFrR",
    "outputId": "c0bfdd75-77cd-44c5-f5b0-ac2ac048e828"
   },
   "outputs": [
    {
     "data": {
      "text/plain": [
       "(3936, 3936)"
      ]
     },
     "execution_count": 39,
     "metadata": {},
     "output_type": "execute_result"
    }
   ],
   "source": [
    "len(y_true), len(y_pred)"
   ]
  },
  {
   "cell_type": "code",
   "execution_count": 40,
   "metadata": {
    "id": "-sdeOFEA-ndF"
   },
   "outputs": [],
   "source": [
    "y_pred = list(map(int, y_pred)) \n",
    "# y_pred"
   ]
  },
  {
   "cell_type": "code",
   "execution_count": 41,
   "metadata": {
    "colab": {
     "base_uri": "https://localhost:8080/"
    },
    "executionInfo": {
     "elapsed": 847,
     "status": "ok",
     "timestamp": 1658218375237,
     "user": {
      "displayName": "오재동",
      "userId": "09849167419611092646"
     },
     "user_tz": -540
    },
    "id": "rERO39oaWK_W",
    "outputId": "ec7c9102-a063-4287-b31d-bc36447d07b3",
    "scrolled": true
   },
   "outputs": [
    {
     "data": {
      "text/plain": [
       "122"
      ]
     },
     "execution_count": 41,
     "metadata": {},
     "output_type": "execute_result"
    }
   ],
   "source": [
    "y_pred[0]"
   ]
  },
  {
   "cell_type": "raw",
   "metadata": {},
   "source": [
    "comments = ['너무 우울해', '죽고싶다', '아무것도하기싫다']\n",
    "\n",
    "y_pred = getSentimentValue(comments, tok, max_len, batch_size, device)   # tok, max_len, batch_size, device\n",
    "y_pred = list(map(int, y_pred)) \n",
    "\n",
    "print(intent_list[y_pred[0]], intent_list[y_pred[1]], intent_list[y_pred[2]])"
   ]
  },
  {
   "cell_type": "code",
   "execution_count": 51,
   "metadata": {
    "id": "3eWUc9v5dotY"
   },
   "outputs": [
    {
     "data": {
      "text/html": [
       "<div>\n",
       "<style scoped>\n",
       "    .dataframe tbody tr th:only-of-type {\n",
       "        vertical-align: middle;\n",
       "    }\n",
       "\n",
       "    .dataframe tbody tr th {\n",
       "        vertical-align: top;\n",
       "    }\n",
       "\n",
       "    .dataframe thead th {\n",
       "        text-align: right;\n",
       "    }\n",
       "</style>\n",
       "<table border=\"1\" class=\"dataframe\">\n",
       "  <thead>\n",
       "    <tr style=\"text-align: right;\">\n",
       "      <th></th>\n",
       "      <th>0</th>\n",
       "      <th>1</th>\n",
       "      <th>2</th>\n",
       "      <th>3</th>\n",
       "      <th>4</th>\n",
       "      <th>5</th>\n",
       "      <th>6</th>\n",
       "      <th>7</th>\n",
       "      <th>8</th>\n",
       "      <th>9</th>\n",
       "      <th>...</th>\n",
       "      <th>195</th>\n",
       "      <th>196</th>\n",
       "      <th>197</th>\n",
       "      <th>198</th>\n",
       "      <th>199</th>\n",
       "      <th>200</th>\n",
       "      <th>201</th>\n",
       "      <th>202</th>\n",
       "      <th>203</th>\n",
       "      <th>204</th>\n",
       "    </tr>\n",
       "  </thead>\n",
       "  <tbody>\n",
       "    <tr>\n",
       "      <th>0</th>\n",
       "      <td>17</td>\n",
       "      <td>0</td>\n",
       "      <td>0</td>\n",
       "      <td>0</td>\n",
       "      <td>0</td>\n",
       "      <td>0</td>\n",
       "      <td>0</td>\n",
       "      <td>0</td>\n",
       "      <td>0</td>\n",
       "      <td>0</td>\n",
       "      <td>...</td>\n",
       "      <td>0</td>\n",
       "      <td>0</td>\n",
       "      <td>0</td>\n",
       "      <td>0</td>\n",
       "      <td>0</td>\n",
       "      <td>0</td>\n",
       "      <td>0</td>\n",
       "      <td>0</td>\n",
       "      <td>0</td>\n",
       "      <td>0</td>\n",
       "    </tr>\n",
       "    <tr>\n",
       "      <th>1</th>\n",
       "      <td>0</td>\n",
       "      <td>11</td>\n",
       "      <td>0</td>\n",
       "      <td>0</td>\n",
       "      <td>0</td>\n",
       "      <td>0</td>\n",
       "      <td>0</td>\n",
       "      <td>0</td>\n",
       "      <td>0</td>\n",
       "      <td>0</td>\n",
       "      <td>...</td>\n",
       "      <td>0</td>\n",
       "      <td>0</td>\n",
       "      <td>0</td>\n",
       "      <td>0</td>\n",
       "      <td>0</td>\n",
       "      <td>0</td>\n",
       "      <td>0</td>\n",
       "      <td>0</td>\n",
       "      <td>0</td>\n",
       "      <td>0</td>\n",
       "    </tr>\n",
       "    <tr>\n",
       "      <th>2</th>\n",
       "      <td>0</td>\n",
       "      <td>0</td>\n",
       "      <td>13</td>\n",
       "      <td>0</td>\n",
       "      <td>0</td>\n",
       "      <td>0</td>\n",
       "      <td>0</td>\n",
       "      <td>0</td>\n",
       "      <td>0</td>\n",
       "      <td>0</td>\n",
       "      <td>...</td>\n",
       "      <td>0</td>\n",
       "      <td>0</td>\n",
       "      <td>0</td>\n",
       "      <td>0</td>\n",
       "      <td>0</td>\n",
       "      <td>0</td>\n",
       "      <td>0</td>\n",
       "      <td>0</td>\n",
       "      <td>0</td>\n",
       "      <td>0</td>\n",
       "    </tr>\n",
       "    <tr>\n",
       "      <th>3</th>\n",
       "      <td>0</td>\n",
       "      <td>0</td>\n",
       "      <td>0</td>\n",
       "      <td>5</td>\n",
       "      <td>0</td>\n",
       "      <td>0</td>\n",
       "      <td>0</td>\n",
       "      <td>0</td>\n",
       "      <td>0</td>\n",
       "      <td>0</td>\n",
       "      <td>...</td>\n",
       "      <td>0</td>\n",
       "      <td>0</td>\n",
       "      <td>0</td>\n",
       "      <td>0</td>\n",
       "      <td>0</td>\n",
       "      <td>0</td>\n",
       "      <td>0</td>\n",
       "      <td>0</td>\n",
       "      <td>0</td>\n",
       "      <td>0</td>\n",
       "    </tr>\n",
       "    <tr>\n",
       "      <th>4</th>\n",
       "      <td>0</td>\n",
       "      <td>0</td>\n",
       "      <td>0</td>\n",
       "      <td>0</td>\n",
       "      <td>10</td>\n",
       "      <td>0</td>\n",
       "      <td>0</td>\n",
       "      <td>0</td>\n",
       "      <td>0</td>\n",
       "      <td>0</td>\n",
       "      <td>...</td>\n",
       "      <td>0</td>\n",
       "      <td>0</td>\n",
       "      <td>0</td>\n",
       "      <td>0</td>\n",
       "      <td>0</td>\n",
       "      <td>0</td>\n",
       "      <td>0</td>\n",
       "      <td>0</td>\n",
       "      <td>0</td>\n",
       "      <td>0</td>\n",
       "    </tr>\n",
       "    <tr>\n",
       "      <th>...</th>\n",
       "      <td>...</td>\n",
       "      <td>...</td>\n",
       "      <td>...</td>\n",
       "      <td>...</td>\n",
       "      <td>...</td>\n",
       "      <td>...</td>\n",
       "      <td>...</td>\n",
       "      <td>...</td>\n",
       "      <td>...</td>\n",
       "      <td>...</td>\n",
       "      <td>...</td>\n",
       "      <td>...</td>\n",
       "      <td>...</td>\n",
       "      <td>...</td>\n",
       "      <td>...</td>\n",
       "      <td>...</td>\n",
       "      <td>...</td>\n",
       "      <td>...</td>\n",
       "      <td>...</td>\n",
       "      <td>...</td>\n",
       "      <td>...</td>\n",
       "    </tr>\n",
       "    <tr>\n",
       "      <th>200</th>\n",
       "      <td>0</td>\n",
       "      <td>0</td>\n",
       "      <td>0</td>\n",
       "      <td>0</td>\n",
       "      <td>0</td>\n",
       "      <td>0</td>\n",
       "      <td>0</td>\n",
       "      <td>0</td>\n",
       "      <td>0</td>\n",
       "      <td>0</td>\n",
       "      <td>...</td>\n",
       "      <td>0</td>\n",
       "      <td>0</td>\n",
       "      <td>0</td>\n",
       "      <td>0</td>\n",
       "      <td>0</td>\n",
       "      <td>19</td>\n",
       "      <td>0</td>\n",
       "      <td>0</td>\n",
       "      <td>0</td>\n",
       "      <td>0</td>\n",
       "    </tr>\n",
       "    <tr>\n",
       "      <th>201</th>\n",
       "      <td>0</td>\n",
       "      <td>0</td>\n",
       "      <td>0</td>\n",
       "      <td>0</td>\n",
       "      <td>0</td>\n",
       "      <td>0</td>\n",
       "      <td>0</td>\n",
       "      <td>0</td>\n",
       "      <td>0</td>\n",
       "      <td>0</td>\n",
       "      <td>...</td>\n",
       "      <td>0</td>\n",
       "      <td>0</td>\n",
       "      <td>0</td>\n",
       "      <td>0</td>\n",
       "      <td>0</td>\n",
       "      <td>0</td>\n",
       "      <td>6</td>\n",
       "      <td>0</td>\n",
       "      <td>0</td>\n",
       "      <td>0</td>\n",
       "    </tr>\n",
       "    <tr>\n",
       "      <th>202</th>\n",
       "      <td>0</td>\n",
       "      <td>0</td>\n",
       "      <td>0</td>\n",
       "      <td>0</td>\n",
       "      <td>0</td>\n",
       "      <td>0</td>\n",
       "      <td>0</td>\n",
       "      <td>0</td>\n",
       "      <td>0</td>\n",
       "      <td>0</td>\n",
       "      <td>...</td>\n",
       "      <td>0</td>\n",
       "      <td>0</td>\n",
       "      <td>0</td>\n",
       "      <td>0</td>\n",
       "      <td>0</td>\n",
       "      <td>0</td>\n",
       "      <td>0</td>\n",
       "      <td>16</td>\n",
       "      <td>0</td>\n",
       "      <td>0</td>\n",
       "    </tr>\n",
       "    <tr>\n",
       "      <th>203</th>\n",
       "      <td>0</td>\n",
       "      <td>0</td>\n",
       "      <td>0</td>\n",
       "      <td>0</td>\n",
       "      <td>0</td>\n",
       "      <td>0</td>\n",
       "      <td>0</td>\n",
       "      <td>0</td>\n",
       "      <td>0</td>\n",
       "      <td>0</td>\n",
       "      <td>...</td>\n",
       "      <td>0</td>\n",
       "      <td>0</td>\n",
       "      <td>0</td>\n",
       "      <td>0</td>\n",
       "      <td>1</td>\n",
       "      <td>0</td>\n",
       "      <td>0</td>\n",
       "      <td>0</td>\n",
       "      <td>16</td>\n",
       "      <td>0</td>\n",
       "    </tr>\n",
       "    <tr>\n",
       "      <th>204</th>\n",
       "      <td>0</td>\n",
       "      <td>0</td>\n",
       "      <td>0</td>\n",
       "      <td>0</td>\n",
       "      <td>0</td>\n",
       "      <td>0</td>\n",
       "      <td>0</td>\n",
       "      <td>0</td>\n",
       "      <td>0</td>\n",
       "      <td>0</td>\n",
       "      <td>...</td>\n",
       "      <td>0</td>\n",
       "      <td>0</td>\n",
       "      <td>0</td>\n",
       "      <td>0</td>\n",
       "      <td>5</td>\n",
       "      <td>0</td>\n",
       "      <td>0</td>\n",
       "      <td>0</td>\n",
       "      <td>0</td>\n",
       "      <td>66</td>\n",
       "    </tr>\n",
       "  </tbody>\n",
       "</table>\n",
       "<p>205 rows × 205 columns</p>\n",
       "</div>"
      ],
      "text/plain": [
       "     0    1    2    3    4    5    6    7    8    9    ...  195  196  197  \\\n",
       "0     17    0    0    0    0    0    0    0    0    0  ...    0    0    0   \n",
       "1      0   11    0    0    0    0    0    0    0    0  ...    0    0    0   \n",
       "2      0    0   13    0    0    0    0    0    0    0  ...    0    0    0   \n",
       "3      0    0    0    5    0    0    0    0    0    0  ...    0    0    0   \n",
       "4      0    0    0    0   10    0    0    0    0    0  ...    0    0    0   \n",
       "..   ...  ...  ...  ...  ...  ...  ...  ...  ...  ...  ...  ...  ...  ...   \n",
       "200    0    0    0    0    0    0    0    0    0    0  ...    0    0    0   \n",
       "201    0    0    0    0    0    0    0    0    0    0  ...    0    0    0   \n",
       "202    0    0    0    0    0    0    0    0    0    0  ...    0    0    0   \n",
       "203    0    0    0    0    0    0    0    0    0    0  ...    0    0    0   \n",
       "204    0    0    0    0    0    0    0    0    0    0  ...    0    0    0   \n",
       "\n",
       "     198  199  200  201  202  203  204  \n",
       "0      0    0    0    0    0    0    0  \n",
       "1      0    0    0    0    0    0    0  \n",
       "2      0    0    0    0    0    0    0  \n",
       "3      0    0    0    0    0    0    0  \n",
       "4      0    0    0    0    0    0    0  \n",
       "..   ...  ...  ...  ...  ...  ...  ...  \n",
       "200    0    0   19    0    0    0    0  \n",
       "201    0    0    0    6    0    0    0  \n",
       "202    0    0    0    0   16    0    0  \n",
       "203    0    1    0    0    0   16    0  \n",
       "204    0    5    0    0    0    0   66  \n",
       "\n",
       "[205 rows x 205 columns]"
      ]
     },
     "execution_count": 51,
     "metadata": {},
     "output_type": "execute_result"
    }
   ],
   "source": [
    "from sklearn.metrics import precision_score , recall_score , confusion_matrix, f1_score, classification_report\n",
    "\n",
    "confusion_mt = pd.DataFrame(confusion_matrix(y_true, y_pred))\n",
    "confusion_mt "
   ]
  },
  {
   "cell_type": "code",
   "execution_count": 52,
   "metadata": {
    "colab": {
     "base_uri": "https://localhost:8080/"
    },
    "executionInfo": {
     "elapsed": 11,
     "status": "ok",
     "timestamp": 1658218377236,
     "user": {
      "displayName": "오재동",
      "userId": "09849167419611092646"
     },
     "user_tz": -540
    },
    "id": "TJLBiaQge8ml",
    "outputId": "26f2e011-3c8c-4186-df79-92b41762a52b",
    "scrolled": true
   },
   "outputs": [],
   "source": [
    "confusion_mt.columns = ik_list \n",
    "confusion_mt.index = ik_list"
   ]
  },
  {
   "cell_type": "code",
   "execution_count": 53,
   "metadata": {
    "id": "N6ewx1z9gl0N"
   },
   "outputs": [
    {
     "data": {
      "text/html": [
       "<div>\n",
       "<style scoped>\n",
       "    .dataframe tbody tr th:only-of-type {\n",
       "        vertical-align: middle;\n",
       "    }\n",
       "\n",
       "    .dataframe tbody tr th {\n",
       "        vertical-align: top;\n",
       "    }\n",
       "\n",
       "    .dataframe thead th {\n",
       "        text-align: right;\n",
       "    }\n",
       "</style>\n",
       "<table border=\"1\" class=\"dataframe\">\n",
       "  <thead>\n",
       "    <tr style=\"text-align: right;\">\n",
       "      <th></th>\n",
       "      <th>우울감/우울</th>\n",
       "      <th>우울감/침울</th>\n",
       "      <th>우울감/멍함</th>\n",
       "      <th>우울감/무기력</th>\n",
       "      <th>우울감/의욕감소</th>\n",
       "      <th>우울감/불면</th>\n",
       "      <th>우울감/흥미상실</th>\n",
       "      <th>우울감/식욕부진</th>\n",
       "      <th>우울감/자존감감소</th>\n",
       "      <th>우울감/패배감</th>\n",
       "      <th>...</th>\n",
       "      <th>절망감/나약</th>\n",
       "      <th>절망감/절박</th>\n",
       "      <th>절망감/하찮음</th>\n",
       "      <th>자살충동/하찮음</th>\n",
       "      <th>불안/불안</th>\n",
       "      <th>불안/긴장</th>\n",
       "      <th>불안/낭떠러지 끝에 있는 느낌</th>\n",
       "      <th>불안/두렵다</th>\n",
       "      <th>불안/울렁거리다</th>\n",
       "      <th>불안/압박감</th>\n",
       "    </tr>\n",
       "  </thead>\n",
       "  <tbody>\n",
       "    <tr>\n",
       "      <th>우울감/우울</th>\n",
       "      <td>17</td>\n",
       "      <td>0</td>\n",
       "      <td>0</td>\n",
       "      <td>0</td>\n",
       "      <td>0</td>\n",
       "      <td>0</td>\n",
       "      <td>0</td>\n",
       "      <td>0</td>\n",
       "      <td>0</td>\n",
       "      <td>0</td>\n",
       "      <td>...</td>\n",
       "      <td>0</td>\n",
       "      <td>0</td>\n",
       "      <td>0</td>\n",
       "      <td>0</td>\n",
       "      <td>0</td>\n",
       "      <td>0</td>\n",
       "      <td>0</td>\n",
       "      <td>0</td>\n",
       "      <td>0</td>\n",
       "      <td>0</td>\n",
       "    </tr>\n",
       "    <tr>\n",
       "      <th>우울감/침울</th>\n",
       "      <td>0</td>\n",
       "      <td>11</td>\n",
       "      <td>0</td>\n",
       "      <td>0</td>\n",
       "      <td>0</td>\n",
       "      <td>0</td>\n",
       "      <td>0</td>\n",
       "      <td>0</td>\n",
       "      <td>0</td>\n",
       "      <td>0</td>\n",
       "      <td>...</td>\n",
       "      <td>0</td>\n",
       "      <td>0</td>\n",
       "      <td>0</td>\n",
       "      <td>0</td>\n",
       "      <td>0</td>\n",
       "      <td>0</td>\n",
       "      <td>0</td>\n",
       "      <td>0</td>\n",
       "      <td>0</td>\n",
       "      <td>0</td>\n",
       "    </tr>\n",
       "    <tr>\n",
       "      <th>우울감/멍함</th>\n",
       "      <td>0</td>\n",
       "      <td>0</td>\n",
       "      <td>13</td>\n",
       "      <td>0</td>\n",
       "      <td>0</td>\n",
       "      <td>0</td>\n",
       "      <td>0</td>\n",
       "      <td>0</td>\n",
       "      <td>0</td>\n",
       "      <td>0</td>\n",
       "      <td>...</td>\n",
       "      <td>0</td>\n",
       "      <td>0</td>\n",
       "      <td>0</td>\n",
       "      <td>0</td>\n",
       "      <td>0</td>\n",
       "      <td>0</td>\n",
       "      <td>0</td>\n",
       "      <td>0</td>\n",
       "      <td>0</td>\n",
       "      <td>0</td>\n",
       "    </tr>\n",
       "    <tr>\n",
       "      <th>우울감/무기력</th>\n",
       "      <td>0</td>\n",
       "      <td>0</td>\n",
       "      <td>0</td>\n",
       "      <td>5</td>\n",
       "      <td>0</td>\n",
       "      <td>0</td>\n",
       "      <td>0</td>\n",
       "      <td>0</td>\n",
       "      <td>0</td>\n",
       "      <td>0</td>\n",
       "      <td>...</td>\n",
       "      <td>0</td>\n",
       "      <td>0</td>\n",
       "      <td>0</td>\n",
       "      <td>0</td>\n",
       "      <td>0</td>\n",
       "      <td>0</td>\n",
       "      <td>0</td>\n",
       "      <td>0</td>\n",
       "      <td>0</td>\n",
       "      <td>0</td>\n",
       "    </tr>\n",
       "    <tr>\n",
       "      <th>우울감/의욕감소</th>\n",
       "      <td>0</td>\n",
       "      <td>0</td>\n",
       "      <td>0</td>\n",
       "      <td>0</td>\n",
       "      <td>10</td>\n",
       "      <td>0</td>\n",
       "      <td>0</td>\n",
       "      <td>0</td>\n",
       "      <td>0</td>\n",
       "      <td>0</td>\n",
       "      <td>...</td>\n",
       "      <td>0</td>\n",
       "      <td>0</td>\n",
       "      <td>0</td>\n",
       "      <td>0</td>\n",
       "      <td>0</td>\n",
       "      <td>0</td>\n",
       "      <td>0</td>\n",
       "      <td>0</td>\n",
       "      <td>0</td>\n",
       "      <td>0</td>\n",
       "    </tr>\n",
       "    <tr>\n",
       "      <th>...</th>\n",
       "      <td>...</td>\n",
       "      <td>...</td>\n",
       "      <td>...</td>\n",
       "      <td>...</td>\n",
       "      <td>...</td>\n",
       "      <td>...</td>\n",
       "      <td>...</td>\n",
       "      <td>...</td>\n",
       "      <td>...</td>\n",
       "      <td>...</td>\n",
       "      <td>...</td>\n",
       "      <td>...</td>\n",
       "      <td>...</td>\n",
       "      <td>...</td>\n",
       "      <td>...</td>\n",
       "      <td>...</td>\n",
       "      <td>...</td>\n",
       "      <td>...</td>\n",
       "      <td>...</td>\n",
       "      <td>...</td>\n",
       "      <td>...</td>\n",
       "    </tr>\n",
       "    <tr>\n",
       "      <th>불안/긴장</th>\n",
       "      <td>0</td>\n",
       "      <td>0</td>\n",
       "      <td>0</td>\n",
       "      <td>0</td>\n",
       "      <td>0</td>\n",
       "      <td>0</td>\n",
       "      <td>0</td>\n",
       "      <td>0</td>\n",
       "      <td>0</td>\n",
       "      <td>0</td>\n",
       "      <td>...</td>\n",
       "      <td>0</td>\n",
       "      <td>0</td>\n",
       "      <td>0</td>\n",
       "      <td>0</td>\n",
       "      <td>0</td>\n",
       "      <td>19</td>\n",
       "      <td>0</td>\n",
       "      <td>0</td>\n",
       "      <td>0</td>\n",
       "      <td>0</td>\n",
       "    </tr>\n",
       "    <tr>\n",
       "      <th>불안/낭떠러지 끝에 있는 느낌</th>\n",
       "      <td>0</td>\n",
       "      <td>0</td>\n",
       "      <td>0</td>\n",
       "      <td>0</td>\n",
       "      <td>0</td>\n",
       "      <td>0</td>\n",
       "      <td>0</td>\n",
       "      <td>0</td>\n",
       "      <td>0</td>\n",
       "      <td>0</td>\n",
       "      <td>...</td>\n",
       "      <td>0</td>\n",
       "      <td>0</td>\n",
       "      <td>0</td>\n",
       "      <td>0</td>\n",
       "      <td>0</td>\n",
       "      <td>0</td>\n",
       "      <td>6</td>\n",
       "      <td>0</td>\n",
       "      <td>0</td>\n",
       "      <td>0</td>\n",
       "    </tr>\n",
       "    <tr>\n",
       "      <th>불안/두렵다</th>\n",
       "      <td>0</td>\n",
       "      <td>0</td>\n",
       "      <td>0</td>\n",
       "      <td>0</td>\n",
       "      <td>0</td>\n",
       "      <td>0</td>\n",
       "      <td>0</td>\n",
       "      <td>0</td>\n",
       "      <td>0</td>\n",
       "      <td>0</td>\n",
       "      <td>...</td>\n",
       "      <td>0</td>\n",
       "      <td>0</td>\n",
       "      <td>0</td>\n",
       "      <td>0</td>\n",
       "      <td>0</td>\n",
       "      <td>0</td>\n",
       "      <td>0</td>\n",
       "      <td>16</td>\n",
       "      <td>0</td>\n",
       "      <td>0</td>\n",
       "    </tr>\n",
       "    <tr>\n",
       "      <th>불안/울렁거리다</th>\n",
       "      <td>0</td>\n",
       "      <td>0</td>\n",
       "      <td>0</td>\n",
       "      <td>0</td>\n",
       "      <td>0</td>\n",
       "      <td>0</td>\n",
       "      <td>0</td>\n",
       "      <td>0</td>\n",
       "      <td>0</td>\n",
       "      <td>0</td>\n",
       "      <td>...</td>\n",
       "      <td>0</td>\n",
       "      <td>0</td>\n",
       "      <td>0</td>\n",
       "      <td>0</td>\n",
       "      <td>1</td>\n",
       "      <td>0</td>\n",
       "      <td>0</td>\n",
       "      <td>0</td>\n",
       "      <td>16</td>\n",
       "      <td>0</td>\n",
       "    </tr>\n",
       "    <tr>\n",
       "      <th>불안/압박감</th>\n",
       "      <td>0</td>\n",
       "      <td>0</td>\n",
       "      <td>0</td>\n",
       "      <td>0</td>\n",
       "      <td>0</td>\n",
       "      <td>0</td>\n",
       "      <td>0</td>\n",
       "      <td>0</td>\n",
       "      <td>0</td>\n",
       "      <td>0</td>\n",
       "      <td>...</td>\n",
       "      <td>0</td>\n",
       "      <td>0</td>\n",
       "      <td>0</td>\n",
       "      <td>0</td>\n",
       "      <td>5</td>\n",
       "      <td>0</td>\n",
       "      <td>0</td>\n",
       "      <td>0</td>\n",
       "      <td>0</td>\n",
       "      <td>66</td>\n",
       "    </tr>\n",
       "  </tbody>\n",
       "</table>\n",
       "<p>205 rows × 205 columns</p>\n",
       "</div>"
      ],
      "text/plain": [
       "                  우울감/우울  우울감/침울  우울감/멍함  우울감/무기력   우울감/의욕감소  우울감/불면  \\\n",
       "우울감/우울                17       0       0         0         0       0   \n",
       "우울감/침울                 0      11       0         0         0       0   \n",
       "우울감/멍함                 0       0      13         0         0       0   \n",
       "우울감/무기력                0       0       0         5         0       0   \n",
       "우울감/의욕감소               0       0       0         0        10       0   \n",
       "...                  ...     ...     ...       ...       ...     ...   \n",
       "불안/긴장                  0       0       0         0         0       0   \n",
       "불안/낭떠러지 끝에 있는 느낌       0       0       0         0         0       0   \n",
       "불안/두렵다                 0       0       0         0         0       0   \n",
       "불안/울렁거리다               0       0       0         0         0       0   \n",
       "불안/압박감                 0       0       0         0         0       0   \n",
       "\n",
       "                  우울감/흥미상실  우울감/식욕부진  우울감/자존감감소  우울감/패배감  ...  절망감/나약  절망감/절박  \\\n",
       "우울감/우울                   0         0          0        0  ...       0       0   \n",
       "우울감/침울                   0         0          0        0  ...       0       0   \n",
       "우울감/멍함                   0         0          0        0  ...       0       0   \n",
       "우울감/무기력                  0         0          0        0  ...       0       0   \n",
       "우울감/의욕감소                 0         0          0        0  ...       0       0   \n",
       "...                    ...       ...        ...      ...  ...     ...     ...   \n",
       "불안/긴장                    0         0          0        0  ...       0       0   \n",
       "불안/낭떠러지 끝에 있는 느낌         0         0          0        0  ...       0       0   \n",
       "불안/두렵다                   0         0          0        0  ...       0       0   \n",
       "불안/울렁거리다                 0         0          0        0  ...       0       0   \n",
       "불안/압박감                   0         0          0        0  ...       0       0   \n",
       "\n",
       "                  절망감/하찮음  자살충동/하찮음  불안/불안  불안/긴장  불안/낭떠러지 끝에 있는 느낌  불안/두렵다  \\\n",
       "우울감/우울                  0         0      0      0                 0       0   \n",
       "우울감/침울                  0         0      0      0                 0       0   \n",
       "우울감/멍함                  0         0      0      0                 0       0   \n",
       "우울감/무기력                 0         0      0      0                 0       0   \n",
       "우울감/의욕감소                0         0      0      0                 0       0   \n",
       "...                   ...       ...    ...    ...               ...     ...   \n",
       "불안/긴장                   0         0      0     19                 0       0   \n",
       "불안/낭떠러지 끝에 있는 느낌        0         0      0      0                 6       0   \n",
       "불안/두렵다                  0         0      0      0                 0      16   \n",
       "불안/울렁거리다                0         0      1      0                 0       0   \n",
       "불안/압박감                  0         0      5      0                 0       0   \n",
       "\n",
       "                  불안/울렁거리다  불안/압박감  \n",
       "우울감/우울                   0       0  \n",
       "우울감/침울                   0       0  \n",
       "우울감/멍함                   0       0  \n",
       "우울감/무기력                  0       0  \n",
       "우울감/의욕감소                 0       0  \n",
       "...                    ...     ...  \n",
       "불안/긴장                    0       0  \n",
       "불안/낭떠러지 끝에 있는 느낌         0       0  \n",
       "불안/두렵다                   0       0  \n",
       "불안/울렁거리다                16       0  \n",
       "불안/압박감                   0      66  \n",
       "\n",
       "[205 rows x 205 columns]"
      ]
     },
     "execution_count": 53,
     "metadata": {},
     "output_type": "execute_result"
    }
   ],
   "source": [
    "confusion_mt"
   ]
  },
  {
   "cell_type": "code",
   "execution_count": 54,
   "metadata": {},
   "outputs": [
    {
     "data": {
      "text/plain": [
       "0.787"
      ]
     },
     "execution_count": 54,
     "metadata": {},
     "output_type": "execute_result"
    }
   ],
   "source": [
    "f1 = round(f1_score(y_true, y_pred, average='micro'), 3) \n",
    "f1"
   ]
  },
  {
   "cell_type": "code",
   "execution_count": 46,
   "metadata": {},
   "outputs": [
    {
     "name": "stdout",
     "output_type": "stream",
     "text": [
      "hi\n"
     ]
    }
   ],
   "source": [
    "print('hi')"
   ]
  },
  {
   "cell_type": "code",
   "execution_count": 47,
   "metadata": {},
   "outputs": [],
   "source": [
    "from sklearn.metrics import roc_auc_score\n",
    "from sklearn import preprocessing\n",
    "\n",
    "def multiclass_roc_auc_score(y_test, y_pred, average=\"macro\"):\n",
    "    lb = preprocessing.LabelBinarizer()\n",
    "    lb.fit(y_test)\n",
    "    y_test = lb.transform(y_test)\n",
    "    y_pred = lb.transform(y_pred)\n",
    "    return roc_auc_score(y_test, y_pred, average=average)"
   ]
  },
  {
   "cell_type": "code",
   "execution_count": 50,
   "metadata": {},
   "outputs": [
    {
     "data": {
      "text/plain": [
       "0.8762729244066882"
      ]
     },
     "execution_count": 50,
     "metadata": {},
     "output_type": "execute_result"
    }
   ],
   "source": [
    "multiclass_roc_auc_score(y_true, y_pred)"
   ]
  },
  {
   "cell_type": "code",
   "execution_count": 45,
   "metadata": {
    "scrolled": true
   },
   "outputs": [
    {
     "data": {
      "text/plain": [
       "0.875715101145124"
      ]
     },
     "execution_count": 45,
     "metadata": {},
     "output_type": "execute_result"
    }
   ],
   "source": [
    "multiclass_roc_auc_score(y_true, y_pred)"
   ]
  },
  {
   "cell_type": "code",
   "execution_count": 56,
   "metadata": {
    "collapsed": true
   },
   "outputs": [
    {
     "data": {
      "text/plain": [
       "[0,\n",
       " 1,\n",
       " 2,\n",
       " 3,\n",
       " 4,\n",
       " 5,\n",
       " 6,\n",
       " 7,\n",
       " 8,\n",
       " 9,\n",
       " 10,\n",
       " 11,\n",
       " 12,\n",
       " 13,\n",
       " 14,\n",
       " 15,\n",
       " 16,\n",
       " 17,\n",
       " 18,\n",
       " 19,\n",
       " 20,\n",
       " 21,\n",
       " 22,\n",
       " 23,\n",
       " 24,\n",
       " 25,\n",
       " 26,\n",
       " 27,\n",
       " 28,\n",
       " 29,\n",
       " 30,\n",
       " 31,\n",
       " 32,\n",
       " 33,\n",
       " 34,\n",
       " 35,\n",
       " 36,\n",
       " 37,\n",
       " 38,\n",
       " 39,\n",
       " 40,\n",
       " 41,\n",
       " 42,\n",
       " 43,\n",
       " 44,\n",
       " 45,\n",
       " 46,\n",
       " 47,\n",
       " 48,\n",
       " 49,\n",
       " 50,\n",
       " 51,\n",
       " 52,\n",
       " 53,\n",
       " 54,\n",
       " 55,\n",
       " 56,\n",
       " 57,\n",
       " 58,\n",
       " 59,\n",
       " 60,\n",
       " 61,\n",
       " 62,\n",
       " 63,\n",
       " 64,\n",
       " 65,\n",
       " 66,\n",
       " 67,\n",
       " 68,\n",
       " 69,\n",
       " 70,\n",
       " 71,\n",
       " 72,\n",
       " 73,\n",
       " 74,\n",
       " 75,\n",
       " 76,\n",
       " 77,\n",
       " 78,\n",
       " 79,\n",
       " 80,\n",
       " 81,\n",
       " 82,\n",
       " 83,\n",
       " 84,\n",
       " 85,\n",
       " 86,\n",
       " 87,\n",
       " 88,\n",
       " 89,\n",
       " 90,\n",
       " 91,\n",
       " 92,\n",
       " 93,\n",
       " 94,\n",
       " 95,\n",
       " 96,\n",
       " 97,\n",
       " 98,\n",
       " 99,\n",
       " 100,\n",
       " 101,\n",
       " 102,\n",
       " 103,\n",
       " 104,\n",
       " 105,\n",
       " 106,\n",
       " 107,\n",
       " 108,\n",
       " 109,\n",
       " 110,\n",
       " 111,\n",
       " 112,\n",
       " 113,\n",
       " 114,\n",
       " 115,\n",
       " 116,\n",
       " 117,\n",
       " 118,\n",
       " 119,\n",
       " 120,\n",
       " 121,\n",
       " 122,\n",
       " 123,\n",
       " 124,\n",
       " 125,\n",
       " 126,\n",
       " 127,\n",
       " 128,\n",
       " 129,\n",
       " 130,\n",
       " 131,\n",
       " 132,\n",
       " 133,\n",
       " 134,\n",
       " 135,\n",
       " 136,\n",
       " 137,\n",
       " 138,\n",
       " 139,\n",
       " 140,\n",
       " 141,\n",
       " 142,\n",
       " 143,\n",
       " 144,\n",
       " 145,\n",
       " 146,\n",
       " 147,\n",
       " 148,\n",
       " 149,\n",
       " 150,\n",
       " 151,\n",
       " 152,\n",
       " 153,\n",
       " 154,\n",
       " 155,\n",
       " 156,\n",
       " 157,\n",
       " 158,\n",
       " 159,\n",
       " 160,\n",
       " 161,\n",
       " 162,\n",
       " 163,\n",
       " 164,\n",
       " 165,\n",
       " 166,\n",
       " 167,\n",
       " 168,\n",
       " 169,\n",
       " 170,\n",
       " 171,\n",
       " 172,\n",
       " 173,\n",
       " 174,\n",
       " 175,\n",
       " 176,\n",
       " 177,\n",
       " 178,\n",
       " 179,\n",
       " 180,\n",
       " 181,\n",
       " 182,\n",
       " 183,\n",
       " 184,\n",
       " 185,\n",
       " 186,\n",
       " 187,\n",
       " 188,\n",
       " 189,\n",
       " 190,\n",
       " 191,\n",
       " 192,\n",
       " 193,\n",
       " 194,\n",
       " 195,\n",
       " 196,\n",
       " 197,\n",
       " 198,\n",
       " 199,\n",
       " 200,\n",
       " 201,\n",
       " 202,\n",
       " 203,\n",
       " 204]"
      ]
     },
     "execution_count": 56,
     "metadata": {},
     "output_type": "execute_result"
    }
   ],
   "source": [
    "ik_idx = list(range(len(ik_list)))\n",
    "ik_idx"
   ]
  },
  {
   "cell_type": "code",
   "execution_count": 57,
   "metadata": {},
   "outputs": [
    {
     "name": "stderr",
     "output_type": "stream",
     "text": [
      "/home/ubuntu/anaconda3/envs/chatbot/lib/python3.7/site-packages/sklearn/metrics/_classification.py:1318: UndefinedMetricWarning: Precision and F-score are ill-defined and being set to 0.0 in labels with no predicted samples. Use `zero_division` parameter to control this behavior.\n",
      "  _warn_prf(average, modifier, msg_start, len(result))\n",
      "/home/ubuntu/anaconda3/envs/chatbot/lib/python3.7/site-packages/sklearn/metrics/_classification.py:1318: UndefinedMetricWarning: Precision and F-score are ill-defined and being set to 0.0 in labels with no predicted samples. Use `zero_division` parameter to control this behavior.\n",
      "  _warn_prf(average, modifier, msg_start, len(result))\n",
      "/home/ubuntu/anaconda3/envs/chatbot/lib/python3.7/site-packages/sklearn/metrics/_classification.py:1318: UndefinedMetricWarning: Precision and F-score are ill-defined and being set to 0.0 in labels with no predicted samples. Use `zero_division` parameter to control this behavior.\n",
      "  _warn_prf(average, modifier, msg_start, len(result))\n"
     ]
    },
    {
     "data": {
      "text/plain": [
       "['              precision    recall  f1-score   support',\n",
       " '',\n",
       " '           0       0.74      0.94      0.83        18',\n",
       " '           1       0.79      0.85      0.81        13',\n",
       " '           2       0.72      0.93      0.81        14',\n",
       " '           3       0.26      0.42      0.32        12',\n",
       " '           4       0.71      0.83      0.77        12',\n",
       " '           5       0.64      0.58      0.61        12',\n",
       " '           6       0.69      0.69      0.69        13',\n",
       " '           7       0.69      0.75      0.72        12',\n",
       " '           8       1.00      0.75      0.86        12',\n",
       " '           9       0.89      0.67      0.76        12',\n",
       " '          10       0.17      0.08      0.11        12',\n",
       " '          11       0.30      0.25      0.27        12',\n",
       " '          12       0.91      0.85      0.88       179',\n",
       " '          13       0.56      0.77      0.65        13',\n",
       " '          14       0.80      0.67      0.73        12',\n",
       " '          15       0.77      0.83      0.80        12',\n",
       " '          16       0.82      0.75      0.78        12',\n",
       " '          17       0.86      0.50      0.63        12',\n",
       " '          18       0.90      0.75      0.82        12',\n",
       " '          19       0.65      0.92      0.76        12',\n",
       " '          20       1.00      1.00      1.00        13',\n",
       " '          21       1.00      0.92      0.96        13',\n",
       " '          22       0.89      0.67      0.76        12',\n",
       " '          23       0.77      0.77      0.77        13',\n",
       " '          24       0.89      0.67      0.76        12',\n",
       " '          25       0.70      0.58      0.64        12',\n",
       " '          26       0.82      0.75      0.78        12',\n",
       " '          27       0.64      0.82      0.72        11',\n",
       " '          28       0.53      0.75      0.62        12',\n",
       " '          29       0.58      0.54      0.56        13',\n",
       " '          30       0.84      0.84      0.84       150',\n",
       " '          31       0.54      0.58      0.56        12',\n",
       " '          32       0.77      0.77      0.77        13',\n",
       " '          33       0.54      0.58      0.56        12',\n",
       " '          34       0.86      0.92      0.89        13',\n",
       " '          35       0.62      0.83      0.71        12',\n",
       " '          36       0.88      0.58      0.70        12',\n",
       " '          37       0.60      0.50      0.55        12',\n",
       " '          38       1.00      0.83      0.91        12',\n",
       " '          39       0.79      0.76      0.77        58',\n",
       " '          40       0.50      0.57      0.53        14',\n",
       " '          41       0.38      0.25      0.30        12',\n",
       " '          42       0.33      0.50      0.40        12',\n",
       " '          43       0.69      0.85      0.76        13',\n",
       " '          44       0.89      0.62      0.73        13',\n",
       " '          45       0.90      0.69      0.78        13',\n",
       " '          46       0.33      0.17      0.22        12',\n",
       " '          47       0.81      0.74      0.77       128',\n",
       " '          48       0.69      0.75      0.72        12',\n",
       " '          49       0.67      0.50      0.57        12',\n",
       " '          50       0.50      0.25      0.33        12',\n",
       " '          51       0.13      0.17      0.15        12',\n",
       " '          52       0.36      0.33      0.35        12',\n",
       " '          53       0.00      0.00      0.00         4',\n",
       " '          54       0.00      0.00      0.00         4',\n",
       " '          55       0.20      0.25      0.22         4',\n",
       " '          56       0.00      0.00      0.00         4',\n",
       " '          57       0.71      0.78      0.75       181',\n",
       " '          58       0.50      0.75      0.60         4',\n",
       " '          59       0.33      0.50      0.40         4',\n",
       " '          60       1.00      0.25      0.40         4',\n",
       " '          61       0.00      0.00      0.00         4',\n",
       " '          62       0.17      0.25      0.20         4',\n",
       " '          63       0.75      0.62      0.68        34',\n",
       " '          64       1.00      1.00      1.00         4',\n",
       " '          65       1.00      1.00      1.00         4',\n",
       " '          66       1.00      1.00      1.00         4',\n",
       " '          67       0.80      1.00      0.89         4',\n",
       " '          68       0.67      1.00      0.80         4',\n",
       " '          69       1.00      1.00      1.00         4',\n",
       " '          70       1.00      1.00      1.00         4',\n",
       " '          71       0.80      1.00      0.89         4',\n",
       " '          72       1.00      1.00      1.00         4',\n",
       " '          73       0.75      0.75      0.75         4',\n",
       " '          74       1.00      1.00      1.00         4',\n",
       " '          75       0.69      0.87      0.77        39',\n",
       " '          76       0.50      0.47      0.48        15',\n",
       " '          77       0.86      1.00      0.92        12',\n",
       " '          78       0.44      0.33      0.38        12',\n",
       " '          79       0.73      0.85      0.79        13',\n",
       " '          80       0.92      0.85      0.88        13',\n",
       " '          81       1.00      0.92      0.96        13',\n",
       " '          82       0.77      0.83      0.80        12',\n",
       " '          83       0.78      0.78      0.78        92',\n",
       " '          84       0.73      0.92      0.81        12',\n",
       " '          85       0.85      0.92      0.88        12',\n",
       " '          86       0.89      0.67      0.76        12',\n",
       " '          87       1.00      0.75      0.86        12',\n",
       " '          88       0.63      0.58      0.60        38',\n",
       " '          89       0.40      0.67      0.50        12',\n",
       " '          90       0.56      0.42      0.48        12',\n",
       " '          91       0.69      0.92      0.79        12',\n",
       " '          92       0.78      0.58      0.67        12',\n",
       " '          93       0.91      0.83      0.87        12',\n",
       " '          94       0.90      0.75      0.82        12',\n",
       " '          95       0.75      0.75      0.75        12',\n",
       " '          96       0.92      0.92      0.92        12',\n",
       " '          97       0.91      0.83      0.87        12',\n",
       " '          98       0.85      0.92      0.88        12',\n",
       " '          99       0.53      0.75      0.62        12',\n",
       " '         100       1.00      1.00      1.00        12',\n",
       " '         101       0.75      0.75      0.75        12',\n",
       " '         102       1.00      0.92      0.96        12',\n",
       " '         103       0.88      0.58      0.70        12',\n",
       " '         104       0.82      0.75      0.78        12',\n",
       " '         105       0.90      0.88      0.89       180',\n",
       " '         106       0.92      1.00      0.96        12',\n",
       " '         107       0.92      1.00      0.96        12',\n",
       " '         108       0.86      1.00      0.92        12',\n",
       " '         109       0.80      1.00      0.89        12',\n",
       " '         110       0.75      0.69      0.72        13',\n",
       " '         111       1.00      1.00      1.00        12',\n",
       " '         112       0.89      0.67      0.76        12',\n",
       " '         113       1.00      1.00      1.00        12',\n",
       " '         114       0.75      0.56      0.64        16',\n",
       " '         115       0.92      0.92      0.92        12',\n",
       " '         116       0.80      1.00      0.89        12',\n",
       " '         117       0.75      1.00      0.86        12',\n",
       " '         118       1.00      0.92      0.96        12',\n",
       " '         119       1.00      1.00      1.00        12',\n",
       " '         120       0.85      0.92      0.88        12',\n",
       " '         121       0.75      0.75      0.75        20',\n",
       " '         122       0.82      0.85      0.84       332',\n",
       " '         123       0.92      0.92      0.92        13',\n",
       " '         124       0.88      0.70      0.78        10',\n",
       " '         125       0.92      1.00      0.96        12',\n",
       " '         126       0.53      0.67      0.59        12',\n",
       " '         127       1.00      1.00      1.00        12',\n",
       " '         128       0.92      0.92      0.92        12',\n",
       " '         129       1.00      1.00      1.00        12',\n",
       " '         130       0.53      0.75      0.62        12',\n",
       " '         131       1.00      0.83      0.91        12',\n",
       " '         132       0.93      0.93      0.93        15',\n",
       " '         133       0.67      0.67      0.67        12',\n",
       " '         134       0.82      0.75      0.78        12',\n",
       " '         135       0.87      0.82      0.84       103',\n",
       " '         136       0.71      0.83      0.77        12',\n",
       " '         137       1.00      0.83      0.91        12',\n",
       " '         138       0.83      0.91      0.87        11',\n",
       " '         139       0.85      0.92      0.88        12',\n",
       " '         140       0.83      0.71      0.77         7',\n",
       " '         141       1.00      0.82      0.90        11',\n",
       " '         142       0.83      0.50      0.62        10',\n",
       " '         143       0.88      0.58      0.70        12',\n",
       " '         144       0.33      0.50      0.40         2',\n",
       " '         145       0.71      0.83      0.77        12',\n",
       " '         146       0.50      0.58      0.54        12',\n",
       " '         147       0.80      0.67      0.73        12',\n",
       " '         148       0.50      0.58      0.54        12',\n",
       " '         149       0.77      0.77      0.77        98',\n",
       " '         150       0.80      1.00      0.89         4',\n",
       " '         151       1.00      1.00      1.00         4',\n",
       " '         152       1.00      1.00      1.00         3',\n",
       " '         153       1.00      1.00      1.00         4',\n",
       " '         154       1.00      1.00      1.00         4',\n",
       " '         155       1.00      1.00      1.00         4',\n",
       " '         156       0.67      0.50      0.57         4',\n",
       " '         157       0.00      0.00      0.00         4',\n",
       " '         158       0.22      0.50      0.31         4',\n",
       " '         159       0.00      0.00      0.00         4',\n",
       " '         160       0.45      0.50      0.48        10',\n",
       " '         161       1.00      1.00      1.00         3',\n",
       " '         162       1.00      1.00      1.00         2',\n",
       " '         163       0.67      1.00      0.80         4',\n",
       " '         164       1.00      0.67      0.80         3',\n",
       " '         165       1.00      0.67      0.80         3',\n",
       " '         166       0.75      1.00      0.86         3',\n",
       " '         167       1.00      0.33      0.50         3',\n",
       " '         168       0.79      0.72      0.76        43',\n",
       " '         169       0.90      0.75      0.82        12',\n",
       " '         170       0.71      0.83      0.77        12',\n",
       " '         171       0.92      1.00      0.96        12',\n",
       " '         172       1.00      1.00      1.00        12',\n",
       " '         173       1.00      1.00      1.00        13',\n",
       " '         174       0.77      0.83      0.80        12',\n",
       " '         175       0.92      0.92      0.92        12',\n",
       " '         176       0.50      0.20      0.29        10',\n",
       " '         177       0.92      0.92      0.92        12',\n",
       " '         178       0.85      0.92      0.88        12',\n",
       " '         179       0.79      0.92      0.85        12',\n",
       " '         180       0.92      1.00      0.96        12',\n",
       " '         181       0.84      1.00      0.91        16',\n",
       " '         182       0.92      1.00      0.96        11',\n",
       " '         183       0.83      0.77      0.80        13',\n",
       " '         184       0.72      0.79      0.75        61',\n",
       " '         185       0.69      0.92      0.79        12',\n",
       " '         186       0.71      0.91      0.80        11',\n",
       " '         187       0.73      0.92      0.81        12',\n",
       " '         188       0.80      1.00      0.89        12',\n",
       " '         189       1.00      0.92      0.96        12',\n",
       " '         190       1.00      1.00      1.00        12',\n",
       " '         191       0.82      0.69      0.75        13',\n",
       " '         192       1.00      0.50      0.67         4',\n",
       " '         193       0.67      1.00      0.80         4',\n",
       " '         194       1.00      1.00      1.00         3',\n",
       " '         195       1.00      1.00      1.00         4',\n",
       " '         196       0.75      0.75      0.75         4',\n",
       " '         197       0.60      0.68      0.64        41',\n",
       " '         198       0.94      0.93      0.93       130',\n",
       " '         199       0.80      0.97      0.88        29',\n",
       " '         200       0.76      0.95      0.84        20',\n",
       " '         201       0.86      0.86      0.86         7',\n",
       " '         202       0.94      0.94      0.94        17',\n",
       " '         203       1.00      0.94      0.97        17',\n",
       " '         204       0.82      0.69      0.75        96',\n",
       " '',\n",
       " '    accuracy                           0.79      3936',\n",
       " '   macro avg       0.76      0.75      0.75      3936',\n",
       " 'weighted avg       0.79      0.79      0.78      3936',\n",
       " '']"
      ]
     },
     "execution_count": 57,
     "metadata": {},
     "output_type": "execute_result"
    }
   ],
   "source": [
    "cr = classification_report(y_true, y_pred).split('\\n')\n",
    "cr"
   ]
  },
  {
   "cell_type": "code",
   "execution_count": 58,
   "metadata": {},
   "outputs": [
    {
     "data": {
      "text/plain": [
       "[['precision', 'recall', 'f1-score', 'support'],\n",
       " [],\n",
       " ['0', '0.74', '0.94', '0.83', '18'],\n",
       " ['1', '0.79', '0.85', '0.81', '13'],\n",
       " ['2', '0.72', '0.93', '0.81', '14'],\n",
       " ['3', '0.26', '0.42', '0.32', '12'],\n",
       " ['4', '0.71', '0.83', '0.77', '12'],\n",
       " ['5', '0.64', '0.58', '0.61', '12'],\n",
       " ['6', '0.69', '0.69', '0.69', '13'],\n",
       " ['7', '0.69', '0.75', '0.72', '12'],\n",
       " ['8', '1.00', '0.75', '0.86', '12'],\n",
       " ['9', '0.89', '0.67', '0.76', '12'],\n",
       " ['10', '0.17', '0.08', '0.11', '12'],\n",
       " ['11', '0.30', '0.25', '0.27', '12'],\n",
       " ['12', '0.91', '0.85', '0.88', '179'],\n",
       " ['13', '0.56', '0.77', '0.65', '13'],\n",
       " ['14', '0.80', '0.67', '0.73', '12'],\n",
       " ['15', '0.77', '0.83', '0.80', '12'],\n",
       " ['16', '0.82', '0.75', '0.78', '12'],\n",
       " ['17', '0.86', '0.50', '0.63', '12'],\n",
       " ['18', '0.90', '0.75', '0.82', '12'],\n",
       " ['19', '0.65', '0.92', '0.76', '12'],\n",
       " ['20', '1.00', '1.00', '1.00', '13'],\n",
       " ['21', '1.00', '0.92', '0.96', '13'],\n",
       " ['22', '0.89', '0.67', '0.76', '12'],\n",
       " ['23', '0.77', '0.77', '0.77', '13'],\n",
       " ['24', '0.89', '0.67', '0.76', '12'],\n",
       " ['25', '0.70', '0.58', '0.64', '12'],\n",
       " ['26', '0.82', '0.75', '0.78', '12'],\n",
       " ['27', '0.64', '0.82', '0.72', '11'],\n",
       " ['28', '0.53', '0.75', '0.62', '12'],\n",
       " ['29', '0.58', '0.54', '0.56', '13'],\n",
       " ['30', '0.84', '0.84', '0.84', '150'],\n",
       " ['31', '0.54', '0.58', '0.56', '12'],\n",
       " ['32', '0.77', '0.77', '0.77', '13'],\n",
       " ['33', '0.54', '0.58', '0.56', '12'],\n",
       " ['34', '0.86', '0.92', '0.89', '13'],\n",
       " ['35', '0.62', '0.83', '0.71', '12'],\n",
       " ['36', '0.88', '0.58', '0.70', '12'],\n",
       " ['37', '0.60', '0.50', '0.55', '12'],\n",
       " ['38', '1.00', '0.83', '0.91', '12'],\n",
       " ['39', '0.79', '0.76', '0.77', '58'],\n",
       " ['40', '0.50', '0.57', '0.53', '14'],\n",
       " ['41', '0.38', '0.25', '0.30', '12'],\n",
       " ['42', '0.33', '0.50', '0.40', '12'],\n",
       " ['43', '0.69', '0.85', '0.76', '13'],\n",
       " ['44', '0.89', '0.62', '0.73', '13'],\n",
       " ['45', '0.90', '0.69', '0.78', '13'],\n",
       " ['46', '0.33', '0.17', '0.22', '12'],\n",
       " ['47', '0.81', '0.74', '0.77', '128'],\n",
       " ['48', '0.69', '0.75', '0.72', '12'],\n",
       " ['49', '0.67', '0.50', '0.57', '12'],\n",
       " ['50', '0.50', '0.25', '0.33', '12'],\n",
       " ['51', '0.13', '0.17', '0.15', '12'],\n",
       " ['52', '0.36', '0.33', '0.35', '12'],\n",
       " ['53', '0.00', '0.00', '0.00', '4'],\n",
       " ['54', '0.00', '0.00', '0.00', '4'],\n",
       " ['55', '0.20', '0.25', '0.22', '4'],\n",
       " ['56', '0.00', '0.00', '0.00', '4'],\n",
       " ['57', '0.71', '0.78', '0.75', '181'],\n",
       " ['58', '0.50', '0.75', '0.60', '4'],\n",
       " ['59', '0.33', '0.50', '0.40', '4'],\n",
       " ['60', '1.00', '0.25', '0.40', '4'],\n",
       " ['61', '0.00', '0.00', '0.00', '4'],\n",
       " ['62', '0.17', '0.25', '0.20', '4'],\n",
       " ['63', '0.75', '0.62', '0.68', '34'],\n",
       " ['64', '1.00', '1.00', '1.00', '4'],\n",
       " ['65', '1.00', '1.00', '1.00', '4'],\n",
       " ['66', '1.00', '1.00', '1.00', '4'],\n",
       " ['67', '0.80', '1.00', '0.89', '4'],\n",
       " ['68', '0.67', '1.00', '0.80', '4'],\n",
       " ['69', '1.00', '1.00', '1.00', '4'],\n",
       " ['70', '1.00', '1.00', '1.00', '4'],\n",
       " ['71', '0.80', '1.00', '0.89', '4'],\n",
       " ['72', '1.00', '1.00', '1.00', '4'],\n",
       " ['73', '0.75', '0.75', '0.75', '4'],\n",
       " ['74', '1.00', '1.00', '1.00', '4'],\n",
       " ['75', '0.69', '0.87', '0.77', '39'],\n",
       " ['76', '0.50', '0.47', '0.48', '15'],\n",
       " ['77', '0.86', '1.00', '0.92', '12'],\n",
       " ['78', '0.44', '0.33', '0.38', '12'],\n",
       " ['79', '0.73', '0.85', '0.79', '13'],\n",
       " ['80', '0.92', '0.85', '0.88', '13'],\n",
       " ['81', '1.00', '0.92', '0.96', '13'],\n",
       " ['82', '0.77', '0.83', '0.80', '12'],\n",
       " ['83', '0.78', '0.78', '0.78', '92'],\n",
       " ['84', '0.73', '0.92', '0.81', '12'],\n",
       " ['85', '0.85', '0.92', '0.88', '12'],\n",
       " ['86', '0.89', '0.67', '0.76', '12'],\n",
       " ['87', '1.00', '0.75', '0.86', '12'],\n",
       " ['88', '0.63', '0.58', '0.60', '38'],\n",
       " ['89', '0.40', '0.67', '0.50', '12'],\n",
       " ['90', '0.56', '0.42', '0.48', '12'],\n",
       " ['91', '0.69', '0.92', '0.79', '12'],\n",
       " ['92', '0.78', '0.58', '0.67', '12'],\n",
       " ['93', '0.91', '0.83', '0.87', '12'],\n",
       " ['94', '0.90', '0.75', '0.82', '12'],\n",
       " ['95', '0.75', '0.75', '0.75', '12'],\n",
       " ['96', '0.92', '0.92', '0.92', '12'],\n",
       " ['97', '0.91', '0.83', '0.87', '12'],\n",
       " ['98', '0.85', '0.92', '0.88', '12'],\n",
       " ['99', '0.53', '0.75', '0.62', '12'],\n",
       " ['100', '1.00', '1.00', '1.00', '12'],\n",
       " ['101', '0.75', '0.75', '0.75', '12'],\n",
       " ['102', '1.00', '0.92', '0.96', '12'],\n",
       " ['103', '0.88', '0.58', '0.70', '12'],\n",
       " ['104', '0.82', '0.75', '0.78', '12'],\n",
       " ['105', '0.90', '0.88', '0.89', '180'],\n",
       " ['106', '0.92', '1.00', '0.96', '12'],\n",
       " ['107', '0.92', '1.00', '0.96', '12'],\n",
       " ['108', '0.86', '1.00', '0.92', '12'],\n",
       " ['109', '0.80', '1.00', '0.89', '12'],\n",
       " ['110', '0.75', '0.69', '0.72', '13'],\n",
       " ['111', '1.00', '1.00', '1.00', '12'],\n",
       " ['112', '0.89', '0.67', '0.76', '12'],\n",
       " ['113', '1.00', '1.00', '1.00', '12'],\n",
       " ['114', '0.75', '0.56', '0.64', '16'],\n",
       " ['115', '0.92', '0.92', '0.92', '12'],\n",
       " ['116', '0.80', '1.00', '0.89', '12'],\n",
       " ['117', '0.75', '1.00', '0.86', '12'],\n",
       " ['118', '1.00', '0.92', '0.96', '12'],\n",
       " ['119', '1.00', '1.00', '1.00', '12'],\n",
       " ['120', '0.85', '0.92', '0.88', '12'],\n",
       " ['121', '0.75', '0.75', '0.75', '20'],\n",
       " ['122', '0.82', '0.85', '0.84', '332'],\n",
       " ['123', '0.92', '0.92', '0.92', '13'],\n",
       " ['124', '0.88', '0.70', '0.78', '10'],\n",
       " ['125', '0.92', '1.00', '0.96', '12'],\n",
       " ['126', '0.53', '0.67', '0.59', '12'],\n",
       " ['127', '1.00', '1.00', '1.00', '12'],\n",
       " ['128', '0.92', '0.92', '0.92', '12'],\n",
       " ['129', '1.00', '1.00', '1.00', '12'],\n",
       " ['130', '0.53', '0.75', '0.62', '12'],\n",
       " ['131', '1.00', '0.83', '0.91', '12'],\n",
       " ['132', '0.93', '0.93', '0.93', '15'],\n",
       " ['133', '0.67', '0.67', '0.67', '12'],\n",
       " ['134', '0.82', '0.75', '0.78', '12'],\n",
       " ['135', '0.87', '0.82', '0.84', '103'],\n",
       " ['136', '0.71', '0.83', '0.77', '12'],\n",
       " ['137', '1.00', '0.83', '0.91', '12'],\n",
       " ['138', '0.83', '0.91', '0.87', '11'],\n",
       " ['139', '0.85', '0.92', '0.88', '12'],\n",
       " ['140', '0.83', '0.71', '0.77', '7'],\n",
       " ['141', '1.00', '0.82', '0.90', '11'],\n",
       " ['142', '0.83', '0.50', '0.62', '10'],\n",
       " ['143', '0.88', '0.58', '0.70', '12'],\n",
       " ['144', '0.33', '0.50', '0.40', '2'],\n",
       " ['145', '0.71', '0.83', '0.77', '12'],\n",
       " ['146', '0.50', '0.58', '0.54', '12'],\n",
       " ['147', '0.80', '0.67', '0.73', '12'],\n",
       " ['148', '0.50', '0.58', '0.54', '12'],\n",
       " ['149', '0.77', '0.77', '0.77', '98'],\n",
       " ['150', '0.80', '1.00', '0.89', '4'],\n",
       " ['151', '1.00', '1.00', '1.00', '4'],\n",
       " ['152', '1.00', '1.00', '1.00', '3'],\n",
       " ['153', '1.00', '1.00', '1.00', '4'],\n",
       " ['154', '1.00', '1.00', '1.00', '4'],\n",
       " ['155', '1.00', '1.00', '1.00', '4'],\n",
       " ['156', '0.67', '0.50', '0.57', '4'],\n",
       " ['157', '0.00', '0.00', '0.00', '4'],\n",
       " ['158', '0.22', '0.50', '0.31', '4'],\n",
       " ['159', '0.00', '0.00', '0.00', '4'],\n",
       " ['160', '0.45', '0.50', '0.48', '10'],\n",
       " ['161', '1.00', '1.00', '1.00', '3'],\n",
       " ['162', '1.00', '1.00', '1.00', '2'],\n",
       " ['163', '0.67', '1.00', '0.80', '4'],\n",
       " ['164', '1.00', '0.67', '0.80', '3'],\n",
       " ['165', '1.00', '0.67', '0.80', '3'],\n",
       " ['166', '0.75', '1.00', '0.86', '3'],\n",
       " ['167', '1.00', '0.33', '0.50', '3'],\n",
       " ['168', '0.79', '0.72', '0.76', '43'],\n",
       " ['169', '0.90', '0.75', '0.82', '12'],\n",
       " ['170', '0.71', '0.83', '0.77', '12'],\n",
       " ['171', '0.92', '1.00', '0.96', '12'],\n",
       " ['172', '1.00', '1.00', '1.00', '12'],\n",
       " ['173', '1.00', '1.00', '1.00', '13'],\n",
       " ['174', '0.77', '0.83', '0.80', '12'],\n",
       " ['175', '0.92', '0.92', '0.92', '12'],\n",
       " ['176', '0.50', '0.20', '0.29', '10'],\n",
       " ['177', '0.92', '0.92', '0.92', '12'],\n",
       " ['178', '0.85', '0.92', '0.88', '12'],\n",
       " ['179', '0.79', '0.92', '0.85', '12'],\n",
       " ['180', '0.92', '1.00', '0.96', '12'],\n",
       " ['181', '0.84', '1.00', '0.91', '16'],\n",
       " ['182', '0.92', '1.00', '0.96', '11'],\n",
       " ['183', '0.83', '0.77', '0.80', '13'],\n",
       " ['184', '0.72', '0.79', '0.75', '61'],\n",
       " ['185', '0.69', '0.92', '0.79', '12'],\n",
       " ['186', '0.71', '0.91', '0.80', '11'],\n",
       " ['187', '0.73', '0.92', '0.81', '12'],\n",
       " ['188', '0.80', '1.00', '0.89', '12'],\n",
       " ['189', '1.00', '0.92', '0.96', '12'],\n",
       " ['190', '1.00', '1.00', '1.00', '12'],\n",
       " ['191', '0.82', '0.69', '0.75', '13'],\n",
       " ['192', '1.00', '0.50', '0.67', '4'],\n",
       " ['193', '0.67', '1.00', '0.80', '4'],\n",
       " ['194', '1.00', '1.00', '1.00', '3'],\n",
       " ['195', '1.00', '1.00', '1.00', '4'],\n",
       " ['196', '0.75', '0.75', '0.75', '4'],\n",
       " ['197', '0.60', '0.68', '0.64', '41'],\n",
       " ['198', '0.94', '0.93', '0.93', '130'],\n",
       " ['199', '0.80', '0.97', '0.88', '29'],\n",
       " ['200', '0.76', '0.95', '0.84', '20'],\n",
       " ['201', '0.86', '0.86', '0.86', '7'],\n",
       " ['202', '0.94', '0.94', '0.94', '17'],\n",
       " ['203', '1.00', '0.94', '0.97', '17'],\n",
       " ['204', '0.82', '0.69', '0.75', '96'],\n",
       " [],\n",
       " ['accuracy', '0.79', '3936'],\n",
       " ['macro', 'avg', '0.76', '0.75', '0.75', '3936'],\n",
       " ['weighted', 'avg', '0.79', '0.79', '0.78', '3936'],\n",
       " []]"
      ]
     },
     "execution_count": 58,
     "metadata": {},
     "output_type": "execute_result"
    }
   ],
   "source": [
    "clr_df = []\n",
    "\n",
    "for idx, line in enumerate(cr):\n",
    "    clr_df.append([])\n",
    "    if line == '':\n",
    "        continue\n",
    "    \n",
    "    word_list = line.strip().split(' ')\n",
    "    \n",
    "    for word in word_list:\n",
    "        if word != '':\n",
    "            clr_df[idx].append(word)\n",
    "\n",
    "clr_df"
   ]
  },
  {
   "cell_type": "code",
   "execution_count": 59,
   "metadata": {},
   "outputs": [],
   "source": [
    "clr_df[-2][0] = ' '.join([clr_df[-2][0], clr_df[-2][1]])\n",
    "clr_df[-3][0] = ' '.join([clr_df[-3][0], clr_df[-3][1]])\n",
    "clr_df[-4].insert(1, ' ')\n",
    "clr_df[-4].insert(2, ' ')\n",
    "clr_df[0].insert(0, 'index')"
   ]
  },
  {
   "cell_type": "code",
   "execution_count": 60,
   "metadata": {},
   "outputs": [
    {
     "data": {
      "text/plain": [
       "[['index', 'precision', 'recall', 'f1-score', 'support'],\n",
       " ['0', '0.74', '0.94', '0.83', '18'],\n",
       " ['1', '0.79', '0.85', '0.81', '13'],\n",
       " ['2', '0.72', '0.93', '0.81', '14'],\n",
       " ['3', '0.26', '0.42', '0.32', '12'],\n",
       " ['4', '0.71', '0.83', '0.77', '12'],\n",
       " ['5', '0.64', '0.58', '0.61', '12'],\n",
       " ['6', '0.69', '0.69', '0.69', '13'],\n",
       " ['7', '0.69', '0.75', '0.72', '12'],\n",
       " ['8', '1.00', '0.75', '0.86', '12'],\n",
       " ['9', '0.89', '0.67', '0.76', '12'],\n",
       " ['10', '0.17', '0.08', '0.11', '12'],\n",
       " ['11', '0.30', '0.25', '0.27', '12'],\n",
       " ['12', '0.91', '0.85', '0.88', '179'],\n",
       " ['13', '0.56', '0.77', '0.65', '13'],\n",
       " ['14', '0.80', '0.67', '0.73', '12'],\n",
       " ['15', '0.77', '0.83', '0.80', '12'],\n",
       " ['16', '0.82', '0.75', '0.78', '12'],\n",
       " ['17', '0.86', '0.50', '0.63', '12'],\n",
       " ['18', '0.90', '0.75', '0.82', '12'],\n",
       " ['19', '0.65', '0.92', '0.76', '12'],\n",
       " ['20', '1.00', '1.00', '1.00', '13'],\n",
       " ['21', '1.00', '0.92', '0.96', '13'],\n",
       " ['22', '0.89', '0.67', '0.76', '12'],\n",
       " ['23', '0.77', '0.77', '0.77', '13'],\n",
       " ['24', '0.89', '0.67', '0.76', '12'],\n",
       " ['25', '0.70', '0.58', '0.64', '12'],\n",
       " ['26', '0.82', '0.75', '0.78', '12'],\n",
       " ['27', '0.64', '0.82', '0.72', '11'],\n",
       " ['28', '0.53', '0.75', '0.62', '12'],\n",
       " ['29', '0.58', '0.54', '0.56', '13'],\n",
       " ['30', '0.84', '0.84', '0.84', '150'],\n",
       " ['31', '0.54', '0.58', '0.56', '12'],\n",
       " ['32', '0.77', '0.77', '0.77', '13'],\n",
       " ['33', '0.54', '0.58', '0.56', '12'],\n",
       " ['34', '0.86', '0.92', '0.89', '13'],\n",
       " ['35', '0.62', '0.83', '0.71', '12'],\n",
       " ['36', '0.88', '0.58', '0.70', '12'],\n",
       " ['37', '0.60', '0.50', '0.55', '12'],\n",
       " ['38', '1.00', '0.83', '0.91', '12'],\n",
       " ['39', '0.79', '0.76', '0.77', '58'],\n",
       " ['40', '0.50', '0.57', '0.53', '14'],\n",
       " ['41', '0.38', '0.25', '0.30', '12'],\n",
       " ['42', '0.33', '0.50', '0.40', '12'],\n",
       " ['43', '0.69', '0.85', '0.76', '13'],\n",
       " ['44', '0.89', '0.62', '0.73', '13'],\n",
       " ['45', '0.90', '0.69', '0.78', '13'],\n",
       " ['46', '0.33', '0.17', '0.22', '12'],\n",
       " ['47', '0.81', '0.74', '0.77', '128'],\n",
       " ['48', '0.69', '0.75', '0.72', '12'],\n",
       " ['49', '0.67', '0.50', '0.57', '12'],\n",
       " ['50', '0.50', '0.25', '0.33', '12'],\n",
       " ['51', '0.13', '0.17', '0.15', '12'],\n",
       " ['52', '0.36', '0.33', '0.35', '12'],\n",
       " ['53', '0.00', '0.00', '0.00', '4'],\n",
       " ['54', '0.00', '0.00', '0.00', '4'],\n",
       " ['55', '0.20', '0.25', '0.22', '4'],\n",
       " ['56', '0.00', '0.00', '0.00', '4'],\n",
       " ['57', '0.71', '0.78', '0.75', '181'],\n",
       " ['58', '0.50', '0.75', '0.60', '4'],\n",
       " ['59', '0.33', '0.50', '0.40', '4'],\n",
       " ['60', '1.00', '0.25', '0.40', '4'],\n",
       " ['61', '0.00', '0.00', '0.00', '4'],\n",
       " ['62', '0.17', '0.25', '0.20', '4'],\n",
       " ['63', '0.75', '0.62', '0.68', '34'],\n",
       " ['64', '1.00', '1.00', '1.00', '4'],\n",
       " ['65', '1.00', '1.00', '1.00', '4'],\n",
       " ['66', '1.00', '1.00', '1.00', '4'],\n",
       " ['67', '0.80', '1.00', '0.89', '4'],\n",
       " ['68', '0.67', '1.00', '0.80', '4'],\n",
       " ['69', '1.00', '1.00', '1.00', '4'],\n",
       " ['70', '1.00', '1.00', '1.00', '4'],\n",
       " ['71', '0.80', '1.00', '0.89', '4'],\n",
       " ['72', '1.00', '1.00', '1.00', '4'],\n",
       " ['73', '0.75', '0.75', '0.75', '4'],\n",
       " ['74', '1.00', '1.00', '1.00', '4'],\n",
       " ['75', '0.69', '0.87', '0.77', '39'],\n",
       " ['76', '0.50', '0.47', '0.48', '15'],\n",
       " ['77', '0.86', '1.00', '0.92', '12'],\n",
       " ['78', '0.44', '0.33', '0.38', '12'],\n",
       " ['79', '0.73', '0.85', '0.79', '13'],\n",
       " ['80', '0.92', '0.85', '0.88', '13'],\n",
       " ['81', '1.00', '0.92', '0.96', '13'],\n",
       " ['82', '0.77', '0.83', '0.80', '12'],\n",
       " ['83', '0.78', '0.78', '0.78', '92'],\n",
       " ['84', '0.73', '0.92', '0.81', '12'],\n",
       " ['85', '0.85', '0.92', '0.88', '12'],\n",
       " ['86', '0.89', '0.67', '0.76', '12'],\n",
       " ['87', '1.00', '0.75', '0.86', '12'],\n",
       " ['88', '0.63', '0.58', '0.60', '38'],\n",
       " ['89', '0.40', '0.67', '0.50', '12'],\n",
       " ['90', '0.56', '0.42', '0.48', '12'],\n",
       " ['91', '0.69', '0.92', '0.79', '12'],\n",
       " ['92', '0.78', '0.58', '0.67', '12'],\n",
       " ['93', '0.91', '0.83', '0.87', '12'],\n",
       " ['94', '0.90', '0.75', '0.82', '12'],\n",
       " ['95', '0.75', '0.75', '0.75', '12'],\n",
       " ['96', '0.92', '0.92', '0.92', '12'],\n",
       " ['97', '0.91', '0.83', '0.87', '12'],\n",
       " ['98', '0.85', '0.92', '0.88', '12'],\n",
       " ['99', '0.53', '0.75', '0.62', '12'],\n",
       " ['100', '1.00', '1.00', '1.00', '12'],\n",
       " ['101', '0.75', '0.75', '0.75', '12'],\n",
       " ['102', '1.00', '0.92', '0.96', '12'],\n",
       " ['103', '0.88', '0.58', '0.70', '12'],\n",
       " ['104', '0.82', '0.75', '0.78', '12'],\n",
       " ['105', '0.90', '0.88', '0.89', '180'],\n",
       " ['106', '0.92', '1.00', '0.96', '12'],\n",
       " ['107', '0.92', '1.00', '0.96', '12'],\n",
       " ['108', '0.86', '1.00', '0.92', '12'],\n",
       " ['109', '0.80', '1.00', '0.89', '12'],\n",
       " ['110', '0.75', '0.69', '0.72', '13'],\n",
       " ['111', '1.00', '1.00', '1.00', '12'],\n",
       " ['112', '0.89', '0.67', '0.76', '12'],\n",
       " ['113', '1.00', '1.00', '1.00', '12'],\n",
       " ['114', '0.75', '0.56', '0.64', '16'],\n",
       " ['115', '0.92', '0.92', '0.92', '12'],\n",
       " ['116', '0.80', '1.00', '0.89', '12'],\n",
       " ['117', '0.75', '1.00', '0.86', '12'],\n",
       " ['118', '1.00', '0.92', '0.96', '12'],\n",
       " ['119', '1.00', '1.00', '1.00', '12'],\n",
       " ['120', '0.85', '0.92', '0.88', '12'],\n",
       " ['121', '0.75', '0.75', '0.75', '20'],\n",
       " ['122', '0.82', '0.85', '0.84', '332'],\n",
       " ['123', '0.92', '0.92', '0.92', '13'],\n",
       " ['124', '0.88', '0.70', '0.78', '10'],\n",
       " ['125', '0.92', '1.00', '0.96', '12'],\n",
       " ['126', '0.53', '0.67', '0.59', '12'],\n",
       " ['127', '1.00', '1.00', '1.00', '12'],\n",
       " ['128', '0.92', '0.92', '0.92', '12'],\n",
       " ['129', '1.00', '1.00', '1.00', '12'],\n",
       " ['130', '0.53', '0.75', '0.62', '12'],\n",
       " ['131', '1.00', '0.83', '0.91', '12'],\n",
       " ['132', '0.93', '0.93', '0.93', '15'],\n",
       " ['133', '0.67', '0.67', '0.67', '12'],\n",
       " ['134', '0.82', '0.75', '0.78', '12'],\n",
       " ['135', '0.87', '0.82', '0.84', '103'],\n",
       " ['136', '0.71', '0.83', '0.77', '12'],\n",
       " ['137', '1.00', '0.83', '0.91', '12'],\n",
       " ['138', '0.83', '0.91', '0.87', '11'],\n",
       " ['139', '0.85', '0.92', '0.88', '12'],\n",
       " ['140', '0.83', '0.71', '0.77', '7'],\n",
       " ['141', '1.00', '0.82', '0.90', '11'],\n",
       " ['142', '0.83', '0.50', '0.62', '10'],\n",
       " ['143', '0.88', '0.58', '0.70', '12'],\n",
       " ['144', '0.33', '0.50', '0.40', '2'],\n",
       " ['145', '0.71', '0.83', '0.77', '12'],\n",
       " ['146', '0.50', '0.58', '0.54', '12'],\n",
       " ['147', '0.80', '0.67', '0.73', '12'],\n",
       " ['148', '0.50', '0.58', '0.54', '12'],\n",
       " ['149', '0.77', '0.77', '0.77', '98'],\n",
       " ['150', '0.80', '1.00', '0.89', '4'],\n",
       " ['151', '1.00', '1.00', '1.00', '4'],\n",
       " ['152', '1.00', '1.00', '1.00', '3'],\n",
       " ['153', '1.00', '1.00', '1.00', '4'],\n",
       " ['154', '1.00', '1.00', '1.00', '4'],\n",
       " ['155', '1.00', '1.00', '1.00', '4'],\n",
       " ['156', '0.67', '0.50', '0.57', '4'],\n",
       " ['157', '0.00', '0.00', '0.00', '4'],\n",
       " ['158', '0.22', '0.50', '0.31', '4'],\n",
       " ['159', '0.00', '0.00', '0.00', '4'],\n",
       " ['160', '0.45', '0.50', '0.48', '10'],\n",
       " ['161', '1.00', '1.00', '1.00', '3'],\n",
       " ['162', '1.00', '1.00', '1.00', '2'],\n",
       " ['163', '0.67', '1.00', '0.80', '4'],\n",
       " ['164', '1.00', '0.67', '0.80', '3'],\n",
       " ['165', '1.00', '0.67', '0.80', '3'],\n",
       " ['166', '0.75', '1.00', '0.86', '3'],\n",
       " ['167', '1.00', '0.33', '0.50', '3'],\n",
       " ['168', '0.79', '0.72', '0.76', '43'],\n",
       " ['169', '0.90', '0.75', '0.82', '12'],\n",
       " ['170', '0.71', '0.83', '0.77', '12'],\n",
       " ['171', '0.92', '1.00', '0.96', '12'],\n",
       " ['172', '1.00', '1.00', '1.00', '12'],\n",
       " ['173', '1.00', '1.00', '1.00', '13'],\n",
       " ['174', '0.77', '0.83', '0.80', '12'],\n",
       " ['175', '0.92', '0.92', '0.92', '12'],\n",
       " ['176', '0.50', '0.20', '0.29', '10'],\n",
       " ['177', '0.92', '0.92', '0.92', '12'],\n",
       " ['178', '0.85', '0.92', '0.88', '12'],\n",
       " ['179', '0.79', '0.92', '0.85', '12'],\n",
       " ['180', '0.92', '1.00', '0.96', '12'],\n",
       " ['181', '0.84', '1.00', '0.91', '16'],\n",
       " ['182', '0.92', '1.00', '0.96', '11'],\n",
       " ['183', '0.83', '0.77', '0.80', '13'],\n",
       " ['184', '0.72', '0.79', '0.75', '61'],\n",
       " ['185', '0.69', '0.92', '0.79', '12'],\n",
       " ['186', '0.71', '0.91', '0.80', '11'],\n",
       " ['187', '0.73', '0.92', '0.81', '12'],\n",
       " ['188', '0.80', '1.00', '0.89', '12'],\n",
       " ['189', '1.00', '0.92', '0.96', '12'],\n",
       " ['190', '1.00', '1.00', '1.00', '12'],\n",
       " ['191', '0.82', '0.69', '0.75', '13'],\n",
       " ['192', '1.00', '0.50', '0.67', '4'],\n",
       " ['193', '0.67', '1.00', '0.80', '4'],\n",
       " ['194', '1.00', '1.00', '1.00', '3'],\n",
       " ['195', '1.00', '1.00', '1.00', '4'],\n",
       " ['196', '0.75', '0.75', '0.75', '4'],\n",
       " ['197', '0.60', '0.68', '0.64', '41'],\n",
       " ['198', '0.94', '0.93', '0.93', '130'],\n",
       " ['199', '0.80', '0.97', '0.88', '29'],\n",
       " ['200', '0.76', '0.95', '0.84', '20'],\n",
       " ['201', '0.86', '0.86', '0.86', '7'],\n",
       " ['202', '0.94', '0.94', '0.94', '17'],\n",
       " ['203', '1.00', '0.94', '0.97', '17'],\n",
       " ['204', '0.82', '0.69', '0.75', '96'],\n",
       " ['accuracy', ' ', ' ', '0.79', '3936'],\n",
       " ['macro avg', '0.76', '0.75', '0.75', '3936'],\n",
       " ['weighted avg', '0.79', '0.79', '0.78', '3936']]"
      ]
     },
     "execution_count": 60,
     "metadata": {},
     "output_type": "execute_result"
    }
   ],
   "source": [
    "clr_df[-2].pop(1)\n",
    "clr_df[-3].pop(1)\n",
    "clr_df.pop(1)\n",
    "clr_df.pop(-1)\n",
    "clr_df.pop(-4)\n",
    "clr_df"
   ]
  },
  {
   "cell_type": "code",
   "execution_count": 61,
   "metadata": {},
   "outputs": [
    {
     "data": {
      "text/html": [
       "<div>\n",
       "<style scoped>\n",
       "    .dataframe tbody tr th:only-of-type {\n",
       "        vertical-align: middle;\n",
       "    }\n",
       "\n",
       "    .dataframe tbody tr th {\n",
       "        vertical-align: top;\n",
       "    }\n",
       "\n",
       "    .dataframe thead th {\n",
       "        text-align: right;\n",
       "    }\n",
       "</style>\n",
       "<table border=\"1\" class=\"dataframe\">\n",
       "  <thead>\n",
       "    <tr style=\"text-align: right;\">\n",
       "      <th></th>\n",
       "      <th>index</th>\n",
       "      <th>precision</th>\n",
       "      <th>recall</th>\n",
       "      <th>f1-score</th>\n",
       "      <th>support</th>\n",
       "    </tr>\n",
       "  </thead>\n",
       "  <tbody>\n",
       "    <tr>\n",
       "      <th>0</th>\n",
       "      <td>0</td>\n",
       "      <td>0.74</td>\n",
       "      <td>0.94</td>\n",
       "      <td>0.83</td>\n",
       "      <td>18</td>\n",
       "    </tr>\n",
       "    <tr>\n",
       "      <th>1</th>\n",
       "      <td>1</td>\n",
       "      <td>0.79</td>\n",
       "      <td>0.85</td>\n",
       "      <td>0.81</td>\n",
       "      <td>13</td>\n",
       "    </tr>\n",
       "    <tr>\n",
       "      <th>2</th>\n",
       "      <td>2</td>\n",
       "      <td>0.72</td>\n",
       "      <td>0.93</td>\n",
       "      <td>0.81</td>\n",
       "      <td>14</td>\n",
       "    </tr>\n",
       "    <tr>\n",
       "      <th>3</th>\n",
       "      <td>3</td>\n",
       "      <td>0.26</td>\n",
       "      <td>0.42</td>\n",
       "      <td>0.32</td>\n",
       "      <td>12</td>\n",
       "    </tr>\n",
       "    <tr>\n",
       "      <th>4</th>\n",
       "      <td>4</td>\n",
       "      <td>0.71</td>\n",
       "      <td>0.83</td>\n",
       "      <td>0.77</td>\n",
       "      <td>12</td>\n",
       "    </tr>\n",
       "    <tr>\n",
       "      <th>...</th>\n",
       "      <td>...</td>\n",
       "      <td>...</td>\n",
       "      <td>...</td>\n",
       "      <td>...</td>\n",
       "      <td>...</td>\n",
       "    </tr>\n",
       "    <tr>\n",
       "      <th>203</th>\n",
       "      <td>203</td>\n",
       "      <td>1.00</td>\n",
       "      <td>0.94</td>\n",
       "      <td>0.97</td>\n",
       "      <td>17</td>\n",
       "    </tr>\n",
       "    <tr>\n",
       "      <th>204</th>\n",
       "      <td>204</td>\n",
       "      <td>0.82</td>\n",
       "      <td>0.69</td>\n",
       "      <td>0.75</td>\n",
       "      <td>96</td>\n",
       "    </tr>\n",
       "    <tr>\n",
       "      <th>205</th>\n",
       "      <td>accuracy</td>\n",
       "      <td></td>\n",
       "      <td></td>\n",
       "      <td>0.79</td>\n",
       "      <td>3936</td>\n",
       "    </tr>\n",
       "    <tr>\n",
       "      <th>206</th>\n",
       "      <td>macro avg</td>\n",
       "      <td>0.76</td>\n",
       "      <td>0.75</td>\n",
       "      <td>0.75</td>\n",
       "      <td>3936</td>\n",
       "    </tr>\n",
       "    <tr>\n",
       "      <th>207</th>\n",
       "      <td>weighted avg</td>\n",
       "      <td>0.79</td>\n",
       "      <td>0.79</td>\n",
       "      <td>0.78</td>\n",
       "      <td>3936</td>\n",
       "    </tr>\n",
       "  </tbody>\n",
       "</table>\n",
       "<p>208 rows × 5 columns</p>\n",
       "</div>"
      ],
      "text/plain": [
       "            index precision recall f1-score support\n",
       "0               0      0.74   0.94     0.83      18\n",
       "1               1      0.79   0.85     0.81      13\n",
       "2               2      0.72   0.93     0.81      14\n",
       "3               3      0.26   0.42     0.32      12\n",
       "4               4      0.71   0.83     0.77      12\n",
       "..            ...       ...    ...      ...     ...\n",
       "203           203      1.00   0.94     0.97      17\n",
       "204           204      0.82   0.69     0.75      96\n",
       "205      accuracy                      0.79    3936\n",
       "206     macro avg      0.76   0.75     0.75    3936\n",
       "207  weighted avg      0.79   0.79     0.78    3936\n",
       "\n",
       "[208 rows x 5 columns]"
      ]
     },
     "execution_count": 61,
     "metadata": {},
     "output_type": "execute_result"
    }
   ],
   "source": [
    "clr_df = pd.DataFrame(clr_df[1:], columns=clr_df[0])\n",
    "clr_df"
   ]
  },
  {
   "cell_type": "code",
   "execution_count": 62,
   "metadata": {},
   "outputs": [
    {
     "data": {
      "text/html": [
       "<div>\n",
       "<style scoped>\n",
       "    .dataframe tbody tr th:only-of-type {\n",
       "        vertical-align: middle;\n",
       "    }\n",
       "\n",
       "    .dataframe tbody tr th {\n",
       "        vertical-align: top;\n",
       "    }\n",
       "\n",
       "    .dataframe thead th {\n",
       "        text-align: right;\n",
       "    }\n",
       "</style>\n",
       "<table border=\"1\" class=\"dataframe\">\n",
       "  <thead>\n",
       "    <tr style=\"text-align: right;\">\n",
       "      <th></th>\n",
       "      <th>precision</th>\n",
       "      <th>recall</th>\n",
       "      <th>f1-score</th>\n",
       "      <th>support</th>\n",
       "    </tr>\n",
       "    <tr>\n",
       "      <th>index</th>\n",
       "      <th></th>\n",
       "      <th></th>\n",
       "      <th></th>\n",
       "      <th></th>\n",
       "    </tr>\n",
       "  </thead>\n",
       "  <tbody>\n",
       "    <tr>\n",
       "      <th>0</th>\n",
       "      <td>0.74</td>\n",
       "      <td>0.94</td>\n",
       "      <td>0.83</td>\n",
       "      <td>18</td>\n",
       "    </tr>\n",
       "    <tr>\n",
       "      <th>1</th>\n",
       "      <td>0.79</td>\n",
       "      <td>0.85</td>\n",
       "      <td>0.81</td>\n",
       "      <td>13</td>\n",
       "    </tr>\n",
       "    <tr>\n",
       "      <th>2</th>\n",
       "      <td>0.72</td>\n",
       "      <td>0.93</td>\n",
       "      <td>0.81</td>\n",
       "      <td>14</td>\n",
       "    </tr>\n",
       "    <tr>\n",
       "      <th>3</th>\n",
       "      <td>0.26</td>\n",
       "      <td>0.42</td>\n",
       "      <td>0.32</td>\n",
       "      <td>12</td>\n",
       "    </tr>\n",
       "    <tr>\n",
       "      <th>4</th>\n",
       "      <td>0.71</td>\n",
       "      <td>0.83</td>\n",
       "      <td>0.77</td>\n",
       "      <td>12</td>\n",
       "    </tr>\n",
       "    <tr>\n",
       "      <th>...</th>\n",
       "      <td>...</td>\n",
       "      <td>...</td>\n",
       "      <td>...</td>\n",
       "      <td>...</td>\n",
       "    </tr>\n",
       "    <tr>\n",
       "      <th>203</th>\n",
       "      <td>1.00</td>\n",
       "      <td>0.94</td>\n",
       "      <td>0.97</td>\n",
       "      <td>17</td>\n",
       "    </tr>\n",
       "    <tr>\n",
       "      <th>204</th>\n",
       "      <td>0.82</td>\n",
       "      <td>0.69</td>\n",
       "      <td>0.75</td>\n",
       "      <td>96</td>\n",
       "    </tr>\n",
       "    <tr>\n",
       "      <th>accuracy</th>\n",
       "      <td></td>\n",
       "      <td></td>\n",
       "      <td>0.79</td>\n",
       "      <td>3936</td>\n",
       "    </tr>\n",
       "    <tr>\n",
       "      <th>macro avg</th>\n",
       "      <td>0.76</td>\n",
       "      <td>0.75</td>\n",
       "      <td>0.75</td>\n",
       "      <td>3936</td>\n",
       "    </tr>\n",
       "    <tr>\n",
       "      <th>weighted avg</th>\n",
       "      <td>0.79</td>\n",
       "      <td>0.79</td>\n",
       "      <td>0.78</td>\n",
       "      <td>3936</td>\n",
       "    </tr>\n",
       "  </tbody>\n",
       "</table>\n",
       "<p>208 rows × 4 columns</p>\n",
       "</div>"
      ],
      "text/plain": [
       "             precision recall f1-score support\n",
       "index                                         \n",
       "0                 0.74   0.94     0.83      18\n",
       "1                 0.79   0.85     0.81      13\n",
       "2                 0.72   0.93     0.81      14\n",
       "3                 0.26   0.42     0.32      12\n",
       "4                 0.71   0.83     0.77      12\n",
       "...                ...    ...      ...     ...\n",
       "203               1.00   0.94     0.97      17\n",
       "204               0.82   0.69     0.75      96\n",
       "accuracy                          0.79    3936\n",
       "macro avg         0.76   0.75     0.75    3936\n",
       "weighted avg      0.79   0.79     0.78    3936\n",
       "\n",
       "[208 rows x 4 columns]"
      ]
     },
     "execution_count": 62,
     "metadata": {},
     "output_type": "execute_result"
    }
   ],
   "source": [
    "clr_df.index = clr_df['index']\n",
    "\n",
    "del clr_df['index']\n",
    "clr_df"
   ]
  },
  {
   "cell_type": "code",
   "execution_count": 75,
   "metadata": {},
   "outputs": [],
   "source": [
    "sorted_clr_df = clr_df.sort_values(by='f1-score',ascending=False)\n",
    "top = sorted_clr_df[:10]\n",
    "low = sorted_clr_df[-10:]"
   ]
  },
  {
   "cell_type": "code",
   "execution_count": 76,
   "metadata": {},
   "outputs": [
    {
     "data": {
      "text/html": [
       "<div>\n",
       "<style scoped>\n",
       "    .dataframe tbody tr th:only-of-type {\n",
       "        vertical-align: middle;\n",
       "    }\n",
       "\n",
       "    .dataframe tbody tr th {\n",
       "        vertical-align: top;\n",
       "    }\n",
       "\n",
       "    .dataframe thead th {\n",
       "        text-align: right;\n",
       "    }\n",
       "</style>\n",
       "<table border=\"1\" class=\"dataframe\">\n",
       "  <thead>\n",
       "    <tr style=\"text-align: right;\">\n",
       "      <th></th>\n",
       "      <th>precision</th>\n",
       "      <th>recall</th>\n",
       "      <th>f1-score</th>\n",
       "      <th>support</th>\n",
       "    </tr>\n",
       "    <tr>\n",
       "      <th>index</th>\n",
       "      <th></th>\n",
       "      <th></th>\n",
       "      <th></th>\n",
       "      <th></th>\n",
       "    </tr>\n",
       "  </thead>\n",
       "  <tbody>\n",
       "    <tr>\n",
       "      <th>162</th>\n",
       "      <td>1.00</td>\n",
       "      <td>1.00</td>\n",
       "      <td>1.00</td>\n",
       "      <td>2</td>\n",
       "    </tr>\n",
       "    <tr>\n",
       "      <th>70</th>\n",
       "      <td>1.00</td>\n",
       "      <td>1.00</td>\n",
       "      <td>1.00</td>\n",
       "      <td>4</td>\n",
       "    </tr>\n",
       "    <tr>\n",
       "      <th>66</th>\n",
       "      <td>1.00</td>\n",
       "      <td>1.00</td>\n",
       "      <td>1.00</td>\n",
       "      <td>4</td>\n",
       "    </tr>\n",
       "    <tr>\n",
       "      <th>65</th>\n",
       "      <td>1.00</td>\n",
       "      <td>1.00</td>\n",
       "      <td>1.00</td>\n",
       "      <td>4</td>\n",
       "    </tr>\n",
       "    <tr>\n",
       "      <th>72</th>\n",
       "      <td>1.00</td>\n",
       "      <td>1.00</td>\n",
       "      <td>1.00</td>\n",
       "      <td>4</td>\n",
       "    </tr>\n",
       "    <tr>\n",
       "      <th>64</th>\n",
       "      <td>1.00</td>\n",
       "      <td>1.00</td>\n",
       "      <td>1.00</td>\n",
       "      <td>4</td>\n",
       "    </tr>\n",
       "    <tr>\n",
       "      <th>74</th>\n",
       "      <td>1.00</td>\n",
       "      <td>1.00</td>\n",
       "      <td>1.00</td>\n",
       "      <td>4</td>\n",
       "    </tr>\n",
       "    <tr>\n",
       "      <th>173</th>\n",
       "      <td>1.00</td>\n",
       "      <td>1.00</td>\n",
       "      <td>1.00</td>\n",
       "      <td>13</td>\n",
       "    </tr>\n",
       "    <tr>\n",
       "      <th>172</th>\n",
       "      <td>1.00</td>\n",
       "      <td>1.00</td>\n",
       "      <td>1.00</td>\n",
       "      <td>12</td>\n",
       "    </tr>\n",
       "    <tr>\n",
       "      <th>20</th>\n",
       "      <td>1.00</td>\n",
       "      <td>1.00</td>\n",
       "      <td>1.00</td>\n",
       "      <td>13</td>\n",
       "    </tr>\n",
       "  </tbody>\n",
       "</table>\n",
       "</div>"
      ],
      "text/plain": [
       "      precision recall f1-score support\n",
       "index                                  \n",
       "162        1.00   1.00     1.00       2\n",
       "70         1.00   1.00     1.00       4\n",
       "66         1.00   1.00     1.00       4\n",
       "65         1.00   1.00     1.00       4\n",
       "72         1.00   1.00     1.00       4\n",
       "64         1.00   1.00     1.00       4\n",
       "74         1.00   1.00     1.00       4\n",
       "173        1.00   1.00     1.00      13\n",
       "172        1.00   1.00     1.00      12\n",
       "20         1.00   1.00     1.00      13"
      ]
     },
     "execution_count": 76,
     "metadata": {},
     "output_type": "execute_result"
    }
   ],
   "source": [
    "top"
   ]
  },
  {
   "cell_type": "code",
   "execution_count": 77,
   "metadata": {},
   "outputs": [
    {
     "data": {
      "text/html": [
       "<div>\n",
       "<style scoped>\n",
       "    .dataframe tbody tr th:only-of-type {\n",
       "        vertical-align: middle;\n",
       "    }\n",
       "\n",
       "    .dataframe tbody tr th {\n",
       "        vertical-align: top;\n",
       "    }\n",
       "\n",
       "    .dataframe thead th {\n",
       "        text-align: right;\n",
       "    }\n",
       "</style>\n",
       "<table border=\"1\" class=\"dataframe\">\n",
       "  <thead>\n",
       "    <tr style=\"text-align: right;\">\n",
       "      <th></th>\n",
       "      <th>precision</th>\n",
       "      <th>recall</th>\n",
       "      <th>f1-score</th>\n",
       "      <th>support</th>\n",
       "    </tr>\n",
       "    <tr>\n",
       "      <th>index</th>\n",
       "      <th></th>\n",
       "      <th></th>\n",
       "      <th></th>\n",
       "      <th></th>\n",
       "    </tr>\n",
       "  </thead>\n",
       "  <tbody>\n",
       "    <tr>\n",
       "      <th>46</th>\n",
       "      <td>0.33</td>\n",
       "      <td>0.17</td>\n",
       "      <td>0.22</td>\n",
       "      <td>12</td>\n",
       "    </tr>\n",
       "    <tr>\n",
       "      <th>62</th>\n",
       "      <td>0.17</td>\n",
       "      <td>0.25</td>\n",
       "      <td>0.20</td>\n",
       "      <td>4</td>\n",
       "    </tr>\n",
       "    <tr>\n",
       "      <th>51</th>\n",
       "      <td>0.13</td>\n",
       "      <td>0.17</td>\n",
       "      <td>0.15</td>\n",
       "      <td>12</td>\n",
       "    </tr>\n",
       "    <tr>\n",
       "      <th>10</th>\n",
       "      <td>0.17</td>\n",
       "      <td>0.08</td>\n",
       "      <td>0.11</td>\n",
       "      <td>12</td>\n",
       "    </tr>\n",
       "    <tr>\n",
       "      <th>61</th>\n",
       "      <td>0.00</td>\n",
       "      <td>0.00</td>\n",
       "      <td>0.00</td>\n",
       "      <td>4</td>\n",
       "    </tr>\n",
       "    <tr>\n",
       "      <th>56</th>\n",
       "      <td>0.00</td>\n",
       "      <td>0.00</td>\n",
       "      <td>0.00</td>\n",
       "      <td>4</td>\n",
       "    </tr>\n",
       "    <tr>\n",
       "      <th>54</th>\n",
       "      <td>0.00</td>\n",
       "      <td>0.00</td>\n",
       "      <td>0.00</td>\n",
       "      <td>4</td>\n",
       "    </tr>\n",
       "    <tr>\n",
       "      <th>53</th>\n",
       "      <td>0.00</td>\n",
       "      <td>0.00</td>\n",
       "      <td>0.00</td>\n",
       "      <td>4</td>\n",
       "    </tr>\n",
       "    <tr>\n",
       "      <th>159</th>\n",
       "      <td>0.00</td>\n",
       "      <td>0.00</td>\n",
       "      <td>0.00</td>\n",
       "      <td>4</td>\n",
       "    </tr>\n",
       "    <tr>\n",
       "      <th>157</th>\n",
       "      <td>0.00</td>\n",
       "      <td>0.00</td>\n",
       "      <td>0.00</td>\n",
       "      <td>4</td>\n",
       "    </tr>\n",
       "  </tbody>\n",
       "</table>\n",
       "</div>"
      ],
      "text/plain": [
       "      precision recall f1-score support\n",
       "index                                  \n",
       "46         0.33   0.17     0.22      12\n",
       "62         0.17   0.25     0.20       4\n",
       "51         0.13   0.17     0.15      12\n",
       "10         0.17   0.08     0.11      12\n",
       "61         0.00   0.00     0.00       4\n",
       "56         0.00   0.00     0.00       4\n",
       "54         0.00   0.00     0.00       4\n",
       "53         0.00   0.00     0.00       4\n",
       "159        0.00   0.00     0.00       4\n",
       "157        0.00   0.00     0.00       4"
      ]
     },
     "execution_count": 77,
     "metadata": {},
     "output_type": "execute_result"
    }
   ],
   "source": [
    "low"
   ]
  },
  {
   "cell_type": "code",
   "execution_count": 71,
   "metadata": {},
   "outputs": [],
   "source": [
    "from sklearn.preprocessing import label_binarize \n",
    "\n",
    "y_true = label_binarize(y_true, classes=ik_idx)\n",
    "y_pred = label_binarize(y_pred, classes=ik_idx)"
   ]
  },
  {
   "cell_type": "code",
   "execution_count": 72,
   "metadata": {},
   "outputs": [
    {
     "data": {
      "text/plain": [
       "205"
      ]
     },
     "execution_count": 72,
     "metadata": {},
     "output_type": "execute_result"
    }
   ],
   "source": [
    "len(ik_idx)"
   ]
  },
  {
   "cell_type": "code",
   "execution_count": 73,
   "metadata": {},
   "outputs": [],
   "source": [
    "from sklearn.metrics import roc_curve, auc\n",
    "\n",
    "n_classes = 205\n",
    "fpr = dict()\n",
    "tpr = dict()\n",
    "roc_auc = dict() \n",
    "\n",
    "for i in range(n_classes):\n",
    "    fpr[i], tpr[i], _ = roc_curve(y_true[:,i], y_pred[:,i]) \n",
    "    roc_auc[i] = auc(fpr[i], tpr[i])"
   ]
  },
  {
   "cell_type": "code",
   "execution_count": 79,
   "metadata": {},
   "outputs": [
    {
     "data": {
      "image/png": "[encoded data removed]",
      "text/plain": [
       "<Figure size 1080x576 with 2 Axes>"
      ]
     },
     "metadata": {
      "needs_background": "light"
     },
     "output_type": "display_data"
    }
   ],
   "source": [
    "import matplotlib.pyplot as plt \n",
    "\n",
    "plt.figure(figsize=(15, 8))\n",
    "val = 0\n",
    "\n",
    "# font = {'size': 15}\n",
    "# plt.rc('font', **font)\n",
    "plt.rcParams.update({'font.size': 15, 'font.weight': 'normal'})\n",
    "\n",
    "for idx, i in enumerate(range(n_classes)):\n",
    "    if idx == 162 or idx == 10: \n",
    "        plt.subplot(121+val) \n",
    "        plt.plot(fpr[i], tpr[i], label = f'ROC curve(area = {round(roc_auc[i], 2)}')\n",
    "        plt.plot([0, 1], [0, 1], 'k--')\n",
    "        plt.xlim([0.0, 1.0])\n",
    "        plt.ylim([0.0, 1.05])\n",
    "        plt.xlabel('False Positive Rate', fontsize=18) \n",
    "        plt.ylabel('True Positive Rate', fontsize=18)\n",
    "        plt.title(f'Class {idx}', fontsize=18)\n",
    "        plt.legend(loc='lower right')\n",
    "        val += 1\n",
    "plt.show()"
   ]
  },
  {
   "cell_type": "code",
   "execution_count": 81,
   "metadata": {},
   "outputs": [
    {
     "data": {
      "text/plain": [
       "'자신감저하/느긋'"
      ]
     },
     "execution_count": 81,
     "metadata": {},
     "output_type": "execute_result"
    }
   ],
   "source": [
    "ik_list[162]"
   ]
  },
  {
   "cell_type": "code",
   "execution_count": null,
   "metadata": {},
   "outputs": [],
   "source": []
  }
 ],
 "metadata": {
  "accelerator": "GPU",
  "colab": {
   "authorship_tag": "ABX9TyPD8x6FW4vG0NXoXRHBJD8H",
   "collapsed_sections": [],
   "machine_shape": "hm",
   "mount_file_id": "1e8sLlhMCKkL6-4wvgqN6z1c0CeIA9H6M",
   "name": "Modeling.ipynb",
   "provenance": []
  },
  "gpuClass": "standard",
  "kernelspec": {
   "display_name": "Python 3 (ipykernel)",
   "language": "python",
   "name": "python3"
  },
  "language_info": {
   "codemirror_mode": {
    "name": "ipython",
    "version": 3
   },
   "file_extension": ".py",
   "mimetype": "text/x-python",
   "name": "python",
   "nbconvert_exporter": "python",
   "pygments_lexer": "ipython3",
   "version": "3.7.13"
  }
 },
 "nbformat": 4,
 "nbformat_minor": 1
}
