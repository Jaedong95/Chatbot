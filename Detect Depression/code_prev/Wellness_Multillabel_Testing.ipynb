{
 "cells": [
  {
   "cell_type": "code",
   "execution_count": null,
   "metadata": {
    "colab": {
     "base_uri": "https://localhost:8080/"
    },
    "executionInfo": {
     "elapsed": 27891,
     "status": "ok",
     "timestamp": 1662219917872,
     "user": {
      "displayName": "오재동",
      "userId": "09849167419611092646"
     },
     "user_tz": -540
    },
    "id": "oOYKzUvtQjoK",
    "outputId": "c1d5ec35-f81b-4ef6-f1ba-769b62d2c736"
   },
   "outputs": [
    {
     "name": "stdout",
     "output_type": "stream",
     "text": [
      "Mounted at /content/drive/\n"
     ]
    }
   ],
   "source": [
    "from google.colab import drive\n",
    "\n",
    "drive.mount('/content/drive/')"
   ]
  },
  {
   "cell_type": "code",
   "execution_count": null,
   "metadata": {
    "id": "3zm6ODJBSVp2"
   },
   "outputs": [],
   "source": [
    "!pip install emoji soynlp pytorch_lightning transformers seqeval"
   ]
  },
  {
   "cell_type": "code",
   "execution_count": null,
   "metadata": {
    "id": "8ygfsedERA98"
   },
   "outputs": [],
   "source": [
    "import os \n",
    "import random\n",
    "import torch\n",
    "import numpy as np\n",
    "import pandas as pd \n",
    "import copy \n",
    "import json\n",
    "import argparse \n",
    "import glob \n",
    "\n",
    "from scipy.stats import pearsonr, spearmanr\n",
    "from seqeval import metrics as seqeval_metrics\n",
    "from sklearn import metrics as sklearn_metrics\n",
    "from torch.utils.data import DataLoader, RandomSampler, SequentialSampler\n",
    "from fastprogress.fastprogress import master_bar, progress_bar\n",
    "from transformers import (\n",
    "    AdamW,\n",
    "    get_linear_schedule_with_warmup\n",
    ")\n",
    "from transformers import ( \n",
    "    ElectraConfig,\n",
    "    ElectraForSequenceClassification\n",
    ")\n",
    "from torch import nn\n",
    "from transformers import ElectraTokenizer, ElectraForSequenceClassification\n",
    "from torch.utils.data import TensorDataset"
   ]
  },
  {
   "cell_type": "code",
   "execution_count": null,
   "metadata": {
    "colab": {
     "base_uri": "https://localhost:8080/",
     "height": 424
    },
    "executionInfo": {
     "elapsed": 973,
     "status": "ok",
     "timestamp": 1662222539741,
     "user": {
      "displayName": "오재동",
      "userId": "09849167419611092646"
     },
     "user_tz": -540
    },
    "id": "lboUJ01JRGEK",
    "outputId": "9bf2152f-ed3a-44d1-d762-fbc842aa6d28"
   },
   "outputs": [
    {
     "data": {
      "text/html": [
       "\n",
       "  <div id=\"df-f68c216a-495f-4f5e-bbb3-b75f21563b7d\">\n",
       "    <div class=\"colab-df-container\">\n",
       "      <div>\n",
       "<style scoped>\n",
       "    .dataframe tbody tr th:only-of-type {\n",
       "        vertical-align: middle;\n",
       "    }\n",
       "\n",
       "    .dataframe tbody tr th {\n",
       "        vertical-align: top;\n",
       "    }\n",
       "\n",
       "    .dataframe thead th {\n",
       "        text-align: right;\n",
       "    }\n",
       "</style>\n",
       "<table border=\"1\" class=\"dataframe\">\n",
       "  <thead>\n",
       "    <tr style=\"text-align: right;\">\n",
       "      <th></th>\n",
       "      <th>intent</th>\n",
       "      <th>keyword(임상키워드)</th>\n",
       "      <th>utterance(2차)</th>\n",
       "      <th>intent_label</th>\n",
       "    </tr>\n",
       "  </thead>\n",
       "  <tbody>\n",
       "    <tr>\n",
       "      <th>0</th>\n",
       "      <td>우울감</td>\n",
       "      <td>우울</td>\n",
       "      <td>임신해서 우울해</td>\n",
       "      <td>0</td>\n",
       "    </tr>\n",
       "    <tr>\n",
       "      <th>1</th>\n",
       "      <td>우울감</td>\n",
       "      <td>NaN</td>\n",
       "      <td>아이 가지고 나서 우울해</td>\n",
       "      <td>0</td>\n",
       "    </tr>\n",
       "    <tr>\n",
       "      <th>2</th>\n",
       "      <td>우울감</td>\n",
       "      <td>NaN</td>\n",
       "      <td>아이 가졌는데 기분 하나도 안 좋고 울적해</td>\n",
       "      <td>0</td>\n",
       "    </tr>\n",
       "    <tr>\n",
       "      <th>3</th>\n",
       "      <td>우울감</td>\n",
       "      <td>NaN</td>\n",
       "      <td>임신했는데 남편이 하나도 안 챙겨줘서 우울하다</td>\n",
       "      <td>0</td>\n",
       "    </tr>\n",
       "    <tr>\n",
       "      <th>4</th>\n",
       "      <td>우울감</td>\n",
       "      <td>NaN</td>\n",
       "      <td>진단 결과 안 좋게 나올 것 같아서 우울해</td>\n",
       "      <td>0</td>\n",
       "    </tr>\n",
       "    <tr>\n",
       "      <th>...</th>\n",
       "      <td>...</td>\n",
       "      <td>...</td>\n",
       "      <td>...</td>\n",
       "      <td>...</td>\n",
       "    </tr>\n",
       "    <tr>\n",
       "      <th>19672</th>\n",
       "      <td>불안</td>\n",
       "      <td>NaN</td>\n",
       "      <td>그래도 잠못자고 불안한건 여전해요.</td>\n",
       "      <td>18</td>\n",
       "    </tr>\n",
       "    <tr>\n",
       "      <th>19673</th>\n",
       "      <td>불안</td>\n",
       "      <td>NaN</td>\n",
       "      <td>불안함에 항상 시달리니까 잠도 못잤어요.</td>\n",
       "      <td>18</td>\n",
       "    </tr>\n",
       "    <tr>\n",
       "      <th>19674</th>\n",
       "      <td>불안</td>\n",
       "      <td>NaN</td>\n",
       "      <td>불안하고 초조해서 잠이 안 와.</td>\n",
       "      <td>18</td>\n",
       "    </tr>\n",
       "    <tr>\n",
       "      <th>19675</th>\n",
       "      <td>불안</td>\n",
       "      <td>NaN</td>\n",
       "      <td>너무 불안하니까 밤만 되면 잠이 안 오고 너무 초조해.</td>\n",
       "      <td>18</td>\n",
       "    </tr>\n",
       "    <tr>\n",
       "      <th>19676</th>\n",
       "      <td>불안</td>\n",
       "      <td>NaN</td>\n",
       "      <td>불안해서 그런지 요즘 잠도 잘 안 와서 너무 힘들어요.</td>\n",
       "      <td>18</td>\n",
       "    </tr>\n",
       "  </tbody>\n",
       "</table>\n",
       "<p>19677 rows × 4 columns</p>\n",
       "</div>\n",
       "      <button class=\"colab-df-convert\" onclick=\"convertToInteractive('df-f68c216a-495f-4f5e-bbb3-b75f21563b7d')\"\n",
       "              title=\"Convert this dataframe to an interactive table.\"\n",
       "              style=\"display:none;\">\n",
       "        \n",
       "  <svg xmlns=\"http://www.w3.org/2000/svg\" height=\"24px\"viewBox=\"0 0 24 24\"\n",
       "       width=\"24px\">\n",
       "    <path d=\"M0 0h24v24H0V0z\" fill=\"none\"/>\n",
       "    <path d=\"M18.56 5.44l.94 2.06.94-2.06 2.06-.94-2.06-.94-.94-2.06-.94 2.06-2.06.94zm-11 1L8.5 8.5l.94-2.06 2.06-.94-2.06-.94L8.5 2.5l-.94 2.06-2.06.94zm10 10l.94 2.06.94-2.06 2.06-.94-2.06-.94-.94-2.06-.94 2.06-2.06.94z\"/><path d=\"M17.41 7.96l-1.37-1.37c-.4-.4-.92-.59-1.43-.59-.52 0-1.04.2-1.43.59L10.3 9.45l-7.72 7.72c-.78.78-.78 2.05 0 2.83L4 21.41c.39.39.9.59 1.41.59.51 0 1.02-.2 1.41-.59l7.78-7.78 2.81-2.81c.8-.78.8-2.07 0-2.86zM5.41 20L4 18.59l7.72-7.72 1.47 1.35L5.41 20z\"/>\n",
       "  </svg>\n",
       "      </button>\n",
       "      \n",
       "  <style>\n",
       "    .colab-df-container {\n",
       "      display:flex;\n",
       "      flex-wrap:wrap;\n",
       "      gap: 12px;\n",
       "    }\n",
       "\n",
       "    .colab-df-convert {\n",
       "      background-color: #E8F0FE;\n",
       "      border: none;\n",
       "      border-radius: 50%;\n",
       "      cursor: pointer;\n",
       "      display: none;\n",
       "      fill: #1967D2;\n",
       "      height: 32px;\n",
       "      padding: 0 0 0 0;\n",
       "      width: 32px;\n",
       "    }\n",
       "\n",
       "    .colab-df-convert:hover {\n",
       "      background-color: #E2EBFA;\n",
       "      box-shadow: 0px 1px 2px rgba(60, 64, 67, 0.3), 0px 1px 3px 1px rgba(60, 64, 67, 0.15);\n",
       "      fill: #174EA6;\n",
       "    }\n",
       "\n",
       "    [theme=dark] .colab-df-convert {\n",
       "      background-color: #3B4455;\n",
       "      fill: #D2E3FC;\n",
       "    }\n",
       "\n",
       "    [theme=dark] .colab-df-convert:hover {\n",
       "      background-color: #434B5C;\n",
       "      box-shadow: 0px 1px 3px 1px rgba(0, 0, 0, 0.15);\n",
       "      filter: drop-shadow(0px 1px 2px rgba(0, 0, 0, 0.3));\n",
       "      fill: #FFFFFF;\n",
       "    }\n",
       "  </style>\n",
       "\n",
       "      <script>\n",
       "        const buttonEl =\n",
       "          document.querySelector('#df-f68c216a-495f-4f5e-bbb3-b75f21563b7d button.colab-df-convert');\n",
       "        buttonEl.style.display =\n",
       "          google.colab.kernel.accessAllowed ? 'block' : 'none';\n",
       "\n",
       "        async function convertToInteractive(key) {\n",
       "          const element = document.querySelector('#df-f68c216a-495f-4f5e-bbb3-b75f21563b7d');\n",
       "          const dataTable =\n",
       "            await google.colab.kernel.invokeFunction('convertToInteractive',\n",
       "                                                     [key], {});\n",
       "          if (!dataTable) return;\n",
       "\n",
       "          const docLinkHtml = 'Like what you see? Visit the ' +\n",
       "            '<a target=\"_blank\" href=https://colab.research.google.com/notebooks/data_table.ipynb>data table notebook</a>'\n",
       "            + ' to learn more about interactive tables.';\n",
       "          element.innerHTML = '';\n",
       "          dataTable['output_type'] = 'display_data';\n",
       "          await google.colab.output.renderOutput(dataTable, element);\n",
       "          const docLink = document.createElement('div');\n",
       "          docLink.innerHTML = docLinkHtml;\n",
       "          element.appendChild(docLink);\n",
       "        }\n",
       "      </script>\n",
       "    </div>\n",
       "  </div>\n",
       "  "
      ],
      "text/plain": [
       "      intent keyword(임상키워드)                  utterance(2차)   intent_label\n",
       "0        우울감             우울                        임신해서 우울해             0\n",
       "1        우울감            NaN                   아이 가지고 나서 우울해             0\n",
       "2        우울감            NaN         아이 가졌는데 기분 하나도 안 좋고 울적해             0\n",
       "3        우울감            NaN       임신했는데 남편이 하나도 안 챙겨줘서 우울하다             0\n",
       "4        우울감            NaN        진단 결과 안 좋게 나올 것 같아서 우울해              0\n",
       "...      ...            ...                             ...           ...\n",
       "19672     불안            NaN             그래도 잠못자고 불안한건 여전해요.            18\n",
       "19673     불안            NaN          불안함에 항상 시달리니까 잠도 못잤어요.            18\n",
       "19674     불안            NaN               불안하고 초조해서 잠이 안 와.            18\n",
       "19675     불안            NaN  너무 불안하니까 밤만 되면 잠이 안 오고 너무 초조해.            18\n",
       "19676     불안            NaN  불안해서 그런지 요즘 잠도 잘 안 와서 너무 힘들어요.            18\n",
       "\n",
       "[19677 rows x 4 columns]"
      ]
     },
     "execution_count": 4,
     "metadata": {},
     "output_type": "execute_result"
    }
   ],
   "source": [
    "data = pd.read_csv('/content/drive/MyDrive/LAMDA/chatbot/dataset/Wellness_Conversation_intent.csv')\n",
    "data"
   ]
  },
  {
   "cell_type": "code",
   "execution_count": null,
   "metadata": {
    "colab": {
     "base_uri": "https://localhost:8080/"
    },
    "executionInfo": {
     "elapsed": 11,
     "status": "ok",
     "timestamp": 1662222539742,
     "user": {
      "displayName": "오재동",
      "userId": "09849167419611092646"
     },
     "user_tz": -540
    },
    "id": "6M5yEguRRKJU",
    "outputId": "7db6e287-704f-4bfe-c0f6-4fc32bfff2b0"
   },
   "outputs": [
    {
     "name": "stdout",
     "output_type": "stream",
     "text": [
      "<class 'pandas.core.frame.DataFrame'>\n",
      "RangeIndex: 19677 entries, 0 to 19676\n",
      "Data columns (total 4 columns):\n",
      " #   Column          Non-Null Count  Dtype \n",
      "---  ------          --------------  ----- \n",
      " 0   intent          19677 non-null  object\n",
      " 1   keyword(임상키워드)  1976 non-null   object\n",
      " 2   utterance(2차)   19677 non-null  object\n",
      " 3   intent_label    19677 non-null  int64 \n",
      "dtypes: int64(1), object(3)\n",
      "memory usage: 615.0+ KB\n"
     ]
    }
   ],
   "source": [
    "data.info()"
   ]
  },
  {
   "cell_type": "code",
   "execution_count": null,
   "metadata": {
    "colab": {
     "base_uri": "https://localhost:8080/",
     "height": 81
    },
    "executionInfo": {
     "elapsed": 509,
     "status": "ok",
     "timestamp": 1662222555025,
     "user": {
      "displayName": "오재동",
      "userId": "09849167419611092646"
     },
     "user_tz": -540
    },
    "id": "UcwJ4cm5RMa1",
    "outputId": "3bd849a3-af08-43c6-e6de-4209b576c0d6"
   },
   "outputs": [
    {
     "data": {
      "text/html": [
       "\n",
       "  <div id=\"df-04461074-1051-4528-8efa-041d1b9d9745\">\n",
       "    <div class=\"colab-df-container\">\n",
       "      <div>\n",
       "<style scoped>\n",
       "    .dataframe tbody tr th:only-of-type {\n",
       "        vertical-align: middle;\n",
       "    }\n",
       "\n",
       "    .dataframe tbody tr th {\n",
       "        vertical-align: top;\n",
       "    }\n",
       "\n",
       "    .dataframe thead th {\n",
       "        text-align: right;\n",
       "    }\n",
       "</style>\n",
       "<table border=\"1\" class=\"dataframe\">\n",
       "  <thead>\n",
       "    <tr style=\"text-align: right;\">\n",
       "      <th></th>\n",
       "      <th>count</th>\n",
       "      <th>mean</th>\n",
       "      <th>std</th>\n",
       "      <th>min</th>\n",
       "      <th>25%</th>\n",
       "      <th>50%</th>\n",
       "      <th>75%</th>\n",
       "      <th>max</th>\n",
       "    </tr>\n",
       "  </thead>\n",
       "  <tbody>\n",
       "    <tr>\n",
       "      <th>intent_label</th>\n",
       "      <td>19677.0</td>\n",
       "      <td>8.248361</td>\n",
       "      <td>5.445685</td>\n",
       "      <td>0.0</td>\n",
       "      <td>3.0</td>\n",
       "      <td>9.0</td>\n",
       "      <td>12.0</td>\n",
       "      <td>18.0</td>\n",
       "    </tr>\n",
       "  </tbody>\n",
       "</table>\n",
       "</div>\n",
       "      <button class=\"colab-df-convert\" onclick=\"convertToInteractive('df-04461074-1051-4528-8efa-041d1b9d9745')\"\n",
       "              title=\"Convert this dataframe to an interactive table.\"\n",
       "              style=\"display:none;\">\n",
       "        \n",
       "  <svg xmlns=\"http://www.w3.org/2000/svg\" height=\"24px\"viewBox=\"0 0 24 24\"\n",
       "       width=\"24px\">\n",
       "    <path d=\"M0 0h24v24H0V0z\" fill=\"none\"/>\n",
       "    <path d=\"M18.56 5.44l.94 2.06.94-2.06 2.06-.94-2.06-.94-.94-2.06-.94 2.06-2.06.94zm-11 1L8.5 8.5l.94-2.06 2.06-.94-2.06-.94L8.5 2.5l-.94 2.06-2.06.94zm10 10l.94 2.06.94-2.06 2.06-.94-2.06-.94-.94-2.06-.94 2.06-2.06.94z\"/><path d=\"M17.41 7.96l-1.37-1.37c-.4-.4-.92-.59-1.43-.59-.52 0-1.04.2-1.43.59L10.3 9.45l-7.72 7.72c-.78.78-.78 2.05 0 2.83L4 21.41c.39.39.9.59 1.41.59.51 0 1.02-.2 1.41-.59l7.78-7.78 2.81-2.81c.8-.78.8-2.07 0-2.86zM5.41 20L4 18.59l7.72-7.72 1.47 1.35L5.41 20z\"/>\n",
       "  </svg>\n",
       "      </button>\n",
       "      \n",
       "  <style>\n",
       "    .colab-df-container {\n",
       "      display:flex;\n",
       "      flex-wrap:wrap;\n",
       "      gap: 12px;\n",
       "    }\n",
       "\n",
       "    .colab-df-convert {\n",
       "      background-color: #E8F0FE;\n",
       "      border: none;\n",
       "      border-radius: 50%;\n",
       "      cursor: pointer;\n",
       "      display: none;\n",
       "      fill: #1967D2;\n",
       "      height: 32px;\n",
       "      padding: 0 0 0 0;\n",
       "      width: 32px;\n",
       "    }\n",
       "\n",
       "    .colab-df-convert:hover {\n",
       "      background-color: #E2EBFA;\n",
       "      box-shadow: 0px 1px 2px rgba(60, 64, 67, 0.3), 0px 1px 3px 1px rgba(60, 64, 67, 0.15);\n",
       "      fill: #174EA6;\n",
       "    }\n",
       "\n",
       "    [theme=dark] .colab-df-convert {\n",
       "      background-color: #3B4455;\n",
       "      fill: #D2E3FC;\n",
       "    }\n",
       "\n",
       "    [theme=dark] .colab-df-convert:hover {\n",
       "      background-color: #434B5C;\n",
       "      box-shadow: 0px 1px 3px 1px rgba(0, 0, 0, 0.15);\n",
       "      filter: drop-shadow(0px 1px 2px rgba(0, 0, 0, 0.3));\n",
       "      fill: #FFFFFF;\n",
       "    }\n",
       "  </style>\n",
       "\n",
       "      <script>\n",
       "        const buttonEl =\n",
       "          document.querySelector('#df-04461074-1051-4528-8efa-041d1b9d9745 button.colab-df-convert');\n",
       "        buttonEl.style.display =\n",
       "          google.colab.kernel.accessAllowed ? 'block' : 'none';\n",
       "\n",
       "        async function convertToInteractive(key) {\n",
       "          const element = document.querySelector('#df-04461074-1051-4528-8efa-041d1b9d9745');\n",
       "          const dataTable =\n",
       "            await google.colab.kernel.invokeFunction('convertToInteractive',\n",
       "                                                     [key], {});\n",
       "          if (!dataTable) return;\n",
       "\n",
       "          const docLinkHtml = 'Like what you see? Visit the ' +\n",
       "            '<a target=\"_blank\" href=https://colab.research.google.com/notebooks/data_table.ipynb>data table notebook</a>'\n",
       "            + ' to learn more about interactive tables.';\n",
       "          element.innerHTML = '';\n",
       "          dataTable['output_type'] = 'display_data';\n",
       "          await google.colab.output.renderOutput(dataTable, element);\n",
       "          const docLink = document.createElement('div');\n",
       "          docLink.innerHTML = docLinkHtml;\n",
       "          element.appendChild(docLink);\n",
       "        }\n",
       "      </script>\n",
       "    </div>\n",
       "  </div>\n",
       "  "
      ],
      "text/plain": [
       "                count      mean       std  min  25%  50%   75%   max\n",
       "intent_label  19677.0  8.248361  5.445685  0.0  3.0  9.0  12.0  18.0"
      ]
     },
     "execution_count": 6,
     "metadata": {},
     "output_type": "execute_result"
    }
   ],
   "source": [
    "data.describe().T"
   ]
  },
  {
   "cell_type": "code",
   "execution_count": null,
   "metadata": {
    "colab": {
     "base_uri": "https://localhost:8080/",
     "height": 424
    },
    "executionInfo": {
     "elapsed": 6,
     "status": "ok",
     "timestamp": 1662222555695,
     "user": {
      "displayName": "오재동",
      "userId": "09849167419611092646"
     },
     "user_tz": -540
    },
    "id": "oaf81upBRNjs",
    "outputId": "1f5fe3f0-b659-4ad7-8451-579be29f06a9"
   },
   "outputs": [
    {
     "data": {
      "text/html": [
       "\n",
       "  <div id=\"df-68679808-93d8-408f-9ad7-73e923169f32\">\n",
       "    <div class=\"colab-df-container\">\n",
       "      <div>\n",
       "<style scoped>\n",
       "    .dataframe tbody tr th:only-of-type {\n",
       "        vertical-align: middle;\n",
       "    }\n",
       "\n",
       "    .dataframe tbody tr th {\n",
       "        vertical-align: top;\n",
       "    }\n",
       "\n",
       "    .dataframe thead th {\n",
       "        text-align: right;\n",
       "    }\n",
       "</style>\n",
       "<table border=\"1\" class=\"dataframe\">\n",
       "  <thead>\n",
       "    <tr style=\"text-align: right;\">\n",
       "      <th></th>\n",
       "      <th>intent</th>\n",
       "      <th>comment</th>\n",
       "      <th>intent_label</th>\n",
       "    </tr>\n",
       "  </thead>\n",
       "  <tbody>\n",
       "    <tr>\n",
       "      <th>0</th>\n",
       "      <td>우울감</td>\n",
       "      <td>임신해서 우울해</td>\n",
       "      <td>0</td>\n",
       "    </tr>\n",
       "    <tr>\n",
       "      <th>1</th>\n",
       "      <td>우울감</td>\n",
       "      <td>아이 가지고 나서 우울해</td>\n",
       "      <td>0</td>\n",
       "    </tr>\n",
       "    <tr>\n",
       "      <th>2</th>\n",
       "      <td>우울감</td>\n",
       "      <td>아이 가졌는데 기분 하나도 안 좋고 울적해</td>\n",
       "      <td>0</td>\n",
       "    </tr>\n",
       "    <tr>\n",
       "      <th>3</th>\n",
       "      <td>우울감</td>\n",
       "      <td>임신했는데 남편이 하나도 안 챙겨줘서 우울하다</td>\n",
       "      <td>0</td>\n",
       "    </tr>\n",
       "    <tr>\n",
       "      <th>4</th>\n",
       "      <td>우울감</td>\n",
       "      <td>진단 결과 안 좋게 나올 것 같아서 우울해</td>\n",
       "      <td>0</td>\n",
       "    </tr>\n",
       "    <tr>\n",
       "      <th>...</th>\n",
       "      <td>...</td>\n",
       "      <td>...</td>\n",
       "      <td>...</td>\n",
       "    </tr>\n",
       "    <tr>\n",
       "      <th>19672</th>\n",
       "      <td>불안</td>\n",
       "      <td>그래도 잠못자고 불안한건 여전해요.</td>\n",
       "      <td>18</td>\n",
       "    </tr>\n",
       "    <tr>\n",
       "      <th>19673</th>\n",
       "      <td>불안</td>\n",
       "      <td>불안함에 항상 시달리니까 잠도 못잤어요.</td>\n",
       "      <td>18</td>\n",
       "    </tr>\n",
       "    <tr>\n",
       "      <th>19674</th>\n",
       "      <td>불안</td>\n",
       "      <td>불안하고 초조해서 잠이 안 와.</td>\n",
       "      <td>18</td>\n",
       "    </tr>\n",
       "    <tr>\n",
       "      <th>19675</th>\n",
       "      <td>불안</td>\n",
       "      <td>너무 불안하니까 밤만 되면 잠이 안 오고 너무 초조해.</td>\n",
       "      <td>18</td>\n",
       "    </tr>\n",
       "    <tr>\n",
       "      <th>19676</th>\n",
       "      <td>불안</td>\n",
       "      <td>불안해서 그런지 요즘 잠도 잘 안 와서 너무 힘들어요.</td>\n",
       "      <td>18</td>\n",
       "    </tr>\n",
       "  </tbody>\n",
       "</table>\n",
       "<p>19677 rows × 3 columns</p>\n",
       "</div>\n",
       "      <button class=\"colab-df-convert\" onclick=\"convertToInteractive('df-68679808-93d8-408f-9ad7-73e923169f32')\"\n",
       "              title=\"Convert this dataframe to an interactive table.\"\n",
       "              style=\"display:none;\">\n",
       "        \n",
       "  <svg xmlns=\"http://www.w3.org/2000/svg\" height=\"24px\"viewBox=\"0 0 24 24\"\n",
       "       width=\"24px\">\n",
       "    <path d=\"M0 0h24v24H0V0z\" fill=\"none\"/>\n",
       "    <path d=\"M18.56 5.44l.94 2.06.94-2.06 2.06-.94-2.06-.94-.94-2.06-.94 2.06-2.06.94zm-11 1L8.5 8.5l.94-2.06 2.06-.94-2.06-.94L8.5 2.5l-.94 2.06-2.06.94zm10 10l.94 2.06.94-2.06 2.06-.94-2.06-.94-.94-2.06-.94 2.06-2.06.94z\"/><path d=\"M17.41 7.96l-1.37-1.37c-.4-.4-.92-.59-1.43-.59-.52 0-1.04.2-1.43.59L10.3 9.45l-7.72 7.72c-.78.78-.78 2.05 0 2.83L4 21.41c.39.39.9.59 1.41.59.51 0 1.02-.2 1.41-.59l7.78-7.78 2.81-2.81c.8-.78.8-2.07 0-2.86zM5.41 20L4 18.59l7.72-7.72 1.47 1.35L5.41 20z\"/>\n",
       "  </svg>\n",
       "      </button>\n",
       "      \n",
       "  <style>\n",
       "    .colab-df-container {\n",
       "      display:flex;\n",
       "      flex-wrap:wrap;\n",
       "      gap: 12px;\n",
       "    }\n",
       "\n",
       "    .colab-df-convert {\n",
       "      background-color: #E8F0FE;\n",
       "      border: none;\n",
       "      border-radius: 50%;\n",
       "      cursor: pointer;\n",
       "      display: none;\n",
       "      fill: #1967D2;\n",
       "      height: 32px;\n",
       "      padding: 0 0 0 0;\n",
       "      width: 32px;\n",
       "    }\n",
       "\n",
       "    .colab-df-convert:hover {\n",
       "      background-color: #E2EBFA;\n",
       "      box-shadow: 0px 1px 2px rgba(60, 64, 67, 0.3), 0px 1px 3px 1px rgba(60, 64, 67, 0.15);\n",
       "      fill: #174EA6;\n",
       "    }\n",
       "\n",
       "    [theme=dark] .colab-df-convert {\n",
       "      background-color: #3B4455;\n",
       "      fill: #D2E3FC;\n",
       "    }\n",
       "\n",
       "    [theme=dark] .colab-df-convert:hover {\n",
       "      background-color: #434B5C;\n",
       "      box-shadow: 0px 1px 3px 1px rgba(0, 0, 0, 0.15);\n",
       "      filter: drop-shadow(0px 1px 2px rgba(0, 0, 0, 0.3));\n",
       "      fill: #FFFFFF;\n",
       "    }\n",
       "  </style>\n",
       "\n",
       "      <script>\n",
       "        const buttonEl =\n",
       "          document.querySelector('#df-68679808-93d8-408f-9ad7-73e923169f32 button.colab-df-convert');\n",
       "        buttonEl.style.display =\n",
       "          google.colab.kernel.accessAllowed ? 'block' : 'none';\n",
       "\n",
       "        async function convertToInteractive(key) {\n",
       "          const element = document.querySelector('#df-68679808-93d8-408f-9ad7-73e923169f32');\n",
       "          const dataTable =\n",
       "            await google.colab.kernel.invokeFunction('convertToInteractive',\n",
       "                                                     [key], {});\n",
       "          if (!dataTable) return;\n",
       "\n",
       "          const docLinkHtml = 'Like what you see? Visit the ' +\n",
       "            '<a target=\"_blank\" href=https://colab.research.google.com/notebooks/data_table.ipynb>data table notebook</a>'\n",
       "            + ' to learn more about interactive tables.';\n",
       "          element.innerHTML = '';\n",
       "          dataTable['output_type'] = 'display_data';\n",
       "          await google.colab.output.renderOutput(dataTable, element);\n",
       "          const docLink = document.createElement('div');\n",
       "          docLink.innerHTML = docLinkHtml;\n",
       "          element.appendChild(docLink);\n",
       "        }\n",
       "      </script>\n",
       "    </div>\n",
       "  </div>\n",
       "  "
      ],
      "text/plain": [
       "      intent                         comment  intent_label\n",
       "0        우울감                        임신해서 우울해             0\n",
       "1        우울감                   아이 가지고 나서 우울해             0\n",
       "2        우울감         아이 가졌는데 기분 하나도 안 좋고 울적해             0\n",
       "3        우울감       임신했는데 남편이 하나도 안 챙겨줘서 우울하다             0\n",
       "4        우울감        진단 결과 안 좋게 나올 것 같아서 우울해              0\n",
       "...      ...                             ...           ...\n",
       "19672     불안             그래도 잠못자고 불안한건 여전해요.            18\n",
       "19673     불안          불안함에 항상 시달리니까 잠도 못잤어요.            18\n",
       "19674     불안               불안하고 초조해서 잠이 안 와.            18\n",
       "19675     불안  너무 불안하니까 밤만 되면 잠이 안 오고 너무 초조해.            18\n",
       "19676     불안  불안해서 그런지 요즘 잠도 잘 안 와서 너무 힘들어요.            18\n",
       "\n",
       "[19677 rows x 3 columns]"
      ]
     },
     "execution_count": 7,
     "metadata": {},
     "output_type": "execute_result"
    }
   ],
   "source": [
    "data = data[['intent', 'utterance(2차) ', 'intent_label']]\n",
    "data.columns = ['intent', 'comment', 'intent_label'] \n",
    "data"
   ]
  },
  {
   "cell_type": "code",
   "execution_count": null,
   "metadata": {
    "colab": {
     "base_uri": "https://localhost:8080/"
    },
    "executionInfo": {
     "elapsed": 4,
     "status": "ok",
     "timestamp": 1662222556789,
     "user": {
      "displayName": "오재동",
      "userId": "09849167419611092646"
     },
     "user_tz": -540
    },
    "id": "_hC1336QRvb_",
    "outputId": "2d474814-120a-4cc6-816d-4923ebdc6eb8"
   },
   "outputs": [
    {
     "data": {
      "text/plain": [
       "{'train_file': '/content/drive/MyDrive/LAMDA/chatbot/dataset/Wellness_Conversation_intent_train.tsv',\n",
       " 'test_file': '/content/drive/MyDrive/LAMDA/chatbot/dataset/Wellness_Conversation_intent_test.tsv',\n",
       " 'dev_file': '',\n",
       " 'evaluate_test_during_training': True,\n",
       " 'eval_all_checkpoints': True,\n",
       " 'save_optimizer': False,\n",
       " 'do_lower_case': False,\n",
       " 'do_train': True,\n",
       " 'do_eval': True,\n",
       " 'max_grad_norm': 1,\n",
       " 'no_cuda': False,\n",
       " 'model_type': 'koelectra-base',\n",
       " 'model_name_or_path': 'monologg/koelectra-base-discriminator',\n",
       " 'output_dir': 'koelectra-base-wellness-ckpt',\n",
       " 'weight_decay': 0,\n",
       " 'gradient_accumulation_steps': 1,\n",
       " 'adam_epsilon': 1e-08,\n",
       " 'warmup_proportion': 0,\n",
       " 'num_labels': 19,\n",
       " 'max_seq_len': 128,\n",
       " 'num_train_epochs': 50,\n",
       " 'max_steps': -1,\n",
       " 'seed': 42,\n",
       " 'train_batch_size': 32,\n",
       " 'eval_batch_size': 128,\n",
       " 'logging_steps': 2000,\n",
       " 'save_steps': 2000,\n",
       " 'learning_rate': 5e-05}"
      ]
     },
     "execution_count": 8,
     "metadata": {},
     "output_type": "execute_result"
    }
   ],
   "source": [
    "config = {} \n",
    "\n",
    "config['train_file'] = '/content/drive/MyDrive/LAMDA/chatbot/dataset/Wellness_Conversation_intent_train.tsv'   #\n",
    "config['test_file'] = '/content/drive/MyDrive/LAMDA/chatbot/dataset/Wellness_Conversation_intent_test.tsv' \n",
    "config['dev_file'] = ''\n",
    "config['evaluate_test_during_training'] = True \n",
    "config['eval_all_checkpoints'] = True\n",
    "config['save_optimizer'] = False \n",
    "config['do_lower_case'] = False \n",
    "config['do_train'] = True \n",
    "config['do_eval'] = True \n",
    "config['max_grad_norm'] = 1 \n",
    "config['no_cuda'] = False \n",
    "config['model_type'] = \"koelectra-base\"\n",
    "config['model_name_or_path'] = \"monologg/koelectra-base-discriminator\"\n",
    "config['output_dir'] = \"koelectra-base-wellness-ckpt\"\n",
    "config['weight_decay'] = 0 \n",
    "config['gradient_accumulation_steps'] = 1\n",
    "config['adam_epsilon'] = 1e-8 \n",
    "config['warmup_proportion'] = 0\n",
    "config['num_labels'] = 19 \n",
    "\n",
    "config['max_seq_len'] = 128 \n",
    "config['num_train_epochs'] = 50 \n",
    "config['max_steps'] = -1 \n",
    "config['seed'] = 42 \n",
    "config['train_batch_size'] = 32 \n",
    "config['eval_batch_size'] = 128\n",
    "config['logging_steps'] = 2000\n",
    "config['save_steps'] = 2000\n",
    "config['learning_rate'] = 5e-5 \n",
    "config"
   ]
  },
  {
   "cell_type": "code",
   "execution_count": null,
   "metadata": {
    "id": "ASPB4NvVSmEE"
   },
   "outputs": [],
   "source": [
    "class InputExample(object):\n",
    "    \"\"\"\n",
    "    A single training/test example for simple sequence classification.\n",
    "    \"\"\"\n",
    "    def __init__(self, guid, text_a, text_b):\n",
    "        self.guid = guid\n",
    "        self.text_a = text_a\n",
    "        self.text_b = text_b\n",
    "\n",
    "    def __repr__(self):\n",
    "        return str(self.to_json_string())\n",
    "\n",
    "    def to_dict(self):\n",
    "        \"\"\"Serializes this instance to a Python dictionary.\"\"\"\n",
    "        output = copy.deepcopy(self.__dict__)\n",
    "        return output\n",
    "\n",
    "    def to_json_string(self):\n",
    "        \"\"\"Serializes this instance to a JSON string.\"\"\"\n",
    "        return json.dumps(self.to_dict(), indent=2, sort_keys=True) + \"\\n\""
   ]
  },
  {
   "cell_type": "code",
   "execution_count": null,
   "metadata": {
    "id": "51vfH6nBS9BT"
   },
   "outputs": [],
   "source": [
    "class InputFeatures(object):\n",
    "    \"\"\"A single set of features of data.\"\"\"\n",
    "\n",
    "    def __init__(self, input_ids, attention_mask, token_type_ids):\n",
    "        self.input_ids = input_ids\n",
    "        self.attention_mask = attention_mask\n",
    "        self.token_type_ids = token_type_ids\n",
    "\n",
    "    def __repr__(self):\n",
    "        return str(self.to_json_string())\n",
    "\n",
    "    def to_dict(self):\n",
    "        \"\"\"Serializes this instance to a Python dictionary.\"\"\"\n",
    "        output = copy.deepcopy(self.__dict__)\n",
    "        return output\n",
    "\n",
    "    def to_json_string(self):\n",
    "        \"\"\"Serializes this instance to a JSON string.\"\"\"\n",
    "        return json.dumps(self.to_dict(), indent=2, sort_keys=True) + \"\\n\""
   ]
  },
  {
   "cell_type": "code",
   "execution_count": null,
   "metadata": {
    "id": "u1QJBk6asD2s"
   },
   "outputs": [],
   "source": [
    "def get_examples(mode, comments):\n",
    "  examples = []\n",
    "\n",
    "  for idx, comment in comments: \n",
    "    guid = \"%s-%s\" % (mode, idx)\n",
    "    text_a = comment\n",
    "    examples.append(InputExample(guid=guid, text_a=text_a, text_b=None, label=label))\n",
    "\n",
    "  return examples"
   ]
  },
  {
   "cell_type": "code",
   "execution_count": null,
   "metadata": {
    "id": "g97NiLMMTAfH"
   },
   "outputs": [],
   "source": [
    "def convert_examples_to_features(args, examples, tokenizer, max_length, task):\n",
    "    batch_encoding = tokenizer.batch_encode_plus(\n",
    "        [(example.text_a, example.text_b) for example in examples],\n",
    "        max_length=max_length,\n",
    "        padding=\"max_length\",\n",
    "        add_special_tokens=True,\n",
    "        truncation=True,\n",
    "    )\n",
    "    \n",
    "    features = []\n",
    "    for i in range(len(examples)):\n",
    "        inputs = {k: batch_encoding[k][i] for k in batch_encoding}\n",
    "        if \"token_type_ids\" not in inputs:\n",
    "            inputs[\"token_type_ids\"] = [0] * len(inputs[\"input_ids\"])  # For xlm-roberta\n",
    "        feature = InputFeatures(**inputs)\n",
    "        features.append(feature)\n",
    "    return features"
   ]
  },
  {
   "cell_type": "code",
   "execution_count": null,
   "metadata": {
    "id": "jvwV6REas07r"
   },
   "outputs": [],
   "source": [
    "def create_dataset(args, features, tokenizer): \n",
    "  all_input_ids = torch.tensor([f.input_ids for f in features], dtype=torch.long)\n",
    "  all_attention_mask = torch.tensor([f.attention_mask for f in features], dtype=torch.long)\n",
    "  all_token_type_ids = torch.tensor([f.token_type_ids for f in features], dtype=torch.long)\n",
    "\n",
    "  dataset = TensorDataset(all_input_ids, all_attention_mask, all_token_type_ids)\n",
    "  return dataset "
   ]
  },
  {
   "cell_type": "code",
   "execution_count": null,
   "metadata": {
    "colab": {
     "base_uri": "https://localhost:8080/"
    },
    "executionInfo": {
     "elapsed": 5,
     "status": "ok",
     "timestamp": 1662231618129,
     "user": {
      "displayName": "오재동",
      "userId": "09849167419611092646"
     },
     "user_tz": -540
    },
    "id": "RexpoIOEuVrP",
    "outputId": "b4197d75-efb3-4f74-ea61-f88a42332915"
   },
   "outputs": [
    {
     "data": {
      "text/plain": [
       "[0, 1, 2, 3, 4, 5, 6, 7, 8, 9, 10, 11, 12, 13, 14, 15, 16, 17, 18]"
      ]
     },
     "execution_count": 115,
     "metadata": {},
     "output_type": "execute_result"
    }
   ],
   "source": [
    "labels = list(range(19))\n",
    "labels"
   ]
  },
  {
   "cell_type": "code",
   "execution_count": null,
   "metadata": {
    "id": "FeboVeUJTI9k"
   },
   "outputs": [],
   "source": [
    "config2 = ElectraConfig.from_pretrained(   # ElectraConfig.from_pretrained\n",
    "        config['model_name_or_path'],\n",
    "        num_labels = 19,   # args.task: wellness, num_labels = 19 \n",
    "        id2label={str(i): label for i, label in enumerate(labels)},   # labels: ['0', '1', '2', ... ,'18']\n",
    "        label2id={label: i for i, label in enumerate(labels)},\n",
    ")\n",
    "\n",
    "# config2"
   ]
  },
  {
   "cell_type": "code",
   "execution_count": null,
   "metadata": {
    "colab": {
     "base_uri": "https://localhost:8080/"
    },
    "executionInfo": {
     "elapsed": 2924,
     "status": "ok",
     "timestamp": 1662231630657,
     "user": {
      "displayName": "오재동",
      "userId": "09849167419611092646"
     },
     "user_tz": -540
    },
    "id": "t-1CGBA4TK9v",
    "outputId": "fba6eeb5-9d89-404c-bee4-31fe1a4be079"
   },
   "outputs": [
    {
     "name": "stderr",
     "output_type": "stream",
     "text": [
      "Some weights of the model checkpoint at monologg/koelectra-base-discriminator were not used when initializing ElectraForSequenceClassification: ['discriminator_predictions.dense.weight', 'discriminator_predictions.dense_prediction.weight', 'discriminator_predictions.dense.bias', 'discriminator_predictions.dense_prediction.bias']\n",
      "- This IS expected if you are initializing ElectraForSequenceClassification from the checkpoint of a model trained on another task or with another architecture (e.g. initializing a BertForSequenceClassification model from a BertForPreTraining model).\n",
      "- This IS NOT expected if you are initializing ElectraForSequenceClassification from the checkpoint of a model that you expect to be exactly identical (initializing a BertForSequenceClassification model from a BertForSequenceClassification model).\n",
      "Some weights of ElectraForSequenceClassification were not initialized from the model checkpoint at monologg/koelectra-base-discriminator and are newly initialized: ['classifier.dense.weight', 'classifier.out_proj.bias', 'classifier.dense.bias', 'classifier.out_proj.weight']\n",
      "You should probably TRAIN this model on a down-stream task to be able to use it for predictions and inference.\n"
     ]
    }
   ],
   "source": [
    "tokenizer = ElectraTokenizer.from_pretrained(   # model_type: koelectra-base, ElectraTokenizer \n",
    "    config['model_name_or_path'],\n",
    "    do_lower_case = config['do_lower_case'],\n",
    ")\n",
    "\n",
    "model = ElectraForSequenceClassification.from_pretrained(\n",
    "    config['model_name_or_path'],\n",
    "    config=config2\n",
    ")"
   ]
  },
  {
   "cell_type": "code",
   "execution_count": null,
   "metadata": {
    "id": "CPgGPOA0TM7T"
   },
   "outputs": [],
   "source": [
    "config['device'] = \"cuda\" if torch.cuda.is_available() and not config['no_cuda'] else \"cpu\"\n",
    "model.to(config['device'])"
   ]
  },
  {
   "cell_type": "code",
   "execution_count": null,
   "metadata": {
    "id": "HsV1y1AJTPQj"
   },
   "outputs": [],
   "source": [
    "model_path = '/content/drive/MyDrive/LAMDA/chatbot/dataset/'\n",
    "model_name = 'KoELECTRA_intent.pt'"
   ]
  },
  {
   "cell_type": "code",
   "execution_count": null,
   "metadata": {
    "colab": {
     "base_uri": "https://localhost:8080/"
    },
    "executionInfo": {
     "elapsed": 740,
     "status": "ok",
     "timestamp": 1662231651414,
     "user": {
      "displayName": "오재동",
      "userId": "09849167419611092646"
     },
     "user_tz": -540
    },
    "id": "LAVlxcOyTUZv",
    "outputId": "4b6c71c7-ed5d-4d2d-98e9-2a62c3816b44"
   },
   "outputs": [
    {
     "data": {
      "text/plain": [
       "<All keys matched successfully>"
      ]
     },
     "execution_count": 120,
     "metadata": {},
     "output_type": "execute_result"
    }
   ],
   "source": [
    "model.load_state_dict(torch.load(os.path.join(model_path, model_name)))"
   ]
  },
  {
   "cell_type": "code",
   "execution_count": null,
   "metadata": {
    "id": "UvAauYK1zDtK"
   },
   "outputs": [],
   "source": [
    "model"
   ]
  },
  {
   "cell_type": "code",
   "execution_count": null,
   "metadata": {
    "colab": {
     "base_uri": "https://localhost:8080/"
    },
    "executionInfo": {
     "elapsed": 317,
     "status": "ok",
     "timestamp": 1662230825750,
     "user": {
      "displayName": "오재동",
      "userId": "09849167419611092646"
     },
     "user_tz": -540
    },
    "id": "FnhiQC1QMOgO",
    "outputId": "9236252a-d427-4f48-868b-5573e1947f92"
   },
   "outputs": [
    {
     "data": {
      "text/plain": [
       "array(['우울감', '슬픔', '외로움', '분노', '무기력', '감정조절이상', '상실감', '식욕저하', '식욕증가',\n",
       "       '불면', '초조함', '피로', '죄책감', '집중력저하', '자신감저하', '자존감저하', '절망감', '자살충동',\n",
       "       '불안'], dtype=object)"
      ]
     },
     "execution_count": 100,
     "metadata": {},
     "output_type": "execute_result"
    }
   ],
   "source": [
    "data.intent.unique()"
   ]
  },
  {
   "cell_type": "code",
   "execution_count": null,
   "metadata": {
    "id": "B67imGY1qOsu"
   },
   "outputs": [],
   "source": [
    "def get_idx(logits):\n",
    "  '''\n",
    "  총합이 1인 Softmax 배열을 입력으로 받아 임계값을 넘는 label idx를 반환하는 함수 \n",
    "  '''\n",
    "  threshold = 0.3\n",
    "  idx_list = [] \n",
    "  for idx, prob in enumerate(list(logits)): \n",
    "    if prob > threshold: \n",
    "      idx_list.append(idx)\n",
    "  \n",
    "  return idx_list"
   ]
  },
  {
   "cell_type": "code",
   "execution_count": null,
   "metadata": {
    "id": "lB7pYHXDUCHP"
   },
   "outputs": [],
   "source": [
    "def get_multi_label(args, model, test_dataset):\n",
    "    results = {}\n",
    "    test_sampler = SequentialSampler(test_dataset)\n",
    "    test_dataloader = DataLoader(test_dataset, sampler=test_sampler, batch_size=args['eval_batch_size'])\n",
    "\n",
    "    preds = None\n",
    "    for batch in progress_bar(test_dataloader):\n",
    "        model.eval()\n",
    "        batch = tuple(t.to(args['device']) for t in batch)   # args.device: cuda \n",
    "\n",
    "        with torch.no_grad():\n",
    "            inputs = {\n",
    "                \"input_ids\": batch[0],\n",
    "                \"attention_mask\": batch[1],\n",
    "                \"token_type_ids\": batch[2], \n",
    "            }\n",
    "            outputs = model(**inputs)\n",
    "            logits = outputs[:1]  \n",
    "            # print(logits[0])\n",
    "            m = torch.nn.functional.softmax(logits[0], dim=-1)\n",
    "            # print(m)  # [[19개의 확률 값], [19개의 확률 값], ... [19개의 확률 값]]\n",
    "        if preds is None:   # 초기 \n",
    "            preds = m.detach().cpu().numpy()   # 예측 확률 \n",
    "        else:\n",
    "            preds = np.append(preds, m.detach().cpu().numpy(), axis=0)  \n",
    "    # print(preds)\n",
    "    print(get_idx(preds[0]), get_idx(preds[1]), get_idx(preds[2]))      \n",
    "    return preds"
   ]
  },
  {
   "cell_type": "code",
   "execution_count": null,
   "metadata": {
    "id": "4oDTQeUukjet"
   },
   "outputs": [],
   "source": [
    "class testExample(object):\n",
    "    \"\"\"\n",
    "    A single training/test example for simple sequence classification.\n",
    "    \"\"\"\n",
    "    def __init__(self, guid, text_a, text_b):\n",
    "        self.guid = guid\n",
    "        self.text_a = text_a\n",
    "        self.text_b = text_b\n",
    "\n",
    "    def __repr__(self):\n",
    "        return str(self.to_json_string())\n",
    "\n",
    "    def to_dict(self):\n",
    "        \"\"\"Serializes this instance to a Python dictionary.\"\"\"\n",
    "        output = copy.deepcopy(self.__dict__)\n",
    "        return output\n",
    "\n",
    "    def to_json_string(self):\n",
    "        \"\"\"Serializes this instance to a JSON string.\"\"\"\n",
    "        return json.dumps(self.to_dict(), indent=2, sort_keys=True) + \"\\n\""
   ]
  },
  {
   "cell_type": "code",
   "execution_count": null,
   "metadata": {
    "id": "goY85BupXAcK"
   },
   "outputs": [],
   "source": [
    "comments = ['요즘 너무 불안해서 그런가 잠도 잘 안 오고 우울해', '오늘 학교에서 엄청 안 좋은 일이 있었어, 그리고 지금은 좀 초조해', '왜 이렇게 집중 안되고 슬프지']"
   ]
  },
  {
   "cell_type": "code",
   "execution_count": null,
   "metadata": {
    "id": "W3_qPaZAXFzx"
   },
   "outputs": [],
   "source": [
    "examples = []\n",
    "for (i, line) in enumerate(comments):\n",
    "    guid = \"%s-%s\" % (\"test\", i)\n",
    "    text_a = comments[i]\n",
    "    examples.append(testExample(guid=guid, text_a=text_a, text_b=None))"
   ]
  },
  {
   "cell_type": "code",
   "execution_count": null,
   "metadata": {
    "colab": {
     "base_uri": "https://localhost:8080/"
    },
    "executionInfo": {
     "elapsed": 11,
     "status": "ok",
     "timestamp": 1662233219875,
     "user": {
      "displayName": "오재동",
      "userId": "09849167419611092646"
     },
     "user_tz": -540
    },
    "id": "x3eWbNJVgEK3",
    "outputId": "c4115c4d-0c9e-4223-8241-e07033608e94"
   },
   "outputs": [
    {
     "data": {
      "text/plain": [
       "[{\n",
       "   \"guid\": \"test-0\",\n",
       "   \"text_a\": \"\\uc694\\uc998 \\ub108\\ubb34 \\ubd88\\uc548\\ud574\\uc11c \\uadf8\\ub7f0\\uac00 \\uc7a0\\ub3c4 \\uc798 \\uc548 \\uc624\\uace0 \\uc6b0\\uc6b8\\ud574\",\n",
       "   \"text_b\": null\n",
       " }, {\n",
       "   \"guid\": \"test-1\",\n",
       "   \"text_a\": \"\\uc624\\ub298 \\ud559\\uad50\\uc5d0\\uc11c \\uc5c4\\uccad \\uc548 \\uc88b\\uc740 \\uc77c\\uc774 \\uc788\\uc5c8\\uc5b4, \\uadf8\\ub9ac\\uace0 \\uc9c0\\uae08\\uc740 \\uc880 \\ucd08\\uc870\\ud574\",\n",
       "   \"text_b\": null\n",
       " }, {\n",
       "   \"guid\": \"test-2\",\n",
       "   \"text_a\": \"\\uc65c \\uc774\\ub807\\uac8c \\uc9d1\\uc911 \\uc548\\ub418\\uace0 \\uc2ac\\ud504\\uc9c0\",\n",
       "   \"text_b\": null\n",
       " }]"
      ]
     },
     "execution_count": 349,
     "metadata": {},
     "output_type": "execute_result"
    }
   ],
   "source": [
    "examples"
   ]
  },
  {
   "cell_type": "code",
   "execution_count": null,
   "metadata": {
    "id": "lfAcleIGgftP"
   },
   "outputs": [],
   "source": [
    "features = convert_examples_to_features(\n",
    "            config, examples, tokenizer, max_length=config['max_seq_len'], task='wellness'\n",
    "      )"
   ]
  },
  {
   "cell_type": "code",
   "execution_count": null,
   "metadata": {
    "colab": {
     "base_uri": "https://localhost:8080/"
    },
    "executionInfo": {
     "elapsed": 9,
     "status": "ok",
     "timestamp": 1662233220248,
     "user": {
      "displayName": "오재동",
      "userId": "09849167419611092646"
     },
     "user_tz": -540
    },
    "id": "whsnaNB2j8-o",
    "outputId": "ba015344-ec1c-41fe-c79d-ade55feb6d9d"
   },
   "outputs": [
    {
     "data": {
      "text/plain": [
       "<torch.utils.data.dataset.TensorDataset at 0x7f8511721690>"
      ]
     },
     "execution_count": 351,
     "metadata": {},
     "output_type": "execute_result"
    }
   ],
   "source": [
    "# Convert to Tensors and build dataset\n",
    "all_input_ids = torch.tensor([f.input_ids for f in features], dtype=torch.long)\n",
    "all_attention_mask = torch.tensor([f.attention_mask for f in features], dtype=torch.long)\n",
    "all_token_type_ids = torch.tensor([f.token_type_ids for f in features], dtype=torch.long)\n",
    "\n",
    "test_dataset = TensorDataset(all_input_ids, all_attention_mask, all_token_type_ids)\n",
    "test_dataset"
   ]
  },
  {
   "cell_type": "code",
   "execution_count": null,
   "metadata": {
    "colab": {
     "base_uri": "https://localhost:8080/",
     "height": 54
    },
    "executionInfo": {
     "elapsed": 8,
     "status": "ok",
     "timestamp": 1662233220571,
     "user": {
      "displayName": "오재동",
      "userId": "09849167419611092646"
     },
     "user_tz": -540
    },
    "id": "DgzIfa7QkWHE",
    "outputId": "e063dc8f-73ae-4faa-d5b4-f168c308706f"
   },
   "outputs": [
    {
     "data": {
      "text/html": [
       "\n",
       "<style>\n",
       "    /* Turns off some styling */\n",
       "    progress {\n",
       "        /* gets rid of default border in Firefox and Opera. */\n",
       "        border: none;\n",
       "        /* Needs to be in here for Safari polyfill so background images work as expected. */\n",
       "        background-size: auto;\n",
       "    }\n",
       "    progress:not([value]), progress:not([value])::-webkit-progress-bar {\n",
       "        background: repeating-linear-gradient(45deg, #7e7e7e, #7e7e7e 10px, #5c5c5c 10px, #5c5c5c 20px);\n",
       "    }\n",
       "    .progress-bar-interrupted, .progress-bar-interrupted::-webkit-progress-bar {\n",
       "        background: #F44336;\n",
       "    }\n",
       "</style>\n"
      ],
      "text/plain": [
       "<IPython.core.display.HTML object>"
      ]
     },
     "metadata": {},
     "output_type": "display_data"
    },
    {
     "data": {
      "text/html": [
       "\n",
       "    <div>\n",
       "      <progress value='1' class='' max='1' style='width:300px; height:20px; vertical-align: middle;'></progress>\n",
       "      100.00% [1/1 00:00&lt;00:00]\n",
       "    </div>\n",
       "    "
      ],
      "text/plain": [
       "<IPython.core.display.HTML object>"
      ]
     },
     "metadata": {},
     "output_type": "display_data"
    },
    {
     "name": "stdout",
     "output_type": "stream",
     "text": [
      "[0, 18] [10] [0, 1]\n"
     ]
    }
   ],
   "source": [
    "y_pred = get_multi_label(config, model, test_dataset)"
   ]
  },
  {
   "cell_type": "code",
   "execution_count": null,
   "metadata": {
    "id": "j5G_8x5rwHpj"
   },
   "outputs": [],
   "source": []
  }
 ],
 "metadata": {
  "accelerator": "GPU",
  "colab": {
   "authorship_tag": "ABX9TyNVthXqK4RdXMCHwd4mAYV2",
   "collapsed_sections": [],
   "machine_shape": "hm",
   "mount_file_id": "1EjZv7OiFufJ3HAZn4ppeuu5HPBB9lnI_",
   "provenance": []
  },
  "gpuClass": "standard",
  "kernelspec": {
   "display_name": "Python 3",
   "name": "python3"
  },
  "language_info": {
   "name": "python"
  }
 },
 "nbformat": 4,
 "nbformat_minor": 0
}
